{
  "cells": [
    {
      "cell_type": "markdown",
      "id": "stopped-scale",
      "metadata": {
        "id": "stopped-scale"
      },
      "source": [
        "# Week 2: Diving deeper into the BBC News archive\n",
        "\n",
        "Welcome! In this assignment you will be revisiting the [BBC News Classification Dataset](https://www.kaggle.com/c/learn-ai-bbc/overview), which contains 2225 examples of news articles with their respective labels. \n",
        "\n",
        "This time you will not only work with the tokenization process but you will also create a classifier using specialized layers for text data such as Embedding and GlobalAveragePooling1D.\n",
        "\n",
        "Let's get started!"
      ]
    },
    {
      "cell_type": "code",
      "execution_count": 3,
      "id": "magnetic-rebate",
      "metadata": {
        "id": "magnetic-rebate",
        "tags": [
          "graded"
        ]
      },
      "outputs": [],
      "source": [
        "import io\n",
        "import csv\n",
        "import tensorflow as tf\n",
        "import numpy as np\n",
        "from tensorflow.keras.preprocessing.text import Tokenizer\n",
        "from tensorflow.keras.preprocessing.sequence import pad_sequences\n",
        "import matplotlib.pyplot as plt"
      ]
    },
    {
      "cell_type": "markdown",
      "id": "lightweight-cambridge",
      "metadata": {
        "id": "lightweight-cambridge"
      },
      "source": [
        "You probably remember structure of the csv that contains the data from last week, but in case you need a reminder run the next cell:"
      ]
    },
    {
      "cell_type": "code",
      "execution_count": 4,
      "id": "floppy-stuff",
      "metadata": {
        "tags": [
          "graded"
        ],
        "id": "floppy-stuff",
        "outputId": "74be63b4-4d3b-4e32-cfdc-fda8269a489c",
        "colab": {
          "base_uri": "https://localhost:8080/"
        }
      },
      "outputs": [
        {
          "output_type": "stream",
          "name": "stdout",
          "text": [
            "First line (header) looks like this:\n",
            "\n",
            "category,text\n",
            "\n",
            "Each data point looks like this:\n",
            "\n",
            "tech,tv future in the hands of viewers with home theatre systems  plasma high-definition tvs  and digital video recorders moving into the living room  the way people watch tv will be radically different in five years  time.  that is according to an expert panel which gathered at the annual consumer electronics show in las vegas to discuss how these new technologies will impact one of our favourite pastimes. with the us leading the trend  programmes and other content will be delivered to viewers via home networks  through cable  satellite  telecoms companies  and broadband service providers to front rooms and portable devices.  one of the most talked-about technologies of ces has been digital and personal video recorders (dvr and pvr). these set-top boxes  like the us s tivo and the uk s sky+ system  allow people to record  store  play  pause and forward wind tv programmes when they want.  essentially  the technology allows for much more personalised tv. they are also being built-in to high-definition tv sets  which are big business in japan and the us  but slower to take off in europe because of the lack of high-definition programming. not only can people forward wind through adverts  they can also forget about abiding by network and channel schedules  putting together their own a-la-carte entertainment. but some us networks and cable and satellite companies are worried about what it means for them in terms of advertising revenues as well as  brand identity  and viewer loyalty to channels. although the us leads in this technology at the moment  it is also a concern that is being raised in europe  particularly with the growing uptake of services like sky+.  what happens here today  we will see in nine months to a years  time in the uk   adam hume  the bbc broadcast s futurologist told the bbc news website. for the likes of the bbc  there are no issues of lost advertising revenue yet. it is a more pressing issue at the moment for commercial uk broadcasters  but brand loyalty is important for everyone.  we will be talking more about content brands rather than network brands   said tim hanlon  from brand communications firm starcom mediavest.  the reality is that with broadband connections  anybody can be the producer of content.  he added:  the challenge now is that it is hard to promote a programme with so much choice.   what this means  said stacey jolna  senior vice president of tv guide tv group  is that the way people find the content they want to watch has to be simplified for tv viewers. it means that networks  in us terms  or channels could take a leaf out of google s book and be the search engine of the future  instead of the scheduler to help people find what they want to watch. this kind of channel model might work for the younger ipod generation which is used to taking control of their gadgets and what they play on them. but it might not suit everyone  the panel recognised. older generations are more comfortable with familiar schedules and channel brands because they know what they are getting. they perhaps do not want so much of the choice put into their hands  mr hanlon suggested.  on the other end  you have the kids just out of diapers who are pushing buttons already - everything is possible and available to them   said mr hanlon.  ultimately  the consumer will tell the market they want.   of the 50 000 new gadgets and technologies being showcased at ces  many of them are about enhancing the tv-watching experience. high-definition tv sets are everywhere and many new models of lcd (liquid crystal display) tvs have been launched with dvr capability built into them  instead of being external boxes. one such example launched at the show is humax s 26-inch lcd tv with an 80-hour tivo dvr and dvd recorder. one of the us s biggest satellite tv companies  directtv  has even launched its own branded dvr at the show with 100-hours of recording capability  instant replay  and a search function. the set can pause and rewind tv for up to 90 hours. and microsoft chief bill gates announced in his pre-show keynote speech a partnership with tivo  called tivotogo  which means people can play recorded programmes on windows pcs and mobile devices. all these reflect the increasing trend of freeing up multimedia so that people can watch what they want  when they want.\n",
            "\n"
          ]
        }
      ],
      "source": [
        "with open(\"./bbc-text.csv\", 'r') as csvfile:\n",
        "    print(f\"First line (header) looks like this:\\n\\n{csvfile.readline()}\")\n",
        "    print(f\"Each data point looks like this:\\n\\n{csvfile.readline()}\")"
      ]
    },
    {
      "cell_type": "markdown",
      "id": "bizarre-veteran",
      "metadata": {
        "id": "bizarre-veteran"
      },
      "source": [
        "As you can see, each data point is composed of the category of the news article followed by a comma and then the actual text of the article."
      ]
    },
    {
      "cell_type": "markdown",
      "id": "balanced-settle",
      "metadata": {
        "id": "balanced-settle"
      },
      "source": [
        "## Defining useful global variables\n",
        "\n",
        "Next, you will define some global variables that will be used in the unit tests after your solutions. **Please do not use these in the function body of the graded functions.** \n",
        "\n",
        "- `NUM_WORDS`: The maximum number of words to keep, based on word frequency. Defaults to 1000.\n",
        "\n",
        "\n",
        "- `EMBEDDING_DIM`: Dimension of the dense embedding, will be used in the embedding layer of the model. Defaults to 16.\n",
        "\n",
        "\n",
        "- `MAXLEN`: Maximum length of all sequences. Defaults to 120.\n",
        "\n",
        "\n",
        "- `PADDING`: Padding strategy (pad either before or after each sequence.). Defaults to 'post'.\n",
        "\n",
        "\n",
        "- `OOV_TOKEN`: Token to replace out-of-vocabulary words during text_to_sequence calls. Defaults to \"\\<OOV>\".\n",
        "\n",
        "    \n",
        "- `TRAINING_SPLIT`: Proportion of data used for training. Defaults to 0.8\n",
        "\n",
        "**For now leave them unchanged but after submitting your assignment for grading you are encouraged to come back here and play with these parameters to see the impact they have in the classification process**"
      ]
    },
    {
      "cell_type": "code",
      "execution_count": 5,
      "id": "quantitative-mauritius",
      "metadata": {
        "tags": [
          "graded"
        ],
        "id": "quantitative-mauritius"
      },
      "outputs": [],
      "source": [
        "NUM_WORDS = 1000\n",
        "EMBEDDING_DIM = 16\n",
        "MAXLEN = 120\n",
        "PADDING = 'post'\n",
        "OOV_TOKEN = \"<OOV>\"\n",
        "TRAINING_SPLIT = .8"
      ]
    },
    {
      "cell_type": "markdown",
      "id": "synthetic-beijing",
      "metadata": {
        "id": "synthetic-beijing"
      },
      "source": [
        "## Loading and pre-processing the data\n",
        "\n",
        "Now you should code the functions to remove stopwords from text and to load the data from a csv file.\n",
        "\n",
        "Since you already coded these functions for the previous week, these are provided for you."
      ]
    },
    {
      "cell_type": "code",
      "execution_count": 14,
      "id": "flying-lincoln",
      "metadata": {
        "tags": [
          "graded"
        ],
        "id": "flying-lincoln"
      },
      "outputs": [],
      "source": [
        "def remove_stopwords(sentence):\n",
        "  \"\"\"\n",
        "  Removes a list of stopwords\n",
        "    \n",
        "  Args:\n",
        "      sentence (string): sentence to remove the stopwords from\n",
        "    \n",
        "  Returns:\n",
        "       sentence (string): lowercase sentence without the stopwords\n",
        "  \"\"\"\n",
        "  # List of stopwords\n",
        "  stopwords = [\"a\", \"about\", \"above\", \"after\", \"again\", \"against\", \"all\", \"am\", \"an\", \"and\", \"any\", \"are\", \"as\", \"at\", \"be\", \"because\", \"been\", \"before\", \"being\", \"below\", \"between\", \"both\", \"but\", \"by\", \"could\", \"did\", \"do\", \"does\", \"doing\", \"down\", \"during\", \"each\", \"few\", \"for\", \"from\", \"further\", \"had\", \"has\", \"have\", \"having\", \"he\", \"he'd\", \"he'll\", \"he's\", \"her\", \"here\", \"here's\", \"hers\", \"herself\", \"him\", \"himself\", \"his\", \"how\", \"how's\", \"i\", \"i'd\", \"i'll\", \"i'm\", \"i've\", \"if\", \"in\", \"into\", \"is\", \"it\", \"it's\", \"its\", \"itself\", \"let's\", \"me\", \"more\", \"most\", \"my\", \"myself\", \"nor\", \"of\", \"on\", \"once\", \"only\", \"or\", \"other\", \"ought\", \"our\", \"ours\", \"ourselves\", \"out\", \"over\", \"own\", \"same\", \"she\", \"she'd\", \"she'll\", \"she's\", \"should\", \"so\", \"some\", \"such\", \"than\", \"that\", \"that's\", \"the\", \"their\", \"theirs\", \"them\", \"themselves\", \"then\", \"there\", \"there's\", \"these\", \"they\", \"they'd\", \"they'll\", \"they're\", \"they've\", \"this\", \"those\", \"through\", \"to\", \"too\", \"under\", \"until\", \"up\", \"very\", \"was\", \"we\", \"we'd\", \"we'll\", \"we're\", \"we've\", \"were\", \"what\", \"what's\", \"when\", \"when's\", \"where\", \"where's\", \"which\", \"while\", \"who\", \"who's\", \"whom\", \"why\", \"why's\", \"with\", \"would\", \"you\", \"you'd\", \"you'll\", \"you're\", \"you've\", \"your\", \"yours\", \"yourself\", \"yourselves\" ]\n",
        "    \n",
        "  # Sentence converted to lowercase-only\n",
        "  sentence = sentence.lower()\n",
        "\n",
        "  words = sentence.split()\n",
        "  no_words = [w for w in words if w not in stopwords]\n",
        "  sentence = \" \".join(no_words)\n",
        "\n",
        "  return sentence\n",
        "\n",
        "\n",
        "def parse_data_from_file(filename):\n",
        "  \"\"\"\n",
        "  Extracts sentences and labels from a CSV file\n",
        "    \n",
        "  Args:\n",
        "      filename (string): path to the CSV file\n",
        "    \n",
        "  Returns:\n",
        "      sentences, labels (list of string, list of string): tuple containing lists of sentences and labels\n",
        "  \"\"\"\n",
        "  sentences = []\n",
        "  labels = []\n",
        "  with open(filename, 'r') as csvfile:\n",
        "    reader = csv.reader(csvfile, delimiter=',')\n",
        "    next(reader)\n",
        "    for row in reader:\n",
        "      labels.append(row[0])\n",
        "      sentence = row[1]\n",
        "      sentence = remove_stopwords(sentence)\n",
        "      sentences.append(sentence)\n",
        "\n",
        "  return sentences, labels"
      ]
    },
    {
      "cell_type": "code",
      "execution_count": 7,
      "id": "sublime-maine",
      "metadata": {
        "tags": [
          "graded"
        ],
        "id": "sublime-maine",
        "outputId": "437cc1eb-2e31-4200-f9dc-c8a35d7fe7cd",
        "colab": {
          "base_uri": "https://localhost:8080/"
        }
      },
      "outputs": [
        {
          "output_type": "stream",
          "name": "stdout",
          "text": [
            "There are 2225 sentences in the dataset.\n",
            "\n",
            "First sentence has 436 words (after removing stopwords).\n",
            "\n",
            "There are 2225 labels in the dataset.\n",
            "\n",
            "The first 5 labels are ['tech', 'business', 'sport', 'sport', 'entertainment']\n"
          ]
        }
      ],
      "source": [
        "# Test the functions\n",
        "sentences, labels = parse_data_from_file(\"./bbc-text.csv\")\n",
        "\n",
        "print(f\"There are {len(sentences)} sentences in the dataset.\\n\")\n",
        "print(f\"First sentence has {len(sentences[0].split())} words (after removing stopwords).\\n\")\n",
        "print(f\"There are {len(labels)} labels in the dataset.\\n\")\n",
        "print(f\"The first 5 labels are {labels[:5]}\")"
      ]
    },
    {
      "cell_type": "markdown",
      "id": "consecutive-battle",
      "metadata": {
        "id": "consecutive-battle"
      },
      "source": [
        "***Expected Output:***\n",
        "\n",
        "```\n",
        "There are 2225 sentences in the dataset.\n",
        "\n",
        "First sentence has 436 words (after removing stopwords).\n",
        "\n",
        "There are 2225 labels in the dataset.\n",
        "\n",
        "The first 5 labels are ['tech', 'business', 'sport', 'sport', 'entertainment']\n",
        "```"
      ]
    },
    {
      "cell_type": "markdown",
      "id": "polished-eagle",
      "metadata": {
        "id": "polished-eagle"
      },
      "source": [
        "## Training - Validation Split\n",
        "\n",
        "Now you will code the `train_val_split()` function. Given the training split size, this function will split the full lists of sentences and labels into training and validation sentences and labels.\n",
        "\n",
        "**IMPORTANT NOTE: For all graded functions in this assignment, please do not use the global variables (e.g. `TRAINING_SPLIT`) in your solution. Instead, you should use the function parameters defined in the function header (e.g. `training_split`).**"
      ]
    },
    {
      "cell_type": "code",
      "execution_count": 8,
      "id": "small-violence",
      "metadata": {
        "tags": [
          "graded"
        ],
        "id": "small-violence"
      },
      "outputs": [],
      "source": [
        "# GRADED FUNCTIONS: train_val_split\n",
        "def train_val_split(sentences, labels, training_split):\n",
        "    \"\"\"\n",
        "    Splits the dataset into training and validation sets\n",
        "    \n",
        "    Args:\n",
        "        sentences (list of string): lower-cased sentences without stopwords\n",
        "        labels (list of string): list of labels\n",
        "        training split (float): proportion of the dataset to convert to include in the train set\n",
        "    \n",
        "    Returns:\n",
        "        train_sentences, validation_sentences, train_labels, validation_labels - lists containing the data splits\n",
        "    \"\"\"\n",
        "    \n",
        "    ### START CODE HERE\n",
        "    \n",
        "    # Compute the number of sentences that will be used for training (should be an integer)\n",
        "    train_size = 1780\n",
        "\n",
        "    # Split the sentences and labels into train/validation splits\n",
        "    train_sentences = sentences[0:train_size]\n",
        "    train_labels = labels[0:train_size]\n",
        "\n",
        "    validation_sentences = sentences[train_size:]\n",
        "    validation_labels = labels[train_size:]\n",
        "    \n",
        "    ### END CODE HERE\n",
        "    \n",
        "    return train_sentences, validation_sentences, train_labels, validation_labels"
      ]
    },
    {
      "cell_type": "code",
      "execution_count": 9,
      "id": "circular-venue",
      "metadata": {
        "tags": [
          "graded"
        ],
        "id": "circular-venue",
        "outputId": "dece50ea-0930-4046-f76d-c82066e6d5e6",
        "colab": {
          "base_uri": "https://localhost:8080/"
        }
      },
      "outputs": [
        {
          "output_type": "stream",
          "name": "stdout",
          "text": [
            "There are 1780 sentences for training.\n",
            "\n",
            "There are 1780 labels for training.\n",
            "\n",
            "There are 445 sentences for validation.\n",
            "\n",
            "There are 445 labels for validation.\n"
          ]
        }
      ],
      "source": [
        "# Test your function\n",
        "train_sentences, val_sentences, train_labels, val_labels = train_val_split(sentences, labels, TRAINING_SPLIT)\n",
        "\n",
        "print(f\"There are {len(train_sentences)} sentences for training.\\n\")\n",
        "print(f\"There are {len(train_labels)} labels for training.\\n\")\n",
        "print(f\"There are {len(val_sentences)} sentences for validation.\\n\")\n",
        "print(f\"There are {len(val_labels)} labels for validation.\")"
      ]
    },
    {
      "cell_type": "markdown",
      "id": "recovered-graph",
      "metadata": {
        "id": "recovered-graph"
      },
      "source": [
        "***Expected Output:***\n",
        "\n",
        "```\n",
        "There are 1780 sentences for training.\n",
        "\n",
        "There are 1780 labels for training.\n",
        "\n",
        "There are 445 sentences for validation.\n",
        "\n",
        "There are 445 labels for validation.\n",
        "```"
      ]
    },
    {
      "cell_type": "markdown",
      "id": "crude-mozambique",
      "metadata": {
        "id": "crude-mozambique"
      },
      "source": [
        "## Tokenization - Sequences and padding\n",
        "\n",
        "Now that you have sets for training and validation it is time for you to begin the tokenization process.\n",
        "\n",
        "Begin by completing the `fit_tokenizer` function below. This function should return a [Tokenizer](https://www.tensorflow.org/api_docs/python/tf/keras/preprocessing/text/Tokenizer) that has been fitted to the training sentences."
      ]
    },
    {
      "cell_type": "code",
      "execution_count": 10,
      "id": "recreational-prince",
      "metadata": {
        "lines_to_next_cell": 2,
        "tags": [
          "graded"
        ],
        "id": "recreational-prince"
      },
      "outputs": [],
      "source": [
        "# GRADED FUNCTION: fit_tokenizer\n",
        "def fit_tokenizer(train_sentences, num_words, oov_token):\n",
        "    \"\"\"\n",
        "    Instantiates the Tokenizer class on the training sentences\n",
        "    \n",
        "    Args:\n",
        "        train_sentences (list of string): lower-cased sentences without stopwords to be used for training\n",
        "        num_words (int) - number of words to keep when tokenizing\n",
        "        oov_token (string) - symbol for the out-of-vocabulary token\n",
        "    \n",
        "    Returns:\n",
        "        tokenizer (object): an instance of the Tokenizer class containing the word-index dictionary\n",
        "    \"\"\"\n",
        "    \n",
        "    ### START CODE HERE\n",
        "    \n",
        "    # Instantiate the Tokenizer class, passing in the correct values for num_words and oov_token\n",
        "    tokenizer = Tokenizer(num_words=num_words, oov_token=oov_token)\n",
        "    \n",
        "    # Fit the tokenizer to the training sentences\n",
        "    tokenizer.fit_on_texts(train_sentences)\n",
        "    \n",
        "    ### END CODE HERE\n",
        "    \n",
        "    return tokenizer"
      ]
    },
    {
      "cell_type": "code",
      "execution_count": 11,
      "id": "great-trading",
      "metadata": {
        "tags": [
          "graded"
        ],
        "id": "great-trading",
        "outputId": "dc8ee888-ef59-4e4c-de3a-7b09a8e416d5",
        "colab": {
          "base_uri": "https://localhost:8080/"
        }
      },
      "outputs": [
        {
          "output_type": "stream",
          "name": "stdout",
          "text": [
            "Vocabulary contains 27285 words\n",
            "\n",
            "<OOV> token included in vocabulary\n"
          ]
        }
      ],
      "source": [
        "# Test your function\n",
        "tokenizer = fit_tokenizer(train_sentences, NUM_WORDS, OOV_TOKEN)\n",
        "word_index = tokenizer.word_index\n",
        "\n",
        "print(f\"Vocabulary contains {len(word_index)} words\\n\")\n",
        "print(\"<OOV> token included in vocabulary\" if \"<OOV>\" in word_index else \"<OOV> token NOT included in vocabulary\")"
      ]
    },
    {
      "cell_type": "markdown",
      "id": "pressing-recipe",
      "metadata": {
        "id": "pressing-recipe"
      },
      "source": [
        "***Expected Output:***\n",
        "\n",
        "```\n",
        "Vocabulary contains 27285 words\n",
        "\n",
        "<OOV> token included in vocabulary\n",
        "```"
      ]
    },
    {
      "cell_type": "markdown",
      "id": "sweet-sentence",
      "metadata": {
        "id": "sweet-sentence"
      },
      "source": [
        "Now that the tokenizer has been fitted to the training data, you need a function that will convert each text data point into its padded sequence representation, for this complete the `seq_and_pad` function below:"
      ]
    },
    {
      "cell_type": "code",
      "execution_count": 35,
      "id": "fourth-knight",
      "metadata": {
        "tags": [
          "graded"
        ],
        "id": "fourth-knight"
      },
      "outputs": [],
      "source": [
        "# GRADED FUNCTION: seq_and_pad\n",
        "def seq_and_pad(sentences, tokenizer, padding, maxlen):\n",
        "    \"\"\"\n",
        "    Generates an array of token sequences and pads them to the same length\n",
        "    \n",
        "    Args:\n",
        "        sentences (list of string): list of sentences to tokenize and pad\n",
        "        tokenizer (object): Tokenizer instance containing the word-index dictionary\n",
        "        padding (string): type of padding to use\n",
        "        maxlen (int): maximum length of the token sequence\n",
        "    \n",
        "    Returns:\n",
        "        padded_sequences (array of int): tokenized sentences padded to the same length\n",
        "    \"\"\"    \n",
        "    ### START CODE HERE\n",
        "       \n",
        "    # Convert sentences to sequences\n",
        "    sequences = tokenizer.texts_to_sequences(sentences)\n",
        "    \n",
        "    # Pad the sequences using the correct padding and maxlen\n",
        "    padded_sequences = pad_sequences(sequences,maxlen=maxlen,padding=padding)\n",
        "\n",
        "    ### END CODE HERE\n",
        "    \n",
        "    return padded_sequences"
      ]
    },
    {
      "cell_type": "code",
      "execution_count": 36,
      "id": "separate-onion",
      "metadata": {
        "tags": [
          "graded"
        ],
        "id": "separate-onion",
        "outputId": "f6e54b17-00c2-4f42-81c7-835442436b48",
        "colab": {
          "base_uri": "https://localhost:8080/"
        }
      },
      "outputs": [
        {
          "output_type": "stream",
          "name": "stdout",
          "text": [
            "[[99, 170, 1, 1, 55, 993, 771, 1, 97, 1, 1, 139, 186, 1, 1, 1, 1, 48, 9, 907, 99, 4, 1, 347, 93, 24, 17, 140, 1, 1, 1, 584, 465, 1, 65, 1, 1, 1, 10, 935, 4, 745, 12, 857, 1, 11, 612, 1, 1, 408, 4, 1, 1, 746, 55, 551, 1, 1, 1, 144, 262, 123, 1, 809, 1, 994, 598, 12, 1, 1, 935, 1, 139, 357, 186, 1, 1, 1, 45, 69, 1, 34, 11, 2, 1, 22, 2, 1, 146, 429, 9, 153, 1, 79, 1, 449, 1, 99, 1, 85, 1, 90, 1, 60, 1, 99, 8, 1, 631, 97, 1, 99, 1, 141, 147, 433, 11, 1, 44, 56, 162, 1, 97, 1, 1, 5, 13, 9, 449, 1, 1, 13, 8, 1, 1, 444, 1, 1, 1, 585, 1, 1, 1, 782, 11, 551, 1, 1, 144, 1, 413, 858, 1, 1, 40, 1, 1, 1, 1, 1, 257, 11, 1, 90, 747, 8, 1, 1, 162, 735, 605, 1, 134, 34, 1, 1, 445, 4, 91, 947, 125, 24, 17, 22, 1, 1, 43, 1, 2, 1, 29, 43, 95, 348, 1, 43, 25, 481, 268, 1, 1, 341, 1, 312, 747, 1, 22, 1, 1, 1, 307, 772, 4, 1, 408, 1, 400, 444, 1, 3, 1, 1, 1, 1, 75, 1, 1, 1, 262, 1, 1, 13, 1, 408, 47, 892, 21, 259, 1, 358, 60, 561, 413, 3, 1, 1, 669, 1, 213, 99, 1, 99, 98, 48, 9, 333, 408, 85, 907, 1, 99, 1, 413, 551, 11, 858, 1, 44, 1, 1, 2, 527, 497, 1, 170, 586, 1, 138, 9, 333, 85, 907, 1, 1, 1, 359, 61, 1, 1, 757, 100, 269, 287, 1, 79, 638, 359, 5, 1, 772, 1, 1, 1, 1, 1, 1, 1, 1, 1, 188, 384, 1, 5, 85, 60, 561, 114, 1, 6, 1, 1, 101, 1, 27, 1, 1, 1, 111, 916, 454, 466, 3, 6, 1, 1, 465, 4, 1, 49, 85, 442, 37, 10, 1, 935, 1, 1, 36, 1, 99, 1, 893, 97, 1, 99, 1, 1, 36, 10, 1, 1, 1, 1, 1, 1, 670, 1, 1, 1, 586, 1, 1, 12, 894, 670, 65, 1, 2, 1, 1, 1, 99, 1, 948, 1, 1, 591, 1, 12, 11, 2, 248, 1, 99, 144, 1, 103, 670, 1, 1, 65, 533, 687, 1, 1, 1, 1, 497, 1, 45, 13, 1, 1, 99, 1, 687, 282, 126, 252, 1, 367, 658, 65, 1, 773, 1, 1, 156, 1, 413, 9, 13, 79, 1, 1, 783, 924, 128, 598, 1, 1, 1, 1, 1, 9, 13, 907, 85, 85], [1, 572, 234, 1, 1, 129, 1, 572, 1, 1, 688, 1, 1, 1, 1, 766, 275, 30, 1, 1, 1, 29, 1, 349, 1, 30, 800, 1, 859, 1, 1, 6, 1, 5, 1, 1, 2, 363, 192, 51, 1, 615, 1, 587, 1, 1, 1, 75, 2, 283, 6, 1, 111, 1, 1, 766, 1, 1, 471, 859, 1, 1, 1, 1, 1, 1, 1, 835, 1, 421, 6, 1, 364, 1, 6, 1, 26, 1, 203, 5, 1, 6, 1, 1, 364, 188, 6, 1, 26, 1, 1, 1, 1, 6, 1, 1, 25, 1, 1, 6, 1, 774, 1, 1, 1, 1, 1, 129, 1, 126, 321, 1, 1, 1, 859, 1, 498, 1, 6, 1, 774, 766, 4, 1, 255, 556, 1, 378, 1, 2, 1, 270, 693, 6, 1, 149, 736, 334, 1, 1, 572, 1, 1, 1, 1, 1, 1, 6, 1, 1, 1, 1, 1, 1, 1, 653, 1, 1, 576, 1, 1, 2, 363, 1, 87, 528, 819, 1, 1, 1, 623, 75, 1, 1, 1, 268, 1, 241, 37, 791, 268, 401, 6, 1, 556, 102, 14, 18, 125, 210, 1, 129, 1, 1, 1, 1, 1, 1, 1, 1], [1, 1, 1, 1, 1, 78, 4, 5, 1, 202, 451, 908, 1, 169, 131, 434, 496, 925, 1, 1, 1, 1, 1, 616, 871, 63, 48, 225, 59, 42, 606, 1, 572, 303, 1, 29, 43, 199, 1, 747, 63, 218, 1, 908, 1, 5, 439, 1, 909, 1, 44, 59, 44, 141, 141, 1, 1, 1, 1, 363, 1, 1, 93, 430, 379, 102, 163, 39, 125, 1, 1, 917, 414, 380, 434, 426, 1, 1, 1, 1, 1, 160, 485, 249, 33, 160, 373, 426, 1, 624, 200, 56, 247, 1, 439, 1, 105, 577, 26, 860, 496, 426, 616, 515, 3, 1, 66, 74, 1, 1, 617, 35, 949, 13, 26, 82, 434, 496, 1, 446, 1, 1, 253, 13, 835, 1, 182, 1, 4, 1, 242, 1, 1, 1, 1, 30, 1], [1, 304, 995, 1, 258, 974, 197, 995, 189, 304, 1, 1, 1, 496, 1, 1, 1, 258, 155, 662, 33, 1, 1, 1, 654, 130, 1, 872, 496, 1, 459, 1, 70, 662, 567, 197, 1, 557, 1, 1, 467, 4, 1, 109, 1, 520, 1, 625, 189, 250, 618, 1, 55, 1, 405, 4, 79, 975, 1, 872, 496, 197, 1, 1, 189, 327, 1, 1, 1, 337, 4, 520, 496, 12, 1, 1, 64, 1, 666, 1, 2, 149, 1, 1, 46, 974, 1, 304, 534, 225, 67, 1, 1, 659, 381, 382, 250, 155, 1, 1, 1, 1, 578, 1, 1, 1, 1, 68, 1, 1, 304, 1, 258, 1, 1, 1, 1, 520, 1, 1, 1, 1, 1, 189, 974, 1, 1, 1, 619, 1, 225, 619, 1, 1, 1, 996, 101, 1, 1, 1, 1, 111, 1, 496, 18, 197, 1, 258, 299, 294, 1, 1, 225, 694, 1, 1, 1, 1, 1, 1, 836, 1, 1, 618, 683, 1, 1, 1, 542, 683, 1, 249, 1, 683, 1, 1, 683, 1, 1, 683, 1, 1, 683, 1, 1, 683, 1, 1, 1, 683, 1, 1, 683, 995, 1, 683, 1, 1, 683, 1, 1, 683, 1, 1, 1, 683, 1, 1, 683, 1, 1, 1, 1, 683, 1, 1, 683, 249, 557, 405, 683, 1, 1, 683, 1, 1, 683, 1, 619, 1, 683, 1, 1, 1, 683, 1, 1, 1, 683, 619, 1, 1, 683, 1, 1, 683, 578, 1, 683, 1, 1, 683, 1, 1, 683, 1, 1, 683, 1, 1, 683, 1, 1, 683, 1, 1, 683, 1, 1, 1, 683, 1, 1, 1, 254, 659, 381, 382, 250], [1, 2, 1, 1, 671, 216, 1, 2, 1, 1, 1, 1, 1, 1, 1, 1, 1, 1, 1, 837, 1, 46, 12, 11, 671, 216, 672, 183, 689, 1, 1, 659, 1, 118, 140, 1, 1, 1, 1, 1, 1, 335, 1, 56, 39, 328, 1, 373, 162, 1, 14, 77, 2, 46, 12, 220, 1, 155, 143, 1, 1, 1, 1, 70, 269, 660, 1, 1, 1, 1, 69, 93, 1, 1, 1, 1, 1, 1, 1, 1, 737, 599, 1, 1, 2, 1, 671, 216, 1, 1, 548, 248, 663, 289, 607, 11, 39, 332, 276, 1, 1, 1, 1, 459, 499, 1, 1, 2, 1, 183, 1, 1, 1, 1, 663, 659, 1, 1, 1, 482, 1, 1, 28, 1, 1, 1, 1, 1, 1, 2, 1, 1, 673, 350, 132, 1, 1, 1, 1, 1, 152, 1, 1, 1, 1, 1, 1, 1, 908, 1, 1, 1, 1, 1, 600, 1, 861, 217, 1, 2, 27, 1, 58, 1, 601, 3, 1, 1, 213, 1, 1, 1, 87, 11, 936, 290, 1, 1, 1, 1, 568, 1, 1, 263, 1, 1, 1, 568, 1, 1, 10, 562, 263, 1, 1, 1, 1], [187, 1, 35, 1, 1, 284, 187, 3, 587, 1, 1, 316, 277, 1, 34, 730, 1, 588, 38, 1, 820, 1, 773, 57, 2, 1, 567, 1, 3, 38, 2, 1, 1, 1, 340, 1, 55, 6, 1, 30, 587, 316, 1, 237, 1, 252, 784, 308, 1, 1, 1, 27, 295, 714, 1, 6, 187, 3, 6, 1, 277, 731, 29, 43, 199, 112, 2, 445, 358, 6, 187, 2, 1, 19, 2, 237, 1, 1, 1, 89, 873, 688, 316, 277, 1, 34, 730, 1, 247, 820, 820, 1, 6, 187, 29, 57, 38, 684, 78, 684, 587, 684, 1, 216, 447, 194, 7, 748, 1, 1, 1, 1, 1, 1, 1, 103, 156, 1, 120, 15, 188, 308, 1, 1, 1, 27, 295, 714, 1, 1, 313, 1, 1, 1, 6, 187, 2, 1, 1, 199, 92, 2, 1, 358, 38, 5, 1, 205, 1, 335, 31, 9, 910, 284, 187, 2, 153, 738, 498, 114, 449, 89, 8, 36, 1, 1, 21, 288, 157, 845, 1, 1, 6, 187, 3, 316, 1, 1, 911, 720, 1, 1, 1, 838, 76, 1, 7, 54, 7, 243, 202, 385, 1, 29, 57, 567, 6, 187, 620, 247, 1, 1, 279, 1, 1, 862, 1, 1, 674, 263, 1, 1, 57, 18, 430, 379, 152, 35, 38, 406, 100, 1, 1, 500, 1, 2, 5, 500, 1, 6, 83, 2, 500, 1, 6, 187, 3, 57, 113, 720, 1, 8, 910, 60, 206, 1, 5, 1, 27, 1, 1, 1, 1, 1, 200, 749, 1, 1, 31, 1, 385, 1, 220, 1, 208, 772, 329, 1, 195, 739, 1, 115, 1, 510, 1, 284, 187, 1, 1, 445, 639, 106, 645, 1, 1, 57, 2, 1, 292, 911, 1, 1, 300, 1, 195, 1, 221, 1, 1, 357, 715, 57, 1, 68, 64, 42, 54, 12, 127, 4, 212, 1, 296, 1, 4, 1, 1, 1, 714, 254, 80, 725, 64, 1, 54, 54, 1, 89, 200, 38, 54, 542, 1, 846, 1, 3, 284, 187, 2, 773, 445, 1, 368, 3, 1, 1, 25, 449, 1, 89, 1, 1, 6, 187, 2, 510, 567, 606, 6, 1, 3, 284, 187, 1, 1, 1, 510, 445, 259, 318, 1, 373, 131, 4, 1, 435, 292, 1, 81, 322], [83, 1, 517, 775, 792, 436, 83, 223, 517, 107, 52, 54, 127, 640, 1, 1, 592, 43, 2, 385, 1, 1, 1, 1, 53, 6, 83, 4, 959, 1, 92, 107, 918, 1, 640, 101, 77, 6, 83, 194, 1, 501, 517, 127, 511, 1, 1, 505, 1, 675, 5, 1, 587, 228, 54, 1, 937, 244, 86, 46, 88, 1, 78, 4, 1, 54, 558, 1, 54, 160, 4, 1, 1, 77, 1, 19, 223, 335, 31, 369, 1, 640, 19, 632, 827, 252, 1, 320, 113, 1, 731, 1, 147, 101, 1, 164, 918, 4, 8, 1, 1, 997, 1, 1, 252, 1, 693, 252, 6, 1, 3, 431, 2, 445, 358, 2, 351, 1, 669, 486, 1, 19, 640, 1, 15, 1, 54, 156, 92, 107, 918, 801, 731, 35, 535, 1, 1, 436, 83, 1, 1, 1, 1, 1, 640, 179, 59, 38, 19, 1, 863, 707, 474, 181, 54, 293, 24, 1, 1, 112, 7, 858], [1, 695, 1, 1, 155, 1, 1, 1, 1, 1, 1, 1, 1, 1, 1, 175, 324, 150, 1, 1, 1, 1, 1, 1, 143, 14, 112, 164, 107, 73, 92, 386, 94, 46, 12, 1, 960, 839, 486, 264, 59, 50, 338, 70, 45, 1, 1, 1, 1, 1, 1, 152, 35, 592, 1, 548, 1, 64, 1, 299, 127, 1, 1, 1, 1, 1, 1, 1, 150, 143, 459, 1, 1, 646, 73, 92, 73, 92, 1, 1, 234, 1, 1, 1, 674, 1, 1, 264, 1, 1, 1, 3, 2, 1, 1, 1, 15, 44, 287, 1, 1, 11, 79, 1, 101, 33, 2, 1, 115, 56, 1, 2, 1, 1, 15, 1, 750, 468, 21, 120, 15, 1, 1], [1, 1, 304, 1, 74, 925, 1, 1, 4, 26, 121, 1, 342, 352, 1, 467, 1, 5, 254, 76, 1, 1, 641, 559, 183, 80, 339, 1, 983, 995, 1, 431, 387, 7, 109, 1, 116, 4, 168, 467, 2, 1, 258, 264, 1, 1, 995, 132, 434, 1, 1, 3, 2, 1, 546, 31, 33, 606, 387, 7, 109, 984, 74, 2, 1, 1, 1, 1, 1, 124, 1, 1, 1, 1, 74, 925, 339, 35, 1, 699, 353, 2, 1, 1, 183, 46, 88, 1, 1, 1, 314, 647, 793, 1, 2, 7, 1, 352, 1, 415, 847, 516, 125, 1, 1, 352, 1, 20, 258, 150], [14, 217, 1, 5, 296, 1, 150, 217, 1, 601, 52, 5, 1, 443, 296, 28, 1, 1, 1, 3, 29, 11, 99, 65, 1, 402, 1, 1, 1, 1, 343, 120, 15, 66, 44, 93, 108, 7, 109, 29, 1, 358, 1, 337, 1, 1, 28, 31, 11, 1, 1, 1, 1, 52, 1, 1, 1, 1, 22, 11, 895, 52, 3, 102, 28, 1, 1, 655, 1, 1, 94, 1, 1, 93, 502, 217, 1, 332, 1, 290, 1, 1, 1, 1, 1, 11, 22, 1, 1, 1, 1, 730, 1, 176, 1, 1, 615, 1, 1, 155, 1, 840, 1, 217, 1, 28, 1, 1, 1, 1, 1, 1, 1, 1, 1, 1, 34, 1, 1, 1, 1, 1, 1, 179, 59, 907, 26, 1, 1, 1, 3, 28, 60, 1, 1, 2, 60, 1]]\n",
            "[[454 466   3 ... 907  85  85]\n",
            " [  1   6   1 ...   1   1   1]\n",
            " [925   1   1 ...   1  30   1]\n",
            " ...\n",
            " [  1 155   1 ...  15   1   1]\n",
            " [  1   1 304 ...   0   0   0]\n",
            " [  1   3  29 ...   2  60   1]]\n",
            "[[1, 1, 112, 24, 225, 276, 1, 132, 1, 1, 3, 4, 112, 24, 1, 61, 28, 493, 1, 673, 903, 3, 1, 1, 1, 26, 5, 1, 1, 66, 2, 1, 218, 1, 1, 1, 498, 1, 136, 4, 364, 1, 3, 10, 1, 317, 1, 1, 2, 527, 1, 18, 328, 28, 1, 1, 326, 1, 1, 891, 1, 1, 1, 3, 301, 353, 1, 1, 508, 1, 1, 1, 568, 1, 7, 109, 642, 557, 1, 276, 1, 1, 1, 1, 37, 1, 76, 1, 289, 28, 1, 505, 1, 28, 51, 10, 221, 1, 1, 1, 1, 1, 626, 268, 1, 16, 80, 1, 1, 1, 1, 1, 499, 311, 26, 1, 626, 1, 72, 1, 72, 1, 301, 1, 1, 28, 1, 136, 776, 1, 1, 1, 326, 455, 1, 1, 680, 1, 1, 673, 903, 1, 1, 271, 422, 289, 1, 8, 1, 202, 28, 493, 1, 1, 151, 23, 786, 527, 1, 1], [33, 75, 1, 1, 1, 186, 33, 75, 1, 474, 175, 1, 9, 233, 1, 427, 170, 67, 51, 723, 245, 247, 67, 1, 109, 1, 1, 1, 1, 9, 1, 461, 1, 1, 151, 51, 53, 334, 1, 1, 9, 82, 304, 1, 1, 772, 1, 1, 186, 33, 4, 1, 1, 2, 1, 82, 1, 51, 1, 9, 115, 1, 1, 1, 619, 1, 1, 484, 467, 1, 1, 1, 1, 1, 1, 1, 1, 1, 1, 33, 3, 1, 1, 1, 2, 1, 1, 1, 1, 9, 487, 557, 1, 137, 1, 9, 9, 1, 1, 47, 5, 772, 1, 20, 120, 15, 85, 27, 1, 67, 9, 1, 1, 33, 4, 414, 1, 39, 1, 1, 1, 978, 2, 414, 423, 1, 414, 13, 1, 1, 1, 1, 4, 281, 1, 34, 978, 2, 157, 661, 1, 1, 3, 395, 1, 3, 1, 1, 4, 25, 287, 1, 100, 209, 33, 583, 208, 9, 287, 1, 100, 304, 100, 1, 67, 1, 12, 1, 163, 27, 1, 155], [1, 113, 1, 410, 990, 921, 1, 160, 22, 4, 1, 657, 1, 13, 1, 89, 55, 313, 544, 1, 3, 1, 574, 146, 701, 793, 2, 1, 1, 146, 1, 340, 6, 1, 4, 1, 113, 471, 3, 167, 1, 725, 22, 456, 1, 1, 563, 1, 78, 4, 281, 113, 316, 1, 1, 3, 57, 843, 383, 561, 312, 678, 57, 542, 389, 3, 94, 1, 561, 38, 19, 407, 566, 516, 24, 4, 5, 45, 1, 720, 316, 12, 1, 1, 55, 313, 3, 1, 477, 772, 231, 1, 1, 22, 1, 423, 696, 13, 188, 1, 89, 785, 43, 12, 2, 1, 1, 3, 167, 1, 169, 677, 89, 1, 1, 1, 456, 696, 5, 233, 1, 1, 3, 4, 1, 146, 967, 1, 1, 1, 9, 1, 115, 61, 89, 1, 115, 411, 13, 1, 122, 89, 55, 313, 862, 93, 7, 1, 720, 1, 102, 1, 471, 8, 1, 406, 720, 784, 1, 1, 312, 115, 89, 253, 1, 89, 1, 1, 1, 1, 1, 1, 81, 784, 3, 575, 1, 55, 1, 177, 388, 1, 3, 1, 58, 38, 1, 316, 636, 1, 1, 1, 63, 55, 216, 2, 1, 1, 1, 1, 1, 146, 6, 187, 3, 131, 44, 1, 346, 20, 2, 1, 1, 406, 309, 1, 146, 1, 131, 2, 1, 1, 1, 389, 555, 1, 1, 156, 6, 1, 1, 1, 131, 2, 1, 1, 720, 1, 1, 37, 1, 1, 1, 37, 1, 180, 157, 91, 643, 526, 123, 413, 3, 1, 1, 314, 647, 793, 1, 1, 1, 1, 1, 1, 464, 3, 6, 187, 2, 738, 596, 25, 1, 1, 22], [1, 4, 1, 117, 1, 1, 4, 1, 1, 117, 1, 7, 1, 1, 135, 1, 7, 109, 71, 537, 615, 1, 896, 1, 416, 323, 125, 255, 4, 21, 1, 155, 416, 641, 918, 537, 1, 15, 31, 200, 1, 1, 3, 537, 132, 349, 1, 1, 1, 425, 2, 1, 364, 21, 1, 391, 2, 1, 1, 364, 39, 24, 379, 1, 1, 391, 2, 20, 153, 18, 687, 461, 402, 485, 1, 1, 217, 1, 117, 323, 125, 255, 1, 1, 537, 20, 153, 50, 641, 461, 45, 1, 559, 171, 12, 950, 1, 1, 1, 2, 569, 183, 1, 547, 1, 697, 1, 255, 1, 1, 88, 1, 14, 1, 1, 7, 109, 1, 35, 64, 10, 562, 1, 460, 1, 87, 1, 329, 68, 141, 557, 1, 685, 1, 1, 1, 117, 10, 562, 1, 1, 882, 1, 816, 143, 127, 117, 1, 1, 537, 85, 410, 117, 668, 3, 1, 120, 15, 1, 1, 1, 398, 34, 643, 1, 1, 1, 157, 85, 1, 645, 1, 1, 839, 188, 4, 368, 169, 877, 537, 8, 1, 1, 7, 1, 1], [1, 1, 20, 46, 18, 1, 371, 1, 93, 1, 70, 20, 1, 642, 175, 64, 371, 71, 16, 685, 1, 416, 76, 171, 386, 1, 1, 20, 46, 12, 425, 2, 614, 1, 1, 882, 548, 1, 1, 1, 1, 1, 1, 1, 908, 1, 20, 46, 18, 1, 1, 1, 69, 1, 1, 1, 1, 233, 10, 277, 1, 537, 1, 1, 268, 39, 45, 1, 1, 324, 1, 391, 2, 69, 88, 16, 17, 569, 261, 413, 793, 226, 69, 88, 425, 2, 391, 2, 1, 16, 17, 1, 24, 131, 2, 1, 1, 1, 865, 155, 662, 1, 1, 20, 1, 1, 1, 1, 1, 341], [1, 33, 260, 1, 84, 1, 1, 1, 1, 84, 1, 225, 528, 328, 67, 1, 1, 1, 235, 416, 64, 1, 350, 1, 33, 7, 23, 480, 33, 235, 1, 295, 131, 217, 1, 1, 60, 1, 1, 1, 1, 1, 84, 811, 1, 69, 22, 67, 1, 607, 1, 1, 779, 685, 1, 1, 1, 1, 183, 477, 599, 492, 422, 14, 77, 1, 847, 1, 50, 116, 165, 50, 102, 141, 1, 1, 255, 159, 984, 492, 477, 33, 135, 311, 1, 416, 1, 1, 840, 1, 422, 1, 1, 10, 1, 209, 67, 1, 1, 1, 725, 1, 1, 16, 978, 1, 1, 84, 1, 112, 24, 301, 242, 166, 1, 1, 1, 69, 1, 23, 190, 33, 7, 311, 1, 1, 1, 1, 1, 1, 1, 1, 1, 1, 33, 62, 607, 1, 1, 1, 84, 422, 77, 87, 40, 582, 1, 1, 1, 1, 28, 422, 166, 17, 1, 1, 798, 69, 1, 7, 269, 1, 1, 71, 171, 584, 235, 1, 1, 37, 1, 209, 186, 67, 1, 67, 235, 34, 1, 1, 14, 108, 24, 22, 49, 67, 1, 533, 955, 153, 844, 1, 171, 140, 293, 154, 286, 818, 1], [1, 152, 1, 1, 1, 1, 659, 1, 1, 19, 113, 885, 1, 280, 315, 702, 580, 1, 46, 1, 1, 1, 1, 81, 1, 1, 1, 1, 148, 1, 1, 564, 420, 1, 1, 1, 1, 1, 1, 1, 1, 50, 1, 764, 1, 1, 1, 103, 1, 1, 167, 1, 1, 1, 1, 2, 1, 1, 1, 183, 1, 14, 77, 242, 330, 16, 367, 360, 1, 1, 650, 140, 315, 702, 580, 1, 1, 467, 1, 337, 1, 1, 3, 46, 1, 1, 1, 1, 1, 521, 1, 533, 1, 1, 1, 314, 1, 1, 377, 452, 814, 1, 1, 1, 1, 1, 1, 848, 89, 1, 174, 1, 1, 564, 1, 8, 1, 1, 1, 521, 1, 1, 619, 1, 3, 1, 1, 1, 266, 100, 452, 1, 1, 1, 1, 1, 1, 1, 2, 1, 1, 814], [977, 1, 261, 153, 1, 18, 97, 817, 1, 20, 2, 1, 954, 1, 1, 1, 2, 1, 1, 44, 393, 1, 1, 1, 69, 1, 1, 1, 1, 1, 1, 1, 1, 527, 1, 1, 1, 764, 70, 817, 18, 1, 1, 1, 1, 8, 643, 287, 146, 637, 1, 1, 1, 1, 1, 97, 817, 482, 1, 1, 1, 1, 1, 982, 1, 442, 1, 1, 9, 166, 1, 1, 1, 1, 1, 271, 1, 1, 1, 289, 1, 977, 1, 13, 817, 711, 1, 1, 1, 393, 1, 1, 1, 1, 1, 2, 69, 817, 1, 1, 1, 1, 1, 1, 1, 44, 943, 1, 825, 351, 664, 950, 1, 1, 486, 69, 1, 1, 369, 10, 935, 1, 20, 2, 1, 1, 390, 643, 287, 146, 1, 1, 643, 1, 682, 224, 1, 1, 1, 1, 1, 1, 1, 287, 146, 1, 1, 1, 1, 1, 1, 1, 1, 1, 1, 1, 1, 1, 457, 1, 97, 817, 1, 1, 1, 1, 1, 20, 153, 1, 1, 1, 20, 1, 169, 1, 11, 3, 1, 1, 213, 1, 1, 1, 954, 771, 1, 1, 16, 153, 20, 2, 1, 1, 1, 1, 16, 1, 1, 527, 1, 1, 1, 1, 90, 1, 442, 24, 76, 16, 1, 153, 1, 764, 950, 387, 73, 1, 1, 290, 116, 817, 10, 153, 3, 1, 1, 1, 1, 1, 1, 20, 1, 1, 2, 1, 1, 1, 1, 1, 1, 1, 1, 1, 1, 1, 20, 2, 1, 1], [1, 98, 755, 99, 1, 711, 94, 1, 98, 1, 10, 343, 11, 1, 711, 1, 1, 12, 1, 1, 1, 1, 1, 464, 131, 1, 1, 1, 1, 53, 358, 1, 1, 1, 98, 2, 427, 941, 1, 1, 403, 1, 1, 16, 93, 1, 1, 21, 548, 343, 1, 337, 1, 10, 343, 1, 1, 510, 1, 1, 1, 1, 464, 131, 3, 394, 1, 849, 1, 1, 1, 1, 1, 343, 711, 151, 1, 1, 16, 93, 1, 246, 5, 513, 1, 1, 1, 1, 792, 17, 1, 1, 1, 300, 565, 1, 328, 22, 1, 1, 892, 1, 1, 5, 138, 1, 638, 1, 620, 358, 1, 1, 1, 1, 3, 1, 345, 1, 1, 1, 831, 1, 1, 464, 1, 5, 288, 1, 1, 792, 1, 1, 2, 358, 1, 1, 99, 588, 343, 11, 1, 81, 123, 1, 1, 1, 1, 951, 1, 343], [11, 99, 668, 734, 1, 11, 634, 444, 4, 818, 1, 99, 668, 1, 734, 1, 1, 314, 1, 1, 4, 1, 1, 1, 948, 121, 65, 1, 888, 1, 485, 250, 554, 1, 1, 1, 1, 1, 37, 404, 1, 835, 417, 1, 1, 1, 1, 512, 1, 1, 736, 1, 1, 1, 32, 601, 680, 179, 1, 20, 1, 1, 885, 1, 479, 4, 5, 422, 513, 4, 254, 1, 969, 1, 484, 512, 1, 1, 127, 1, 166, 1, 37, 9, 1, 93, 72, 234, 1, 180, 1, 1, 1, 928, 1, 679, 1, 1, 1, 1, 376, 222, 189, 238, 469, 46, 1, 1, 261, 1, 512, 341, 899, 1, 814, 1, 341, 929, 1, 2, 512, 1, 1, 255, 159, 1, 18, 948, 1, 1, 112, 328, 11, 634, 551, 88, 291, 376, 610, 1, 755, 499, 875, 1, 1, 1, 1, 1, 138, 1, 1, 755, 20, 331, 1, 1]]\n",
            "[[364   1   3 ... 527   1   1]\n",
            " [  1   2   1 ...  27   1 155]\n",
            " [406 720 784 ...   1   1  22]\n",
            " ...\n",
            " [  1   1 643 ...   2   1   1]\n",
            " [358   1   1 ... 951   1 343]\n",
            " [  1   1  37 ... 331   1   1]]\n",
            "Padded training sequences have shape: (1780, 120)\n",
            "\n",
            "Padded validation sequences have shape: (445, 120)\n"
          ]
        }
      ],
      "source": [
        "# Test your function\n",
        "train_padded_seq = seq_and_pad(train_sentences, tokenizer, PADDING, MAXLEN)\n",
        "val_padded_seq = seq_and_pad(val_sentences, tokenizer, PADDING, MAXLEN)\n",
        "\n",
        "\n",
        "print(f\"Padded training sequences have shape: {train_padded_seq.shape}\\n\")\n",
        "print(f\"Padded validation sequences have shape: {val_padded_seq.shape}\")"
      ]
    },
    {
      "cell_type": "markdown",
      "id": "sufficient-locator",
      "metadata": {
        "id": "sufficient-locator"
      },
      "source": [
        "***Expected Output:***\n",
        "\n",
        "```\n",
        "Padded training sequences have shape: (1780, 120)\n",
        "\n",
        "Padded validation sequences have shape: (445, 120)\n",
        "```"
      ]
    },
    {
      "cell_type": "markdown",
      "id": "familiar-reform",
      "metadata": {
        "id": "familiar-reform"
      },
      "source": [
        "Finally you need to tokenize the labels. For this complete the `tokenize_labels` function below.\n",
        "\n",
        "A couple of things to note:\n",
        "- You should fit the tokenizer to all the labels to avoid the case of a particular label not being present in the validation set. Since you are dealing with labels there should never be an OOV label.\n",
        "\n",
        "\n",
        "- In the previous function you used the `pad_sequences` function which returns numpy arrays. Here you will not be using it since you don't need to pad the labels so you need to make the conversion to numpy arrays yourself.\n",
        "\n",
        "\n",
        "- The argument `split_labels` refers to the labels of a particular split (train or validation). This is because the function should work independently of the split being used.\n",
        "\n",
        "\n",
        "- Using Keras' Tokenizer yields values that start at 1 rather than at 0. This will present a problem when training since Keras usually expects the labels to start at 0. To work around this issue you could use an extra neuron in the last layer of your model. However this approach is rather hacky and not very clear. Instead you will substract 1 from every value of the labels that the function returns. Remember that when using numpy arrays you can simply do something like `np.array - 1` to accomplish this since numpy allows for vectorized operations."
      ]
    },
    {
      "cell_type": "code",
      "execution_count": 47,
      "id": "active-objective",
      "metadata": {
        "id": "active-objective",
        "lines_to_next_cell": 2,
        "tags": [
          "graded"
        ]
      },
      "outputs": [],
      "source": [
        "# GRADED FUNCTION: tokenize_labels\n",
        "def tokenize_labels(all_labels, split_labels):\n",
        "    \"\"\"\n",
        "    Tokenizes the labels\n",
        "    \n",
        "    Args:\n",
        "        all_labels (list of string): labels to generate the word-index from\n",
        "        split_labels (list of string): labels to tokenize\n",
        "    \n",
        "    Returns:\n",
        "        label_seq_np (array of int): tokenized labels\n",
        "    \"\"\"\n",
        "    ### START CODE HERE\n",
        "    \n",
        "    # Instantiate the Tokenizer (no additional arguments needed)\n",
        "    label_tokenizer = Tokenizer()\n",
        "    \n",
        "    # Fit the tokenizer on all the labels\n",
        "    label_tokenizer.fit_on_texts(all_labels)\n",
        "    \n",
        "    # Convert labels to sequences\n",
        "    label_seq = tokenizer.texts_to_sequences(split_labels)\n",
        "    \n",
        "    # Convert sequences to a numpy array. Don't forget to substact 1 from every entry in the array!\n",
        "    label_seq_np = np.array(label_seq)\n",
        "    \n",
        "    ### END CODE HERE\n",
        "    \n",
        "    return label_seq_np"
      ]
    },
    {
      "cell_type": "code",
      "execution_count": 48,
      "id": "numerical-certificate",
      "metadata": {
        "tags": [
          "graded"
        ],
        "id": "numerical-certificate",
        "outputId": "3be5e19a-2749-45b4-f113-ac0efba4e2da",
        "colab": {
          "base_uri": "https://localhost:8080/"
        }
      },
      "outputs": [
        {
          "output_type": "stream",
          "name": "stdout",
          "text": [
            "First 5 labels of the training set should look like this:\n",
            "[[  1]\n",
            " [147]\n",
            " [644]\n",
            " [644]\n",
            " [782]]\n",
            "\n",
            "First 5 labels of the validation set should look like this:\n",
            "[[782]\n",
            " [  1]\n",
            " [  1]\n",
            " [644]\n",
            " [644]]\n",
            "\n",
            "Tokenized labels of the training set have shape: (1780, 1)\n",
            "\n",
            "Tokenized labels of the validation set have shape: (445, 1)\n",
            "\n"
          ]
        }
      ],
      "source": [
        "# Test your function\n",
        "train_label_seq = tokenize_labels(labels, train_labels)\n",
        "val_label_seq = tokenize_labels(labels, val_labels)\n",
        "\n",
        "print(f\"First 5 labels of the training set should look like this:\\n{train_label_seq[:5]}\\n\")\n",
        "print(f\"First 5 labels of the validation set should look like this:\\n{val_label_seq[:5]}\\n\")\n",
        "print(f\"Tokenized labels of the training set have shape: {train_label_seq.shape}\\n\")\n",
        "print(f\"Tokenized labels of the validation set have shape: {val_label_seq.shape}\\n\")"
      ]
    },
    {
      "cell_type": "markdown",
      "id": "lasting-rescue",
      "metadata": {
        "id": "lasting-rescue"
      },
      "source": [
        "***Expected Output:***\n",
        "\n",
        "```\n",
        "First 5 labels of the training set should look like this:\n",
        "[[3]\n",
        " [1]\n",
        " [0]\n",
        " [0]\n",
        " [4]]\n",
        "\n",
        "First 5 labels of the validation set should look like this:\n",
        "[[4]\n",
        " [3]\n",
        " [2]\n",
        " [0]\n",
        " [0]]\n",
        "\n",
        "Tokenized labels of the training set have shape: (1780, 1)\n",
        "\n",
        "Tokenized labels of the validation set have shape: (445, 1)\n",
        "```"
      ]
    },
    {
      "cell_type": "markdown",
      "id": "devoted-helen",
      "metadata": {
        "id": "devoted-helen"
      },
      "source": [
        "## Selecting the model for text classification\n",
        "\n",
        "Now that the data is ready to be fed a Neural Network it is time for you to define the model that will classify each text as being part of a certain category. \n",
        "\n",
        "For this complete the `create_model` below. \n",
        "\n",
        "A couple of things to keep in mind:\n",
        "\n",
        "- Notice that this function has three parameters, all of which are meant to be passed to an [Embedding](https://www.tensorflow.org/api_docs/python/tf/keras/layers/Embedding) layer, which is what you will probably use as a first layer for your model.\n",
        "\n",
        "\n",
        "- The last layer should be a Dense layer with 5 units (since there are 5 categories) with a softmax activation.\n",
        "\n",
        "\n",
        "- You should also compile your model using an appropiate loss function and optimizer.\n",
        "\n",
        "\n",
        "- You can use any architecture you want but keep in mind that this problem doesn't need many layers to be solved successfully. You don't need any layers beside Embedding, [GlobalAveragePooling1D](https://www.tensorflow.org/api_docs/python/tf/keras/layers/GlobalAveragePooling1D) and Dense layers but feel free to try out different architectures.\n",
        "\n",
        "\n",
        "- **To pass this graded function your model should reach at least a 95% training accuracy and a 90% validation accuracy in under 30 epochs.**"
      ]
    },
    {
      "cell_type": "code",
      "execution_count": 56,
      "id": "little-bahrain",
      "metadata": {
        "id": "little-bahrain",
        "tags": [
          "graded"
        ]
      },
      "outputs": [],
      "source": [
        "# GRADED FUNCTION: create_model\n",
        "def create_model(num_words, embedding_dim, maxlen):\n",
        "    \"\"\"\n",
        "    Creates a text classifier model\n",
        "    \n",
        "    Args:\n",
        "        num_words (int): size of the vocabulary for the Embedding layer input\n",
        "        embedding_dim (int): dimensionality of the Embedding layer output\n",
        "        maxlen (int): length of the input sequences\n",
        "    \n",
        "    Returns:\n",
        "        model (tf.keras Model): the text classifier model\n",
        "    \"\"\"\n",
        "    \n",
        "    tf.random.set_seed(123)\n",
        "    \n",
        "    ### START CODE HERE\n",
        "    \n",
        "    model = tf.keras.Sequential([\n",
        "        tf.keras.layers.Embedding(num_words, embedding_dim, input_length=maxlen),\n",
        "        tf.keras.layers.GlobalAveragePooling1D(),\n",
        "        tf.keras.layers.Dense(16,activation = 'relu'),\n",
        "        tf.keras.layers.Dense(1,activation = 'sigmoid')\n",
        "    ])\n",
        "    \n",
        "    model.compile(loss='categorical_crossentropy',\n",
        "                  optimizer='adam',\n",
        "                  metrics=['accuracy'])\n",
        "\n",
        "    ### END CODE HERE\n",
        "\n",
        "    return model\n"
      ]
    },
    {
      "cell_type": "code",
      "execution_count": 57,
      "id": "resident-productivity",
      "metadata": {
        "tags": [],
        "id": "resident-productivity",
        "outputId": "cedfbd51-5187-4a5f-c1aa-082dcb98b7e6",
        "colab": {
          "base_uri": "https://localhost:8080/"
        }
      },
      "outputs": [
        {
          "output_type": "stream",
          "name": "stdout",
          "text": [
            "Epoch 1/30\n",
            "56/56 [==============================] - 2s 13ms/step - loss: 0.0000e+00 - accuracy: 0.3629 - val_loss: 0.0000e+00 - val_accuracy: 0.3865\n",
            "Epoch 2/30\n",
            "56/56 [==============================] - 0s 4ms/step - loss: 0.0000e+00 - accuracy: 0.3629 - val_loss: 0.0000e+00 - val_accuracy: 0.3865\n",
            "Epoch 3/30\n",
            "56/56 [==============================] - 0s 4ms/step - loss: 0.0000e+00 - accuracy: 0.3629 - val_loss: 0.0000e+00 - val_accuracy: 0.3865\n",
            "Epoch 4/30\n",
            "56/56 [==============================] - 0s 5ms/step - loss: 0.0000e+00 - accuracy: 0.3629 - val_loss: 0.0000e+00 - val_accuracy: 0.3865\n",
            "Epoch 5/30\n",
            "56/56 [==============================] - 0s 4ms/step - loss: 0.0000e+00 - accuracy: 0.3629 - val_loss: 0.0000e+00 - val_accuracy: 0.3865\n",
            "Epoch 6/30\n",
            "56/56 [==============================] - 0s 7ms/step - loss: 0.0000e+00 - accuracy: 0.3629 - val_loss: 0.0000e+00 - val_accuracy: 0.3865\n",
            "Epoch 7/30\n",
            "56/56 [==============================] - 0s 3ms/step - loss: 0.0000e+00 - accuracy: 0.3629 - val_loss: 0.0000e+00 - val_accuracy: 0.3865\n",
            "Epoch 8/30\n",
            "56/56 [==============================] - 0s 4ms/step - loss: 0.0000e+00 - accuracy: 0.3629 - val_loss: 0.0000e+00 - val_accuracy: 0.3865\n",
            "Epoch 9/30\n",
            "56/56 [==============================] - 0s 3ms/step - loss: 0.0000e+00 - accuracy: 0.3629 - val_loss: 0.0000e+00 - val_accuracy: 0.3865\n",
            "Epoch 10/30\n",
            "56/56 [==============================] - 0s 4ms/step - loss: 0.0000e+00 - accuracy: 0.3629 - val_loss: 0.0000e+00 - val_accuracy: 0.3865\n",
            "Epoch 11/30\n",
            "56/56 [==============================] - 0s 4ms/step - loss: 0.0000e+00 - accuracy: 0.3629 - val_loss: 0.0000e+00 - val_accuracy: 0.3865\n",
            "Epoch 12/30\n",
            "56/56 [==============================] - 0s 4ms/step - loss: 0.0000e+00 - accuracy: 0.3629 - val_loss: 0.0000e+00 - val_accuracy: 0.3865\n",
            "Epoch 13/30\n",
            "56/56 [==============================] - 0s 3ms/step - loss: 0.0000e+00 - accuracy: 0.3629 - val_loss: 0.0000e+00 - val_accuracy: 0.3865\n",
            "Epoch 14/30\n",
            "56/56 [==============================] - 0s 3ms/step - loss: 0.0000e+00 - accuracy: 0.3629 - val_loss: 0.0000e+00 - val_accuracy: 0.3865\n",
            "Epoch 15/30\n",
            "56/56 [==============================] - 0s 3ms/step - loss: 0.0000e+00 - accuracy: 0.3629 - val_loss: 0.0000e+00 - val_accuracy: 0.3865\n",
            "Epoch 16/30\n",
            "56/56 [==============================] - 1s 14ms/step - loss: 0.0000e+00 - accuracy: 0.3629 - val_loss: 0.0000e+00 - val_accuracy: 0.3865\n",
            "Epoch 17/30\n",
            "56/56 [==============================] - 0s 3ms/step - loss: 0.0000e+00 - accuracy: 0.3629 - val_loss: 0.0000e+00 - val_accuracy: 0.3865\n",
            "Epoch 18/30\n",
            "56/56 [==============================] - 0s 4ms/step - loss: 0.0000e+00 - accuracy: 0.3629 - val_loss: 0.0000e+00 - val_accuracy: 0.3865\n",
            "Epoch 19/30\n",
            "56/56 [==============================] - 0s 4ms/step - loss: 0.0000e+00 - accuracy: 0.3629 - val_loss: 0.0000e+00 - val_accuracy: 0.3865\n",
            "Epoch 20/30\n",
            "56/56 [==============================] - 0s 4ms/step - loss: 0.0000e+00 - accuracy: 0.3629 - val_loss: 0.0000e+00 - val_accuracy: 0.3865\n",
            "Epoch 21/30\n",
            "56/56 [==============================] - 0s 3ms/step - loss: 0.0000e+00 - accuracy: 0.3629 - val_loss: 0.0000e+00 - val_accuracy: 0.3865\n",
            "Epoch 22/30\n",
            "56/56 [==============================] - 0s 4ms/step - loss: 0.0000e+00 - accuracy: 0.3629 - val_loss: 0.0000e+00 - val_accuracy: 0.3865\n",
            "Epoch 23/30\n",
            "56/56 [==============================] - 0s 3ms/step - loss: 0.0000e+00 - accuracy: 0.3629 - val_loss: 0.0000e+00 - val_accuracy: 0.3865\n",
            "Epoch 24/30\n",
            "56/56 [==============================] - 0s 3ms/step - loss: 0.0000e+00 - accuracy: 0.3629 - val_loss: 0.0000e+00 - val_accuracy: 0.3865\n",
            "Epoch 25/30\n",
            "56/56 [==============================] - 1s 13ms/step - loss: 0.0000e+00 - accuracy: 0.3629 - val_loss: 0.0000e+00 - val_accuracy: 0.3865\n",
            "Epoch 26/30\n",
            "56/56 [==============================] - 0s 3ms/step - loss: 0.0000e+00 - accuracy: 0.3629 - val_loss: 0.0000e+00 - val_accuracy: 0.3865\n",
            "Epoch 27/30\n",
            "56/56 [==============================] - 1s 14ms/step - loss: 0.0000e+00 - accuracy: 0.3629 - val_loss: 0.0000e+00 - val_accuracy: 0.3865\n",
            "Epoch 28/30\n",
            "56/56 [==============================] - 0s 3ms/step - loss: 0.0000e+00 - accuracy: 0.3629 - val_loss: 0.0000e+00 - val_accuracy: 0.3865\n",
            "Epoch 29/30\n",
            "56/56 [==============================] - 1s 15ms/step - loss: 0.0000e+00 - accuracy: 0.3629 - val_loss: 0.0000e+00 - val_accuracy: 0.3865\n",
            "Epoch 30/30\n",
            "56/56 [==============================] - 0s 3ms/step - loss: 0.0000e+00 - accuracy: 0.3629 - val_loss: 0.0000e+00 - val_accuracy: 0.3865\n"
          ]
        }
      ],
      "source": [
        "model = create_model(NUM_WORDS, EMBEDDING_DIM, MAXLEN)\n",
        "\n",
        "history = model.fit(train_padded_seq, train_label_seq, epochs=30, validation_data=(val_padded_seq, val_label_seq))"
      ]
    },
    {
      "cell_type": "markdown",
      "id": "three-pension",
      "metadata": {
        "id": "three-pension"
      },
      "source": [
        "Once training has finished you can run the following cell to check the training and validation accuracy achieved at the end of each epoch.\n",
        "\n",
        "**Remember that to pass this assignment your model should achieve a training accuracy of at least 95% and a validation accuracy of at least 90%. If your model didn't achieve these thresholds, try training again with a different model architecture.**"
      ]
    },
    {
      "cell_type": "code",
      "execution_count": 41,
      "id": "rural-sheffield",
      "metadata": {
        "tags": [],
        "id": "rural-sheffield",
        "outputId": "67944394-f828-42f6-d41a-0db0b5efcb7b",
        "colab": {
          "base_uri": "https://localhost:8080/",
          "height": 552
        }
      },
      "outputs": [
        {
          "output_type": "display_data",
          "data": {
            "text/plain": [
              "<Figure size 432x288 with 1 Axes>"
            ],
            "image/png": "[encoded data removed]"
          },
          "metadata": {
            "needs_background": "light"
          }
        },
        {
          "output_type": "display_data",
          "data": {
            "text/plain": [
              "<Figure size 432x288 with 1 Axes>"
            ],
            "image/png": "[encoded data removed]"
          },
          "metadata": {
            "needs_background": "light"
          }
        }
      ],
      "source": [
        "def plot_graphs(history, metric):\n",
        "    plt.plot(history.history[metric])\n",
        "    plt.plot(history.history[f'val_{metric}'])\n",
        "    plt.xlabel(\"Epochs\")\n",
        "    plt.ylabel(metric)\n",
        "    plt.legend([metric, f'val_{metric}'])\n",
        "    plt.show()\n",
        "    \n",
        "plot_graphs(history, \"accuracy\")\n",
        "plot_graphs(history, \"loss\")"
      ]
    },
    {
      "cell_type": "markdown",
      "id": "material-breast",
      "metadata": {
        "id": "material-breast"
      },
      "source": [
        "**If your model passes the previously mentioned thresholds be sure to save your notebook and submit for grading before jumping onto the next section.**"
      ]
    },
    {
      "cell_type": "markdown",
      "id": "primary-tennessee",
      "metadata": {
        "id": "primary-tennessee"
      },
      "source": [
        "## Optional Exercise - Visualizing 3D Vectors\n",
        "\n",
        "As you saw on the lecture you can visualize the vectors associated with each word in the training set in a 3D space.\n",
        "\n",
        "For this run the following cells and visit [Tensorflow's Embedding Projector](https://projector.tensorflow.org/)."
      ]
    },
    {
      "cell_type": "code",
      "execution_count": null,
      "id": "awful-geneva",
      "metadata": {
        "id": "awful-geneva",
        "tags": []
      },
      "outputs": [],
      "source": [
        "# Reverse word index\n",
        "reverse_word_index = dict([(value, key) for (key, value) in word_index.items()])\n",
        "\n",
        "# Save the embedding layer\n",
        "e = model.layers[0]\n",
        "\n",
        "# Save the weights of the embedding layer\n",
        "weights = e.get_weights()[0]\n",
        "print(f\"Weights of embedding layer have shape: {weights.shape}\")"
      ]
    },
    {
      "cell_type": "markdown",
      "id": "enhanced-updating",
      "metadata": {
        "id": "enhanced-updating"
      },
      "source": [
        "***Expected Output:***\n",
        "\n",
        "```\n",
        "Weights of embedding layer have shape: (1000, 16) \n",
        "\n",
        "The above is true if global variables are not modified. \n",
        "Notice that this shape will always be (NUM_WORDS, EMBEDDING_DIM).\n",
        "\n",
        "```"
      ]
    },
    {
      "cell_type": "markdown",
      "id": "dental-outside",
      "metadata": {
        "id": "dental-outside"
      },
      "source": [
        "Now run the following cell to generate the `vecs.tsv` and `meta.tsv` files that you will upload to the embedding projector."
      ]
    },
    {
      "cell_type": "code",
      "execution_count": null,
      "id": "dominican-usage",
      "metadata": {
        "id": "dominican-usage",
        "tags": []
      },
      "outputs": [],
      "source": [
        "# Generate files for embedding visualization\n",
        "out_v = io.open('vecs.tsv', 'w', encoding='utf-8')\n",
        "out_m = io.open('meta.tsv', 'w', encoding='utf-8')\n",
        "for word_num in range(1, NUM_WORDS):\n",
        "    word = reverse_word_index[word_num]\n",
        "    embeddings = weights[word_num]\n",
        "    out_m.write(word + \"\\n\")\n",
        "    out_v.write('\\t'.join([str(x) for x in embeddings]) + \"\\n\")\n",
        "out_v.close()\n",
        "out_m.close()"
      ]
    },
    {
      "cell_type": "markdown",
      "id": "further-sunset",
      "metadata": {
        "id": "further-sunset"
      },
      "source": [
        "Before downloading these files be sure to having already submitted your assignment.\n",
        "\n",
        "\n",
        "By running the previous cell, these files are placed within your filesystem. To download them, click on the `Jupyter` logo on the upper-left side of the screen. This will take you to the Jupyter filesystem and there you can download the files by selecting them and clicking on the `Download` button."
      ]
    },
    {
      "cell_type": "markdown",
      "id": "sudden-investigator",
      "metadata": {
        "id": "sudden-investigator"
      },
      "source": [
        "**Congratulations on finishing this week's assignment!**\n",
        "\n",
        "You have successfully implemented a neural network capable of classifying text and also learned about embeddings and tokenization along the way!\n",
        "\n",
        "**Keep it up!**"
      ]
    }
  ],
  "metadata": {
    "dlai_version": "1.2.0",
    "kernelspec": {
      "display_name": "Python 3",
      "language": "python",
      "name": "python3"
    },
    "language_info": {
      "codemirror_mode": {
        "name": "ipython",
        "version": 3
      },
      "file_extension": ".py",
      "mimetype": "text/x-python",
      "name": "python",
      "nbconvert_exporter": "python",
      "pygments_lexer": "ipython3",
      "version": "3.8.8"
    },
    "colab": {
      "name": "C3W2_Assignment.ipynb",
      "provenance": []
    }
  },
  "nbformat": 4,
  "nbformat_minor": 5
}