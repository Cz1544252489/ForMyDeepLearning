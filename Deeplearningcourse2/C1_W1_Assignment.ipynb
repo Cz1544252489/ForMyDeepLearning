{
 "cells": [
  {
   "cell_type": "markdown",
   "metadata": {
    "colab_type": "text",
    "id": "ZL_6GK8qX35J"
   },
   "source": [
    "\n",
    "\n",
    "# Week 1: Multiple Output Models using the Keras Functional API\n",
    "\n",
    "Welcome to the first programming assignment of the course! Your task will be to use the Keras functional API to train a model to predict two outputs. For this lab, you will use the **[Wine Quality Dataset](https://archive.ics.uci.edu/ml/datasets/Wine+Quality)** from the **UCI machine learning repository**. It has separate datasets for red wine and white wine.\n",
    "\n",
    "Normally, the wines are classified into one of the quality ratings specified in the attributes. In this exercise, you will combine the two datasets to predict the wine quality and whether the wine is red or white solely from the attributes. \n",
    "\n",
    "You will model wine quality estimations as a regression problem and wine type detection as a binary classification problem.\n",
    "\n",
    "#### Please complete sections that are marked **(TODO)**"
   ]
  },
  {
   "cell_type": "markdown",
   "metadata": {
    "colab_type": "text",
    "id": "obdcD6urYBY9"
   },
   "source": [
    "## Imports"
   ]
  },
  {
   "cell_type": "code",
   "execution_count": 1,
   "metadata": {
    "colab": {},
    "colab_type": "code",
    "id": "t8N3pcTQ5oQI"
   },
   "outputs": [],
   "source": [
    "import tensorflow as tf\n",
    "from tensorflow.keras.models import Model\n",
    "from tensorflow.keras.layers import Dense, Input\n",
    "\n",
    "import numpy as np\n",
    "import matplotlib.pyplot as plt\n",
    "import pandas as pd\n",
    "from sklearn.model_selection import train_test_split\n",
    "from sklearn.metrics import confusion_matrix\n",
    "import itertools\n",
    "\n",
    "import utils"
   ]
  },
  {
   "cell_type": "markdown",
   "metadata": {
    "colab_type": "text",
    "id": "gQMERzWQYpgm"
   },
   "source": [
    "## Load Dataset\n",
    "\n",
    "\n",
    "You will now load the dataset from the [UCI Machine Learning Repository](https://archive.ics.uci.edu/ml/index.php) which are **already saved** in your workspace (*Note: For successful grading, please **do not** modify the default string set to the `URI` variable below*).\n",
    "\n",
    "### Pre-process the white wine dataset (TODO)\n",
    "You will add a new column named `is_red` in your dataframe to indicate if the wine is white or red. \n",
    "- In the white wine dataset, you will fill the column `is_red` with  zeros (0)."
   ]
  },
  {
   "cell_type": "code",
   "execution_count": 2,
   "metadata": {
    "colab": {},
    "colab_type": "code",
    "deletable": false,
    "id": "2qYAjKXCd4RH",
    "nbgrader": {
     "cell_type": "code",
     "checksum": "325ea195519b7035934c95bb529a062c",
     "grade": false,
     "grade_id": "cell-e5bfa0f152d9a21f",
     "locked": false,
     "schema_version": 3,
     "solution": true,
     "task": false
    }
   },
   "outputs": [],
   "source": [
    "# Please uncomment all lines in this cell and replace those marked with `# YOUR CODE HERE`.\n",
    "# You can select all lines in this code cell with Ctrl+A (Windows/Linux) or Cmd+A (Mac), then press Ctrl+/ (Windows/Linux) or Cmd+/ (Mac) to uncomment.\n",
    "\n",
    "\n",
    "\n",
    "# URL of the white wine dataset\n",
    "URI = './winequality-white.csv'\n",
    "\n",
    "# load the dataset from the URL\n",
    "white_df = pd.read_csv(URI, sep=\";\")\n",
    "\n",
    "# fill the `is_red` column with zeros.\n",
    "white_df[\"is_red\"] = np.zeros(len(white_df)).astype('int64')\n",
    "\n",
    "# keep only the first of duplicate items\n",
    "white_df = white_df.drop_duplicates(keep='first')\n"
   ]
  },
  {
   "cell_type": "code",
   "execution_count": 3,
   "metadata": {
    "deletable": false,
    "editable": false,
    "nbgrader": {
     "cell_type": "code",
     "checksum": "defe38d6ec58fd31cd67b89e46c4373f",
     "grade": true,
     "grade_id": "cell-30575e713b55fc51",
     "locked": true,
     "points": 1,
     "schema_version": 3,
     "solution": false,
     "task": false
    }
   },
   "outputs": [
    {
     "name": "stdout",
     "output_type": "stream",
     "text": [
      "\u001b[92m All public tests passed\n"
     ]
    }
   ],
   "source": [
    "# You can click `File -> Open` in the menu above and open the `utils.py` file \n",
    "# in case you want to inspect the unit tests being used for each graded function.\n",
    "\n",
    "utils.test_white_df(white_df)\n"
   ]
  },
  {
   "cell_type": "code",
   "execution_count": 4,
   "metadata": {
    "colab": {},
    "colab_type": "code",
    "id": "OQHK0ohBQRCk"
   },
   "outputs": [
    {
     "name": "stdout",
     "output_type": "stream",
     "text": [
      "8.8\n",
      "9.1\n"
     ]
    }
   ],
   "source": [
    "print(white_df.alcohol[0])\n",
    "print(white_df.alcohol[100])\n",
    "\n",
    "# EXPECTED OUTPUT\n",
    "# 8.8\n",
    "# 9.1"
   ]
  },
  {
   "cell_type": "markdown",
   "metadata": {},
   "source": [
    "### Pre-process the red wine dataset (TODO)\n",
    "- In the red wine dataset, you will fill in the column `is_red` with ones (1)."
   ]
  },
  {
   "cell_type": "code",
   "execution_count": 5,
   "metadata": {
    "colab": {},
    "colab_type": "code",
    "deletable": false,
    "id": "8y3QxKwBed8v",
    "nbgrader": {
     "cell_type": "code",
     "checksum": "12e0963d15be33b01b4e6ebc8945e51e",
     "grade": false,
     "grade_id": "cell-e47a40f306593274",
     "locked": false,
     "schema_version": 3,
     "solution": true,
     "task": false
    }
   },
   "outputs": [],
   "source": [
    "# Please uncomment all lines in this cell and replace those marked with `# YOUR CODE HERE`.\n",
    "# You can select all lines in this code cell with Ctrl+A (Windows/Linux) or Cmd+A (Mac), then press Ctrl+/ (Windows/Linux) or Cmd+/ (Mac) to uncomment.\n",
    "\n",
    "\n",
    "\n",
    "# URL of the red wine dataset\n",
    "URI = './winequality-red.csv'\n",
    "\n",
    "# load the dataset from the URL\n",
    "red_df = pd.read_csv(URI, sep=\";\")\n",
    "\n",
    "# fill the `is_red` column with ones.\n",
    "red_df[\"is_red\"] = np.ones(len(red_df)).astype('int64')\n",
    "\n",
    "# keep only the first of duplicate items\n",
    "red_df = red_df.drop_duplicates(keep='first')\n"
   ]
  },
  {
   "cell_type": "code",
   "execution_count": 6,
   "metadata": {
    "deletable": false,
    "editable": false,
    "nbgrader": {
     "cell_type": "code",
     "checksum": "d8e0c91b0fd668b63ba74a8f2f958b59",
     "grade": true,
     "grade_id": "cell-2a75937adcc0c25b",
     "locked": true,
     "points": 1,
     "schema_version": 3,
     "solution": false,
     "task": false
    }
   },
   "outputs": [
    {
     "name": "stdout",
     "output_type": "stream",
     "text": [
      "\u001b[92m All public tests passed\n"
     ]
    }
   ],
   "source": [
    "utils.test_red_df(red_df)\n"
   ]
  },
  {
   "cell_type": "code",
   "execution_count": 7,
   "metadata": {
    "colab": {},
    "colab_type": "code",
    "id": "zsB3LUzNQpo_"
   },
   "outputs": [
    {
     "name": "stdout",
     "output_type": "stream",
     "text": [
      "9.4\n",
      "10.2\n"
     ]
    }
   ],
   "source": [
    "print(red_df.alcohol[0])\n",
    "print(red_df.alcohol[100])\n",
    "\n",
    "# EXPECTED OUTPUT\n",
    "# 9.4\n",
    "# 10.2"
   ]
  },
  {
   "cell_type": "markdown",
   "metadata": {
    "colab_type": "text",
    "id": "2G8B-NYuM6-f"
   },
   "source": [
    "### Concatenate the datasets\n",
    "\n",
    "Next, concatenate the red and white wine dataframes."
   ]
  },
  {
   "cell_type": "code",
   "execution_count": 8,
   "metadata": {
    "colab": {},
    "colab_type": "code",
    "id": "YpQrOjJbfN3m"
   },
   "outputs": [],
   "source": [
    "df = pd.concat([red_df, white_df], ignore_index=True)"
   ]
  },
  {
   "cell_type": "code",
   "execution_count": 9,
   "metadata": {
    "colab": {},
    "colab_type": "code",
    "id": "Se2dTmThQyjb"
   },
   "outputs": [
    {
     "name": "stdout",
     "output_type": "stream",
     "text": [
      "9.4\n",
      "9.5\n"
     ]
    }
   ],
   "source": [
    "print(df.alcohol[0])\n",
    "print(df.alcohol[100])\n",
    "\n",
    "# EXPECTED OUTPUT\n",
    "# 9.4\n",
    "# 9.5"
   ]
  },
  {
   "cell_type": "markdown",
   "metadata": {},
   "source": [
    "In a real-world scenario, you should shuffle the data. For this assignment however, **you are not** going to do that because the grader needs to test with deterministic data. If you want the code to do it **after** you've gotten your grade for this notebook, we left the commented line below for reference"
   ]
  },
  {
   "cell_type": "code",
   "execution_count": 10,
   "metadata": {
    "colab": {},
    "colab_type": "code",
    "id": "wx6y3rPpQv4k"
   },
   "outputs": [],
   "source": [
    "#df = df.iloc[np.random.permutation(len(df))]"
   ]
  },
  {
   "cell_type": "markdown",
   "metadata": {
    "colab_type": "text",
    "id": "-EqIcbg5M_n1"
   },
   "source": [
    "This will chart the quality of the wines."
   ]
  },
  {
   "cell_type": "code",
   "execution_count": 11,
   "metadata": {
    "colab": {},
    "colab_type": "code",
    "id": "IsvK0-Sgy17C"
   },
   "outputs": [
    {
     "data": {
      "image/png": "[encoded data removed]",
      "text/plain": [
       "<Figure size 432x288 with 1 Axes>"
      ]
     },
     "metadata": {
      "needs_background": "light"
     },
     "output_type": "display_data"
    }
   ],
   "source": [
    "df['quality'].hist(bins=20);"
   ]
  },
  {
   "cell_type": "markdown",
   "metadata": {
    "colab_type": "text",
    "id": "Nut1rmYLzf-p"
   },
   "source": [
    "### Imbalanced data (TODO)\n",
    "You can see from the plot above that the wine quality dataset is imbalanced. \n",
    "- Since there are very few observations with quality equal to 3, 4, 8 and 9, you can drop these observations from your dataset. \n",
    "- You can do this by removing data belonging to all classes except those > 4 and < 8."
   ]
  },
  {
   "cell_type": "code",
   "execution_count": 12,
   "metadata": {
    "colab": {},
    "colab_type": "code",
    "deletable": false,
    "id": "doH9_-gnf3sz",
    "nbgrader": {
     "cell_type": "code",
     "checksum": "d9ba9fc3a3ca02ccc567be33652b80fe",
     "grade": false,
     "grade_id": "cell-6a3e9db696f6827b",
     "locked": false,
     "schema_version": 3,
     "solution": true,
     "task": false
    }
   },
   "outputs": [],
   "source": [
    "# Please uncomment all lines in this cell and replace those marked with `# YOUR CODE HERE`.\n",
    "# You can select all lines in this code cell with Ctrl+A (Windows/Linux) or Cmd+A (Mac), then press Ctrl+/ (Windows/Linux) or Cmd+/ (Mac) to uncomment.\n",
    "\n",
    "\n",
    "\n",
    "# get data with wine quality greater than 4 and less than 8\n",
    "df = df[(df['quality'] > 4) & (df['quality'] < 8 )]\n",
    "\n",
    "# reset index and drop the old one\n",
    "df = df.reset_index(drop=True)"
   ]
  },
  {
   "cell_type": "code",
   "execution_count": 13,
   "metadata": {
    "deletable": false,
    "editable": false,
    "nbgrader": {
     "cell_type": "code",
     "checksum": "281e1d86a4803560ed5892cd7eda4c01",
     "grade": true,
     "grade_id": "cell-aed3da719d4682c7",
     "locked": true,
     "points": 1,
     "schema_version": 3,
     "solution": false,
     "task": false
    }
   },
   "outputs": [
    {
     "name": "stdout",
     "output_type": "stream",
     "text": [
      "\u001b[92m All public tests passed\n"
     ]
    }
   ],
   "source": [
    "utils.test_df_drop(df)\n",
    "\n"
   ]
  },
  {
   "cell_type": "code",
   "execution_count": 14,
   "metadata": {
    "colab": {},
    "colab_type": "code",
    "id": "xNR1iAlMRPXO"
   },
   "outputs": [
    {
     "name": "stdout",
     "output_type": "stream",
     "text": [
      "9.4\n",
      "10.9\n"
     ]
    }
   ],
   "source": [
    "print(df.alcohol[0])\n",
    "print(df.alcohol[100])\n",
    "\n",
    "# EXPECTED OUTPUT\n",
    "# 9.4\n",
    "# 10.9"
   ]
  },
  {
   "cell_type": "markdown",
   "metadata": {
    "colab_type": "text",
    "id": "cwhuRpnVRTzG"
   },
   "source": [
    "You can plot again to see the new range of data and quality"
   ]
  },
  {
   "cell_type": "code",
   "execution_count": 15,
   "metadata": {
    "colab": {},
    "colab_type": "code",
    "id": "857ygzZiLgGg"
   },
   "outputs": [
    {
     "data": {
      "image/png": "[encoded data removed]",
      "text/plain": [
       "<Figure size 432x288 with 1 Axes>"
      ]
     },
     "metadata": {
      "needs_background": "light"
     },
     "output_type": "display_data"
    }
   ],
   "source": [
    "df['quality'].hist(bins=20);"
   ]
  },
  {
   "cell_type": "markdown",
   "metadata": {
    "colab_type": "text",
    "id": "n3k0vqSsp84t"
   },
   "source": [
    "### Train Test Split (TODO)\n",
    "\n",
    "Next, you can split the datasets into training, test and validation datasets.\n",
    "- The data frame should be split 80:20 into `train` and `test` sets.\n",
    "- The resulting `train` should then be split 80:20 into `train` and `val` sets.\n",
    "- The `train_test_split` parameter `test_size` takes a float value that ranges between 0. and 1, and represents the proportion of the dataset that is allocated to the test set.  The rest of the data is allocated to the training set."
   ]
  },
  {
   "cell_type": "code",
   "execution_count": 16,
   "metadata": {
    "colab": {},
    "colab_type": "code",
    "deletable": false,
    "id": "PAVIf2-fgRVY",
    "nbgrader": {
     "cell_type": "code",
     "checksum": "7f5738f4fb51d65adc9a8acbdf2b9970",
     "grade": false,
     "grade_id": "cell-91946cadf745206b",
     "locked": false,
     "schema_version": 3,
     "solution": true,
     "task": false
    }
   },
   "outputs": [],
   "source": [
    "# Please uncomment all lines in this cell and replace those marked with `# YOUR CODE HERE`.\n",
    "# You can select all lines in this code cell with Ctrl+A (Windows/Linux) or Cmd+A (Mac), then press Ctrl+/ (Windows/Linux) or Cmd+/ (Mac) to uncomment.\n",
    "\n",
    "\n",
    "\n",
    "# Please do not change the random_state parameter. This is needed for grading.\n",
    "\n",
    "# split df into 80:20 train and test sets\n",
    "train, test = train_test_split(df, test_size=0.2, random_state = 1)\n",
    "                               \n",
    "# split train into 80:20 train and val sets\n",
    "train, val = train_test_split(train, test_size=0.2, random_state = 1)"
   ]
  },
  {
   "cell_type": "code",
   "execution_count": 17,
   "metadata": {
    "colab": {},
    "colab_type": "code",
    "deletable": false,
    "editable": false,
    "id": "57h9LcEzRWpk",
    "nbgrader": {
     "cell_type": "code",
     "checksum": "42adbe9e66efac7c7a5f8cd73ac92f22",
     "grade": true,
     "grade_id": "cell-64b8b38cd0b965f6",
     "locked": true,
     "points": 1,
     "schema_version": 3,
     "solution": false,
     "task": false
    }
   },
   "outputs": [
    {
     "name": "stdout",
     "output_type": "stream",
     "text": [
      "\u001b[92m All public tests passed\n"
     ]
    }
   ],
   "source": [
    "utils.test_data_sizes(train.size, test.size, val.size)\n",
    "\n"
   ]
  },
  {
   "cell_type": "markdown",
   "metadata": {
    "colab_type": "text",
    "id": "RwTNu4KFqG-K"
   },
   "source": [
    "Here's where you can explore the training stats. You can pop the labels 'is_red' and 'quality' from the data as these will be used as the labels\n"
   ]
  },
  {
   "cell_type": "code",
   "execution_count": 18,
   "metadata": {
    "colab": {},
    "colab_type": "code",
    "id": "Y_afyhhHM6WQ"
   },
   "outputs": [],
   "source": [
    "train_stats = train.describe()\n",
    "train_stats.pop('is_red')\n",
    "train_stats.pop('quality')\n",
    "train_stats = train_stats.transpose()"
   ]
  },
  {
   "cell_type": "markdown",
   "metadata": {
    "colab_type": "text",
    "id": "ahvbYm4fNqSt"
   },
   "source": [
    "Explore the training stats!"
   ]
  },
  {
   "cell_type": "code",
   "execution_count": 19,
   "metadata": {
    "colab": {},
    "colab_type": "code",
    "id": "n_gAtPjZ0otF"
   },
   "outputs": [
    {
     "data": {
      "text/html": [
       "<div>\n",
       "<style scoped>\n",
       "    .dataframe tbody tr th:only-of-type {\n",
       "        vertical-align: middle;\n",
       "    }\n",
       "\n",
       "    .dataframe tbody tr th {\n",
       "        vertical-align: top;\n",
       "    }\n",
       "\n",
       "    .dataframe thead th {\n",
       "        text-align: right;\n",
       "    }\n",
       "</style>\n",
       "<table border=\"1\" class=\"dataframe\">\n",
       "  <thead>\n",
       "    <tr style=\"text-align: right;\">\n",
       "      <th></th>\n",
       "      <th>count</th>\n",
       "      <th>mean</th>\n",
       "      <th>std</th>\n",
       "      <th>min</th>\n",
       "      <th>25%</th>\n",
       "      <th>50%</th>\n",
       "      <th>75%</th>\n",
       "      <th>max</th>\n",
       "    </tr>\n",
       "  </thead>\n",
       "  <tbody>\n",
       "    <tr>\n",
       "      <th>fixed acidity</th>\n",
       "      <td>3155.0</td>\n",
       "      <td>7.221616</td>\n",
       "      <td>1.325297</td>\n",
       "      <td>3.80000</td>\n",
       "      <td>6.40000</td>\n",
       "      <td>7.00000</td>\n",
       "      <td>7.7000</td>\n",
       "      <td>15.60000</td>\n",
       "    </tr>\n",
       "    <tr>\n",
       "      <th>volatile acidity</th>\n",
       "      <td>3155.0</td>\n",
       "      <td>0.338929</td>\n",
       "      <td>0.162476</td>\n",
       "      <td>0.08000</td>\n",
       "      <td>0.23000</td>\n",
       "      <td>0.29000</td>\n",
       "      <td>0.4000</td>\n",
       "      <td>1.24000</td>\n",
       "    </tr>\n",
       "    <tr>\n",
       "      <th>citric acid</th>\n",
       "      <td>3155.0</td>\n",
       "      <td>0.321569</td>\n",
       "      <td>0.147970</td>\n",
       "      <td>0.00000</td>\n",
       "      <td>0.25000</td>\n",
       "      <td>0.31000</td>\n",
       "      <td>0.4000</td>\n",
       "      <td>1.66000</td>\n",
       "    </tr>\n",
       "    <tr>\n",
       "      <th>residual sugar</th>\n",
       "      <td>3155.0</td>\n",
       "      <td>5.155911</td>\n",
       "      <td>4.639632</td>\n",
       "      <td>0.60000</td>\n",
       "      <td>1.80000</td>\n",
       "      <td>2.80000</td>\n",
       "      <td>7.6500</td>\n",
       "      <td>65.80000</td>\n",
       "    </tr>\n",
       "    <tr>\n",
       "      <th>chlorides</th>\n",
       "      <td>3155.0</td>\n",
       "      <td>0.056976</td>\n",
       "      <td>0.036802</td>\n",
       "      <td>0.01200</td>\n",
       "      <td>0.03800</td>\n",
       "      <td>0.04700</td>\n",
       "      <td>0.0660</td>\n",
       "      <td>0.61100</td>\n",
       "    </tr>\n",
       "    <tr>\n",
       "      <th>free sulfur dioxide</th>\n",
       "      <td>3155.0</td>\n",
       "      <td>30.388590</td>\n",
       "      <td>17.236784</td>\n",
       "      <td>1.00000</td>\n",
       "      <td>17.00000</td>\n",
       "      <td>28.00000</td>\n",
       "      <td>41.0000</td>\n",
       "      <td>131.00000</td>\n",
       "    </tr>\n",
       "    <tr>\n",
       "      <th>total sulfur dioxide</th>\n",
       "      <td>3155.0</td>\n",
       "      <td>115.062282</td>\n",
       "      <td>56.706617</td>\n",
       "      <td>6.00000</td>\n",
       "      <td>75.00000</td>\n",
       "      <td>117.00000</td>\n",
       "      <td>156.0000</td>\n",
       "      <td>344.00000</td>\n",
       "    </tr>\n",
       "    <tr>\n",
       "      <th>density</th>\n",
       "      <td>3155.0</td>\n",
       "      <td>0.994633</td>\n",
       "      <td>0.003005</td>\n",
       "      <td>0.98711</td>\n",
       "      <td>0.99232</td>\n",
       "      <td>0.99481</td>\n",
       "      <td>0.9968</td>\n",
       "      <td>1.03898</td>\n",
       "    </tr>\n",
       "    <tr>\n",
       "      <th>pH</th>\n",
       "      <td>3155.0</td>\n",
       "      <td>3.223201</td>\n",
       "      <td>0.161272</td>\n",
       "      <td>2.72000</td>\n",
       "      <td>3.11000</td>\n",
       "      <td>3.21000</td>\n",
       "      <td>3.3300</td>\n",
       "      <td>4.01000</td>\n",
       "    </tr>\n",
       "    <tr>\n",
       "      <th>sulphates</th>\n",
       "      <td>3155.0</td>\n",
       "      <td>0.534051</td>\n",
       "      <td>0.149149</td>\n",
       "      <td>0.22000</td>\n",
       "      <td>0.43000</td>\n",
       "      <td>0.51000</td>\n",
       "      <td>0.6000</td>\n",
       "      <td>1.95000</td>\n",
       "    </tr>\n",
       "    <tr>\n",
       "      <th>alcohol</th>\n",
       "      <td>3155.0</td>\n",
       "      <td>10.504466</td>\n",
       "      <td>1.154654</td>\n",
       "      <td>8.50000</td>\n",
       "      <td>9.50000</td>\n",
       "      <td>10.30000</td>\n",
       "      <td>11.3000</td>\n",
       "      <td>14.00000</td>\n",
       "    </tr>\n",
       "  </tbody>\n",
       "</table>\n",
       "</div>"
      ],
      "text/plain": [
       "                       count        mean        std      min       25%  \\\n",
       "fixed acidity         3155.0    7.221616   1.325297  3.80000   6.40000   \n",
       "volatile acidity      3155.0    0.338929   0.162476  0.08000   0.23000   \n",
       "citric acid           3155.0    0.321569   0.147970  0.00000   0.25000   \n",
       "residual sugar        3155.0    5.155911   4.639632  0.60000   1.80000   \n",
       "chlorides             3155.0    0.056976   0.036802  0.01200   0.03800   \n",
       "free sulfur dioxide   3155.0   30.388590  17.236784  1.00000  17.00000   \n",
       "total sulfur dioxide  3155.0  115.062282  56.706617  6.00000  75.00000   \n",
       "density               3155.0    0.994633   0.003005  0.98711   0.99232   \n",
       "pH                    3155.0    3.223201   0.161272  2.72000   3.11000   \n",
       "sulphates             3155.0    0.534051   0.149149  0.22000   0.43000   \n",
       "alcohol               3155.0   10.504466   1.154654  8.50000   9.50000   \n",
       "\n",
       "                            50%       75%        max  \n",
       "fixed acidity           7.00000    7.7000   15.60000  \n",
       "volatile acidity        0.29000    0.4000    1.24000  \n",
       "citric acid             0.31000    0.4000    1.66000  \n",
       "residual sugar          2.80000    7.6500   65.80000  \n",
       "chlorides               0.04700    0.0660    0.61100  \n",
       "free sulfur dioxide    28.00000   41.0000  131.00000  \n",
       "total sulfur dioxide  117.00000  156.0000  344.00000  \n",
       "density                 0.99481    0.9968    1.03898  \n",
       "pH                      3.21000    3.3300    4.01000  \n",
       "sulphates               0.51000    0.6000    1.95000  \n",
       "alcohol                10.30000   11.3000   14.00000  "
      ]
     },
     "execution_count": 19,
     "metadata": {},
     "output_type": "execute_result"
    }
   ],
   "source": [
    "train_stats"
   ]
  },
  {
   "cell_type": "markdown",
   "metadata": {
    "colab_type": "text",
    "id": "bGPvt9jir_HC"
   },
   "source": [
    "### Get the labels (TODO)\n",
    "\n",
    "The features and labels are currently in the same dataframe.\n",
    "- You will want to store the label columns `is_red` and `quality` separately from the feature columns.  \n",
    "- The following function, `format_output`, gets these two columns from the dataframe (it's given to you).\n",
    "- `format_output` also formats the data into numpy arrays. \n",
    "- Please use the `format_output` and apply it to the `train`, `val` and `test` sets to get dataframes for the labels."
   ]
  },
  {
   "cell_type": "code",
   "execution_count": 20,
   "metadata": {
    "colab": {},
    "colab_type": "code",
    "id": "Z_fs14XQqZVP"
   },
   "outputs": [],
   "source": [
    "def format_output(data):\n",
    "    is_red = data.pop('is_red')\n",
    "    is_red = np.array(is_red)\n",
    "    quality = data.pop('quality')\n",
    "    quality = np.array(quality)\n",
    "    return (quality, is_red)"
   ]
  },
  {
   "cell_type": "code",
   "execution_count": 21,
   "metadata": {
    "colab": {},
    "colab_type": "code",
    "deletable": false,
    "id": "8L3ZZe1fQicm",
    "nbgrader": {
     "cell_type": "code",
     "checksum": "7a86809e54895a816434c48dc903f55d",
     "grade": false,
     "grade_id": "cell-5c30fa2c2a354b0f",
     "locked": false,
     "schema_version": 3,
     "solution": true,
     "task": false
    }
   },
   "outputs": [],
   "source": [
    "# Please uncomment all lines in this cell and replace those marked with `# YOUR CODE HERE`.\n",
    "# You can select all lines in this code cell with Ctrl+A (Windows/Linux) or Cmd+A (Mac), then press Ctrl+/ (Windows/Linux) or Cmd+/ (Mac) to uncomment.\n",
    "\n",
    "\n",
    "\n",
    "# format the output of the train set\n",
    "train_Y = format_output(train)\n",
    "\n",
    "# format the output of the val set\n",
    "val_Y = format_output(val)\n",
    "    \n",
    "# format the output of the test set\n",
    "test_Y = format_output(test)"
   ]
  },
  {
   "cell_type": "code",
   "execution_count": 22,
   "metadata": {
    "deletable": false,
    "editable": false,
    "nbgrader": {
     "cell_type": "code",
     "checksum": "359cabbafaed14ec9bbc1e57a7b6f32c",
     "grade": true,
     "grade_id": "cell-4977d8befb80f56b",
     "locked": true,
     "points": 1,
     "schema_version": 3,
     "solution": false,
     "task": false
    }
   },
   "outputs": [
    {
     "name": "stdout",
     "output_type": "stream",
     "text": [
      "\u001b[92m All public tests passed\n"
     ]
    }
   ],
   "source": [
    "utils.test_format_output(df, train_Y, val_Y, test_Y)"
   ]
  },
  {
   "cell_type": "markdown",
   "metadata": {},
   "source": [
    "Notice that after you get the labels, the `train`, `val` and `test` dataframes no longer contain the label columns, and contain just the feature columns.\n",
    "- This is because you used `.pop` in the `format_output` function."
   ]
  },
  {
   "cell_type": "code",
   "execution_count": 23,
   "metadata": {},
   "outputs": [
    {
     "data": {
      "text/html": [
       "<div>\n",
       "<style scoped>\n",
       "    .dataframe tbody tr th:only-of-type {\n",
       "        vertical-align: middle;\n",
       "    }\n",
       "\n",
       "    .dataframe tbody tr th {\n",
       "        vertical-align: top;\n",
       "    }\n",
       "\n",
       "    .dataframe thead th {\n",
       "        text-align: right;\n",
       "    }\n",
       "</style>\n",
       "<table border=\"1\" class=\"dataframe\">\n",
       "  <thead>\n",
       "    <tr style=\"text-align: right;\">\n",
       "      <th></th>\n",
       "      <th>fixed acidity</th>\n",
       "      <th>volatile acidity</th>\n",
       "      <th>citric acid</th>\n",
       "      <th>residual sugar</th>\n",
       "      <th>chlorides</th>\n",
       "      <th>free sulfur dioxide</th>\n",
       "      <th>total sulfur dioxide</th>\n",
       "      <th>density</th>\n",
       "      <th>pH</th>\n",
       "      <th>sulphates</th>\n",
       "      <th>alcohol</th>\n",
       "    </tr>\n",
       "  </thead>\n",
       "  <tbody>\n",
       "    <tr>\n",
       "      <th>225</th>\n",
       "      <td>7.5</td>\n",
       "      <td>0.65</td>\n",
       "      <td>0.18</td>\n",
       "      <td>7.0</td>\n",
       "      <td>0.088</td>\n",
       "      <td>27.0</td>\n",
       "      <td>94.0</td>\n",
       "      <td>0.99915</td>\n",
       "      <td>3.38</td>\n",
       "      <td>0.77</td>\n",
       "      <td>9.4</td>\n",
       "    </tr>\n",
       "    <tr>\n",
       "      <th>3557</th>\n",
       "      <td>6.3</td>\n",
       "      <td>0.27</td>\n",
       "      <td>0.29</td>\n",
       "      <td>12.2</td>\n",
       "      <td>0.044</td>\n",
       "      <td>59.0</td>\n",
       "      <td>196.0</td>\n",
       "      <td>0.99782</td>\n",
       "      <td>3.14</td>\n",
       "      <td>0.40</td>\n",
       "      <td>8.8</td>\n",
       "    </tr>\n",
       "    <tr>\n",
       "      <th>3825</th>\n",
       "      <td>8.8</td>\n",
       "      <td>0.27</td>\n",
       "      <td>0.25</td>\n",
       "      <td>5.0</td>\n",
       "      <td>0.024</td>\n",
       "      <td>52.0</td>\n",
       "      <td>99.0</td>\n",
       "      <td>0.99250</td>\n",
       "      <td>2.87</td>\n",
       "      <td>0.49</td>\n",
       "      <td>11.4</td>\n",
       "    </tr>\n",
       "    <tr>\n",
       "      <th>1740</th>\n",
       "      <td>6.4</td>\n",
       "      <td>0.45</td>\n",
       "      <td>0.07</td>\n",
       "      <td>1.1</td>\n",
       "      <td>0.030</td>\n",
       "      <td>10.0</td>\n",
       "      <td>131.0</td>\n",
       "      <td>0.99050</td>\n",
       "      <td>2.97</td>\n",
       "      <td>0.28</td>\n",
       "      <td>10.8</td>\n",
       "    </tr>\n",
       "    <tr>\n",
       "      <th>1221</th>\n",
       "      <td>7.2</td>\n",
       "      <td>0.53</td>\n",
       "      <td>0.13</td>\n",
       "      <td>2.0</td>\n",
       "      <td>0.058</td>\n",
       "      <td>18.0</td>\n",
       "      <td>22.0</td>\n",
       "      <td>0.99573</td>\n",
       "      <td>3.21</td>\n",
       "      <td>0.68</td>\n",
       "      <td>9.9</td>\n",
       "    </tr>\n",
       "  </tbody>\n",
       "</table>\n",
       "</div>"
      ],
      "text/plain": [
       "      fixed acidity  volatile acidity  citric acid  residual sugar  chlorides  \\\n",
       "225             7.5              0.65         0.18             7.0      0.088   \n",
       "3557            6.3              0.27         0.29            12.2      0.044   \n",
       "3825            8.8              0.27         0.25             5.0      0.024   \n",
       "1740            6.4              0.45         0.07             1.1      0.030   \n",
       "1221            7.2              0.53         0.13             2.0      0.058   \n",
       "\n",
       "      free sulfur dioxide  total sulfur dioxide  density    pH  sulphates  \\\n",
       "225                  27.0                  94.0  0.99915  3.38       0.77   \n",
       "3557                 59.0                 196.0  0.99782  3.14       0.40   \n",
       "3825                 52.0                  99.0  0.99250  2.87       0.49   \n",
       "1740                 10.0                 131.0  0.99050  2.97       0.28   \n",
       "1221                 18.0                  22.0  0.99573  3.21       0.68   \n",
       "\n",
       "      alcohol  \n",
       "225       9.4  \n",
       "3557      8.8  \n",
       "3825     11.4  \n",
       "1740     10.8  \n",
       "1221      9.9  "
      ]
     },
     "execution_count": 23,
     "metadata": {},
     "output_type": "execute_result"
    }
   ],
   "source": [
    "train.head()"
   ]
  },
  {
   "cell_type": "markdown",
   "metadata": {
    "colab_type": "text",
    "id": "hEdbrruAsN1D"
   },
   "source": [
    "### Normalize the data (TODO)\n",
    "\n",
    "Next, you can normalize the data, x, using the formula:\n",
    "$$x_{norm} = \\frac{x - \\mu}{\\sigma}$$\n",
    "- The `norm` function is defined for you.\n",
    "- Please apply the `norm` function to normalize the dataframes that contains the feature columns of `train`, `val` and `test` sets."
   ]
  },
  {
   "cell_type": "code",
   "execution_count": 24,
   "metadata": {
    "colab": {},
    "colab_type": "code",
    "id": "WWiZPAHCLjUs"
   },
   "outputs": [],
   "source": [
    "def norm(x):\n",
    "    return (x - train_stats['mean']) / train_stats['std']"
   ]
  },
  {
   "cell_type": "code",
   "execution_count": 25,
   "metadata": {
    "colab": {},
    "colab_type": "code",
    "deletable": false,
    "id": "JEaOi2I2Lk69",
    "nbgrader": {
     "cell_type": "code",
     "checksum": "6bc0cdcb563d192f271067aa3373ff32",
     "grade": false,
     "grade_id": "cell-d8416d975c371095",
     "locked": false,
     "schema_version": 3,
     "solution": true,
     "task": false
    }
   },
   "outputs": [],
   "source": [
    "# Please uncomment all lines in this cell and replace those marked with `# YOUR CODE HERE`.\n",
    "# You can select all lines in this code cell with Ctrl+A (Windows/Linux) or Cmd+A (Mac), then press Ctrl+/ (Windows/Linux) or Cmd+/ (Mac) to uncomment.\n",
    "\n",
    "\n",
    "\n",
    "# normalize the train set\n",
    "norm_train_X = norm(train)\n",
    "    \n",
    "# normalize the val set\n",
    "norm_val_X = norm(val)\n",
    "    \n",
    "# normalize the test set\n",
    "norm_test_X = norm(test)"
   ]
  },
  {
   "cell_type": "code",
   "execution_count": 26,
   "metadata": {
    "deletable": false,
    "editable": false,
    "nbgrader": {
     "cell_type": "code",
     "checksum": "4f567db45bf40191601780379cc100b8",
     "grade": true,
     "grade_id": "cell-97fad979d157529b",
     "locked": true,
     "points": 1,
     "schema_version": 3,
     "solution": false,
     "task": false
    }
   },
   "outputs": [
    {
     "name": "stdout",
     "output_type": "stream",
     "text": [
      "\u001b[92m All public tests passed\n"
     ]
    }
   ],
   "source": [
    "utils.test_norm(norm_train_X, norm_val_X, norm_test_X, train, val, test)\n"
   ]
  },
  {
   "cell_type": "markdown",
   "metadata": {
    "colab_type": "text",
    "id": "hzykDwQhsaPO"
   },
   "source": [
    "## Define the Model (TODO)\n",
    "\n",
    "Define the model using the functional API. The base model will be 2 `Dense` layers of 128 neurons each, and have the `'relu'` activation.\n",
    "- Check out the documentation for [tf.keras.layers.Dense](https://www.tensorflow.org/api_docs/python/tf/keras/layers/Dense)"
   ]
  },
  {
   "cell_type": "code",
   "execution_count": 27,
   "metadata": {
    "colab": {},
    "colab_type": "code",
    "deletable": false,
    "id": "Rhcns3oTFkM6",
    "nbgrader": {
     "cell_type": "code",
     "checksum": "74b031247e569526552bf13a034a1c07",
     "grade": false,
     "grade_id": "cell-73fceedad1fe351c",
     "locked": false,
     "schema_version": 3,
     "solution": true,
     "task": false
    }
   },
   "outputs": [],
   "source": [
    "# Please uncomment all lines in this cell and replace those marked with `# YOUR CODE HERE`.\n",
    "# You can select all lines in this code cell with Ctrl+A (Windows/Linux) or Cmd+A (Mac), then press Ctrl+/ (Windows/Linux) or Cmd+/ (Mac) to uncomment.\n",
    "\n",
    "\n",
    "\n",
    "def base_model(inputs):\n",
    "    \n",
    "    # connect a Dense layer with 128 neurons and a relu activation\n",
    "    x = tf.keras.layers.Dense(128,activation='relu')(inputs)\n",
    "    \n",
    "    # connect another Dense layer with 128 neurons and a relu activation\n",
    "    x = tf.keras.layers.Dense(128,activation='relu')(x)\n",
    "    return x\n",
    "  "
   ]
  },
  {
   "cell_type": "code",
   "execution_count": 28,
   "metadata": {
    "deletable": false,
    "editable": false,
    "nbgrader": {
     "cell_type": "code",
     "checksum": "9255924b3def80f679616e4c851a43e1",
     "grade": true,
     "grade_id": "cell-54f742a133353d75",
     "locked": true,
     "points": 1,
     "schema_version": 3,
     "solution": false,
     "task": false
    }
   },
   "outputs": [
    {
     "name": "stdout",
     "output_type": "stream",
     "text": [
      "\u001b[92m All public tests passed\n"
     ]
    }
   ],
   "source": [
    "utils.test_base_model(base_model)"
   ]
  },
  {
   "cell_type": "markdown",
   "metadata": {
    "colab_type": "text",
    "id": "xem_fcVws6Kz"
   },
   "source": [
    "# Define output layers of the model (TODO)\n",
    "\n",
    "You will add output layers to the base model. \n",
    "- The model will need two outputs.\n",
    "\n",
    "One output layer will predict wine quality, which is a numeric value.\n",
    "- Define a `Dense` layer with 1 neuron.\n",
    "- Since this is a regression output, the activation can be left as its default value `None`.\n",
    "\n",
    "The other output layer will predict the wine type, which is either red `1` or not red `0` (white).\n",
    "- Define a `Dense` layer with 1 neuron.\n",
    "- Since there are two possible categories, you can use a sigmoid activation for binary classification.\n",
    "\n",
    "Define the `Model`\n",
    "- Define the `Model` object, and set the following parameters:\n",
    "  - `inputs`: pass in the inputs to the model as a list.\n",
    "  - `outputs`: pass in a list of the outputs that you just defined: wine quality, then wine type.\n",
    "  - **Note**: please list the wine quality before wine type in the outputs, as this will affect the calculated loss if you choose the other order."
   ]
  },
  {
   "cell_type": "code",
   "execution_count": 74,
   "metadata": {
    "colab": {},
    "colab_type": "code",
    "deletable": false,
    "id": "n5UGF8PMVLPt",
    "nbgrader": {
     "cell_type": "code",
     "checksum": "76d35b90d20cdcbb22986cd8211057de",
     "grade": false,
     "grade_id": "cell-19e285f482f021fb",
     "locked": false,
     "schema_version": 3,
     "solution": true,
     "task": false
    }
   },
   "outputs": [],
   "source": [
    "# Please uncomment all lines in this cell and replace those marked with `# YOUR CODE HERE`.\n",
    "# You can select all lines in this code cell with Ctrl+A (Windows/Linux) or Cmd+A (Mac), then press Ctrl+/ (Windows/Linux) or Cmd+/ (Mac) to uncomment.\n",
    "\n",
    "\n",
    "\n",
    "def final_model(inputs):\n",
    "    \n",
    "    # get the base model\n",
    "    x = base_model(inputs)\n",
    "\n",
    "    # connect the output Dense layer for regression\n",
    "    wine_quality = Dense(units='1', name='wine_quality')(x)\n",
    "\n",
    "    # connect the output Dense layer for classification. this will use a sigmoid activation.\n",
    "    wine_type = Dense(units='1', activation='sigmoid', name='wine_type')(x)\n",
    "\n",
    "    # define the model using the input and output layers\n",
    "    model = Model(inputs=inputs, outputs=[wine_quality, wine_type])\n",
    "\n",
    "    return model"
   ]
  },
  {
   "cell_type": "code",
   "execution_count": 75,
   "metadata": {
    "deletable": false,
    "editable": false,
    "nbgrader": {
     "cell_type": "code",
     "checksum": "89cbf89d8ab5e2e59ecf7f63f517520a",
     "grade": true,
     "grade_id": "cell-40d050f855c817d1",
     "locked": true,
     "points": 1,
     "schema_version": 3,
     "solution": false,
     "task": false
    }
   },
   "outputs": [
    {
     "name": "stdout",
     "output_type": "stream",
     "text": [
      "\u001b[92m All public tests passed\n"
     ]
    }
   ],
   "source": [
    "utils.test_final_model(final_model)"
   ]
  },
  {
   "cell_type": "markdown",
   "metadata": {
    "colab_type": "text",
    "id": "5R0BMTsltZyu"
   },
   "source": [
    "## Compiling the Model\n",
    "\n",
    "Next, compile the model. When setting the loss parameter of `model.compile`, you're setting the loss for each of the two outputs (wine quality and wine type).\n",
    "\n",
    "To set more than one loss, use a dictionary of key-value pairs.\n",
    "- You can look at the docs for the losses [here](https://www.tensorflow.org/api_docs/python/tf/keras/losses#functions).\n",
    "    - **Note**: For the desired spelling, please look at the \"Functions\" section of the documentation and not the \"classes\" section on that same page.\n",
    "- wine_type: Since you will be performing binary classification on wine type, you should use the binary crossentropy loss function for it.  Please pass this in as a string.  \n",
    "  - **Hint**, this should be all lowercase.  In the documentation, you'll see this under the \"Functions\" section, not the \"Classes\" section.\n",
    "- wine_quality: since this is a regression output, use the mean squared error.  Please pass it in as a string, all lowercase.\n",
    "  - **Hint**: You may notice that there are two aliases for mean squared error.  Please use the shorter name.\n",
    "\n",
    "\n",
    "You will also set the metric for each of the two outputs.  Again, to set metrics for two or more outputs, use a dictionary with key value pairs.\n",
    "- The metrics documentation is linked [here](https://www.tensorflow.org/api_docs/python/tf/keras/metrics).\n",
    "- For the wine type, please set it to accuracy as a string, all lowercase.\n",
    "- For wine quality, please use the root mean squared error.  Instead of a string, you'll set it to an instance of the class [RootMeanSquaredError](https://www.tensorflow.org/api_docs/python/tf/keras/metrics/RootMeanSquaredError), which belongs to the tf.keras.metrics module.\n",
    "\n",
    "**Note**: If you see the error message \n",
    ">Exception: wine quality loss function is incorrect.\n",
    "\n",
    "- Please also check your other losses and metrics, as the error may be caused by the other three key-value pairs and not the wine quality loss."
   ]
  },
  {
   "cell_type": "code",
   "execution_count": 70,
   "metadata": {
    "colab": {},
    "colab_type": "code",
    "deletable": false,
    "id": "LK11duUbUjmh",
    "nbgrader": {
     "cell_type": "code",
     "checksum": "22f45067ca69eb2ccadb43874dbcc27b",
     "grade": false,
     "grade_id": "cell-81afdc4dcca51d5e",
     "locked": false,
     "schema_version": 3,
     "solution": true,
     "task": false
    }
   },
   "outputs": [],
   "source": [
    "# Please uncomment all lines in this cell and replace those marked with `# YOUR CODE HERE`.\n",
    "# You can select all lines in this code cell with Ctrl+A (Windows/Linux) or Cmd+A (Mac), then press Ctrl+/ (Windows/Linux) or Cmd+/ (Mac) to uncomment.\n",
    "\n",
    "\n",
    "\n",
    "inputs = tf.keras.layers.Input(shape=(11,))\n",
    "rms = tf.keras.optimizers.RMSprop(learning_rate=0.0001)\n",
    "model = final_model(inputs)\n",
    "\n",
    "model.compile(optimizer=rms, \n",
    "              loss = {'wine_type' : 'mse',\n",
    "                      'wine_quality' : 'mse'\n",
    "                     },\n",
    "              metrics = {'wine_type' : tf.keras.metrics.RootMeanSquaredError(),\n",
    "                         'wine_quality': tf.keras.metrics.RootMeanSquaredError()\n",
    "                       }\n",
    "             )\n"
   ]
  },
  {
   "cell_type": "code",
   "execution_count": 71,
   "metadata": {
    "deletable": false,
    "editable": false,
    "nbgrader": {
     "cell_type": "code",
     "checksum": "88e02238ea5e456ff65e835cc8158054",
     "grade": true,
     "grade_id": "cell-2eeeba02391c4632",
     "locked": true,
     "points": 1,
     "schema_version": 3,
     "solution": false,
     "task": false
    }
   },
   "outputs": [
    {
     "ename": "AttributeError",
     "evalue": "'str' object has no attribute 'name'",
     "output_type": "error",
     "traceback": [
      "\u001b[0;31m---------------------------------------------------------------------------\u001b[0m",
      "\u001b[0;31mAttributeError\u001b[0m                            Traceback (most recent call last)",
      "\u001b[0;32m<ipython-input-71-9a25711e305e>\u001b[0m in \u001b[0;36m<module>\u001b[0;34m\u001b[0m\n\u001b[0;32m----> 1\u001b[0;31m \u001b[0mutils\u001b[0m\u001b[0;34m.\u001b[0m\u001b[0mtest_model_compile\u001b[0m\u001b[0;34m(\u001b[0m\u001b[0mmodel\u001b[0m\u001b[0;34m)\u001b[0m\u001b[0;34m\u001b[0m\u001b[0;34m\u001b[0m\u001b[0m\n\u001b[0m",
      "\u001b[0;32m~/work/release/W1_Assignment/utils.py\u001b[0m in \u001b[0;36mtest_model_compile\u001b[0;34m(model)\u001b[0m\n\u001b[1;32m    302\u001b[0m             \u001b[0;34m\"name\"\u001b[0m\u001b[0;34m:\u001b[0m \u001b[0;34m\"wine_type_loss_check\"\u001b[0m\u001b[0;34m,\u001b[0m\u001b[0;34m\u001b[0m\u001b[0;34m\u001b[0m\u001b[0m\n\u001b[1;32m    303\u001b[0m             \u001b[0;34m\"result\"\u001b[0m\u001b[0;34m:\u001b[0m \u001b[0;34m(\u001b[0m\u001b[0mmodel\u001b[0m\u001b[0;34m.\u001b[0m\u001b[0mloss\u001b[0m\u001b[0;34m[\u001b[0m\u001b[0;34m'wine_type'\u001b[0m\u001b[0;34m]\u001b[0m \u001b[0;34m==\u001b[0m \u001b[0;34m'binary_crossentropy'\u001b[0m\u001b[0;34m)\u001b[0m \u001b[0;32mor\u001b[0m\u001b[0;34m\u001b[0m\u001b[0;34m\u001b[0m\u001b[0m\n\u001b[0;32m--> 304\u001b[0;31m                       \u001b[0;34m(\u001b[0m\u001b[0mmodel\u001b[0m\u001b[0;34m.\u001b[0m\u001b[0mloss\u001b[0m\u001b[0;34m[\u001b[0m\u001b[0;34m'wine_type'\u001b[0m\u001b[0;34m]\u001b[0m\u001b[0;34m.\u001b[0m\u001b[0mname\u001b[0m \u001b[0;34m==\u001b[0m \u001b[0;34m'binary_crossentropy'\u001b[0m\u001b[0;34m)\u001b[0m \u001b[0;32mor\u001b[0m\u001b[0;34m\u001b[0m\u001b[0;34m\u001b[0m\u001b[0m\n\u001b[0m\u001b[1;32m    305\u001b[0m                       \u001b[0;34m(\u001b[0m\u001b[0mstr\u001b[0m\u001b[0;34m(\u001b[0m\u001b[0mmodel\u001b[0m\u001b[0;34m.\u001b[0m\u001b[0mloss\u001b[0m\u001b[0;34m[\u001b[0m\u001b[0;34m'wine_type'\u001b[0m\u001b[0;34m]\u001b[0m\u001b[0;34m)\u001b[0m\u001b[0;34m.\u001b[0m\u001b[0msplit\u001b[0m\u001b[0;34m(\u001b[0m\u001b[0;34m)\u001b[0m\u001b[0;34m[\u001b[0m\u001b[0;36m1\u001b[0m\u001b[0;34m]\u001b[0m \u001b[0;34m==\u001b[0m \u001b[0;34m'binary_crossentropy'\u001b[0m\u001b[0;34m)\u001b[0m\u001b[0;34m,\u001b[0m\u001b[0;34m\u001b[0m\u001b[0;34m\u001b[0m\u001b[0m\n\u001b[1;32m    306\u001b[0m             \u001b[0;34m\"expected\"\u001b[0m\u001b[0;34m:\u001b[0m \u001b[0;32mTrue\u001b[0m\u001b[0;34m,\u001b[0m\u001b[0;34m\u001b[0m\u001b[0;34m\u001b[0m\u001b[0m\n",
      "\u001b[0;31mAttributeError\u001b[0m: 'str' object has no attribute 'name'"
     ]
    }
   ],
   "source": [
    "utils.test_model_compile(model)"
   ]
  },
  {
   "cell_type": "markdown",
   "metadata": {
    "colab_type": "text",
    "id": "90MpAMpWuKm-"
   },
   "source": [
    "## Training the Model (TODO)\n",
    "\n",
    "Fit the model to the training inputs and outputs. \n",
    "- Check the documentation for [model.fit](https://www.tensorflow.org/api_docs/python/tf/keras/Model#fit).\n",
    "- Remember to use the normalized training set as inputs. \n",
    "- For the validation data, please use the normalized validation set.\n",
    "\n",
    "**Important: Please do not increase the number of epochs below. This is to avoid the grader from timing out. You can increase it once you have submitted your work.**"
   ]
  },
  {
   "cell_type": "code",
   "execution_count": 76,
   "metadata": {
    "colab": {},
    "colab_type": "code",
    "deletable": false,
    "id": "_eiZkle4XwiY",
    "nbgrader": {
     "cell_type": "code",
     "checksum": "d1a4565296017a0611c6f2de675f96cf",
     "grade": false,
     "grade_id": "cell-0bb56262896f6680",
     "locked": false,
     "schema_version": 3,
     "solution": true,
     "task": false
    }
   },
   "outputs": [
    {
     "name": "stdout",
     "output_type": "stream",
     "text": [
      "Train on 3155 samples, validate on 987 samples\n",
      "Epoch 1/400\n",
      "3155/3155 [==============================] - 1s 323us/sample - loss: 26.2640 - wine_quality_loss: 25.9756 - wine_type_loss: 0.2440 - wine_quality_root_mean_squared_error: 5.1010 - wine_type_root_mean_squared_error: 0.4938 - val_loss: 18.4706 - val_wine_quality_loss: 18.2296 - val_wine_type_loss: 0.2341 - val_wine_quality_root_mean_squared_error: 4.2704 - val_wine_type_root_mean_squared_error: 0.4838\n",
      "Epoch 2/400\n",
      "3155/3155 [==============================] - 0s 119us/sample - loss: 12.2446 - wine_quality_loss: 12.0053 - wine_type_loss: 0.2212 - wine_quality_root_mean_squared_error: 3.4675 - wine_type_root_mean_squared_error: 0.4704 - val_loss: 7.7680 - val_wine_quality_loss: 7.5615 - val_wine_type_loss: 0.2104 - val_wine_quality_root_mean_squared_error: 2.7491 - val_wine_type_root_mean_squared_error: 0.4587\n",
      "Epoch 3/400\n",
      "3155/3155 [==============================] - 0s 101us/sample - loss: 5.0222 - wine_quality_loss: 4.8301 - wine_type_loss: 0.1851 - wine_quality_root_mean_squared_error: 2.1993 - wine_type_root_mean_squared_error: 0.4305 - val_loss: 3.3252 - val_wine_quality_loss: 3.1654 - val_wine_type_loss: 0.1638 - val_wine_quality_root_mean_squared_error: 1.7780 - val_wine_type_root_mean_squared_error: 0.4047\n",
      "Epoch 4/400\n",
      "3155/3155 [==============================] - 0s 118us/sample - loss: 2.7325 - wine_quality_loss: 2.5963 - wine_type_loss: 0.1374 - wine_quality_root_mean_squared_error: 1.6109 - wine_type_root_mean_squared_error: 0.3710 - val_loss: 2.3685 - val_wine_quality_loss: 2.2501 - val_wine_type_loss: 0.1175 - val_wine_quality_root_mean_squared_error: 1.5003 - val_wine_type_root_mean_squared_error: 0.3429\n",
      "Epoch 5/400\n",
      "3155/3155 [==============================] - 0s 98us/sample - loss: 2.1612 - wine_quality_loss: 2.0636 - wine_type_loss: 0.0987 - wine_quality_root_mean_squared_error: 1.4361 - wine_type_root_mean_squared_error: 0.3143 - val_loss: 2.0030 - val_wine_quality_loss: 1.9175 - val_wine_type_loss: 0.0833 - val_wine_quality_root_mean_squared_error: 1.3855 - val_wine_type_root_mean_squared_error: 0.2887\n",
      "Epoch 6/400\n",
      "3155/3155 [==============================] - 0s 99us/sample - loss: 1.8699 - wine_quality_loss: 1.7990 - wine_type_loss: 0.0714 - wine_quality_root_mean_squared_error: 1.3411 - wine_type_root_mean_squared_error: 0.2673 - val_loss: 1.7679 - val_wine_quality_loss: 1.7042 - val_wine_type_loss: 0.0611 - val_wine_quality_root_mean_squared_error: 1.3064 - val_wine_type_root_mean_squared_error: 0.2472\n",
      "Epoch 7/400\n",
      "3155/3155 [==============================] - 0s 96us/sample - loss: 1.6565 - wine_quality_loss: 1.6038 - wine_type_loss: 0.0533 - wine_quality_root_mean_squared_error: 1.2662 - wine_type_root_mean_squared_error: 0.2308 - val_loss: 1.5841 - val_wine_quality_loss: 1.5360 - val_wine_type_loss: 0.0453 - val_wine_quality_root_mean_squared_error: 1.2405 - val_wine_type_root_mean_squared_error: 0.2129\n",
      "Epoch 8/400\n",
      "3155/3155 [==============================] - 0s 97us/sample - loss: 1.4908 - wine_quality_loss: 1.4523 - wine_type_loss: 0.0406 - wine_quality_root_mean_squared_error: 1.2042 - wine_type_root_mean_squared_error: 0.2018 - val_loss: 1.4424 - val_wine_quality_loss: 1.4045 - val_wine_type_loss: 0.0352 - val_wine_quality_root_mean_squared_error: 1.1863 - val_wine_type_root_mean_squared_error: 0.1876\n",
      "Epoch 9/400\n",
      "3155/3155 [==============================] - 0s 114us/sample - loss: 1.3575 - wine_quality_loss: 1.3249 - wine_type_loss: 0.0320 - wine_quality_root_mean_squared_error: 1.1513 - wine_type_root_mean_squared_error: 0.1789 - val_loss: 1.3245 - val_wine_quality_loss: 1.2942 - val_wine_type_loss: 0.0277 - val_wine_quality_root_mean_squared_error: 1.1388 - val_wine_type_root_mean_squared_error: 0.1666\n",
      "Epoch 10/400\n",
      "3155/3155 [==============================] - 0s 96us/sample - loss: 1.2462 - wine_quality_loss: 1.2211 - wine_type_loss: 0.0259 - wine_quality_root_mean_squared_error: 1.1047 - wine_type_root_mean_squared_error: 0.1610 - val_loss: 1.2254 - val_wine_quality_loss: 1.1997 - val_wine_type_loss: 0.0233 - val_wine_quality_root_mean_squared_error: 1.0964 - val_wine_type_root_mean_squared_error: 0.1528\n",
      "Epoch 11/400\n",
      "3155/3155 [==============================] - 0s 97us/sample - loss: 1.1531 - wine_quality_loss: 1.1305 - wine_type_loss: 0.0220 - wine_quality_root_mean_squared_error: 1.0636 - wine_type_root_mean_squared_error: 0.1478 - val_loss: 1.1310 - val_wine_quality_loss: 1.1091 - val_wine_type_loss: 0.0196 - val_wine_quality_root_mean_squared_error: 1.0542 - val_wine_type_root_mean_squared_error: 0.1402\n",
      "Epoch 12/400\n",
      "3155/3155 [==============================] - 0s 94us/sample - loss: 1.0681 - wine_quality_loss: 1.0487 - wine_type_loss: 0.0188 - wine_quality_root_mean_squared_error: 1.0243 - wine_type_root_mean_squared_error: 0.1371 - val_loss: 1.0528 - val_wine_quality_loss: 1.0337 - val_wine_type_loss: 0.0170 - val_wine_quality_root_mean_squared_error: 1.0177 - val_wine_type_root_mean_squared_error: 0.1307\n",
      "Epoch 13/400\n",
      "3155/3155 [==============================] - 0s 96us/sample - loss: 0.9968 - wine_quality_loss: 0.9794 - wine_type_loss: 0.0166 - wine_quality_root_mean_squared_error: 0.9901 - wine_type_root_mean_squared_error: 0.1288 - val_loss: 0.9856 - val_wine_quality_loss: 0.9684 - val_wine_type_loss: 0.0153 - val_wine_quality_root_mean_squared_error: 0.9850 - val_wine_type_root_mean_squared_error: 0.1238\n",
      "Epoch 14/400\n",
      "3155/3155 [==============================] - 0s 96us/sample - loss: 0.9321 - wine_quality_loss: 0.9156 - wine_type_loss: 0.0154 - wine_quality_root_mean_squared_error: 0.9577 - wine_type_root_mean_squared_error: 0.1225 - val_loss: 0.9274 - val_wine_quality_loss: 0.9117 - val_wine_type_loss: 0.0139 - val_wine_quality_root_mean_squared_error: 0.9558 - val_wine_type_root_mean_squared_error: 0.1181\n",
      "Epoch 15/400\n",
      "3155/3155 [==============================] - 0s 94us/sample - loss: 0.8743 - wine_quality_loss: 0.8594 - wine_type_loss: 0.0137 - wine_quality_root_mean_squared_error: 0.9277 - wine_type_root_mean_squared_error: 0.1171 - val_loss: 0.8682 - val_wine_quality_loss: 0.8538 - val_wine_type_loss: 0.0127 - val_wine_quality_root_mean_squared_error: 0.9249 - val_wine_type_root_mean_squared_error: 0.1129\n",
      "Epoch 16/400\n",
      "3155/3155 [==============================] - 0s 95us/sample - loss: 0.8196 - wine_quality_loss: 0.8067 - wine_type_loss: 0.0127 - wine_quality_root_mean_squared_error: 0.8982 - wine_type_root_mean_squared_error: 0.1128 - val_loss: 0.8227 - val_wine_quality_loss: 0.8092 - val_wine_type_loss: 0.0119 - val_wine_quality_root_mean_squared_error: 0.9004 - val_wine_type_root_mean_squared_error: 0.1094\n",
      "Epoch 17/400\n",
      "3155/3155 [==============================] - 0s 96us/sample - loss: 0.7762 - wine_quality_loss: 0.7637 - wine_type_loss: 0.0119 - wine_quality_root_mean_squared_error: 0.8742 - wine_type_root_mean_squared_error: 0.1093 - val_loss: 0.7826 - val_wine_quality_loss: 0.7701 - val_wine_type_loss: 0.0112 - val_wine_quality_root_mean_squared_error: 0.8783 - val_wine_type_root_mean_squared_error: 0.1059\n",
      "Epoch 18/400\n",
      "3155/3155 [==============================] - 0s 98us/sample - loss: 0.7282 - wine_quality_loss: 0.7164 - wine_type_loss: 0.0113 - wine_quality_root_mean_squared_error: 0.8467 - wine_type_root_mean_squared_error: 0.1063 - val_loss: 0.7313 - val_wine_quality_loss: 0.7194 - val_wine_type_loss: 0.0106 - val_wine_quality_root_mean_squared_error: 0.8489 - val_wine_type_root_mean_squared_error: 0.1033\n",
      "Epoch 19/400\n",
      "3155/3155 [==============================] - 0s 99us/sample - loss: 0.6879 - wine_quality_loss: 0.6759 - wine_type_loss: 0.0108 - wine_quality_root_mean_squared_error: 0.8229 - wine_type_root_mean_squared_error: 0.1037 - val_loss: 0.7002 - val_wine_quality_loss: 0.6889 - val_wine_type_loss: 0.0101 - val_wine_quality_root_mean_squared_error: 0.8307 - val_wine_type_root_mean_squared_error: 0.1008\n",
      "Epoch 20/400\n",
      "3155/3155 [==============================] - 0s 94us/sample - loss: 0.6508 - wine_quality_loss: 0.6407 - wine_type_loss: 0.0103 - wine_quality_root_mean_squared_error: 0.8003 - wine_type_root_mean_squared_error: 0.1014 - val_loss: 0.6610 - val_wine_quality_loss: 0.6503 - val_wine_type_loss: 0.0096 - val_wine_quality_root_mean_squared_error: 0.8071 - val_wine_type_root_mean_squared_error: 0.0984\n",
      "Epoch 21/400\n",
      "3155/3155 [==============================] - 0s 111us/sample - loss: 0.6183 - wine_quality_loss: 0.6088 - wine_type_loss: 0.0099 - wine_quality_root_mean_squared_error: 0.7800 - wine_type_root_mean_squared_error: 0.0994 - val_loss: 0.6321 - val_wine_quality_loss: 0.6217 - val_wine_type_loss: 0.0093 - val_wine_quality_root_mean_squared_error: 0.7891 - val_wine_type_root_mean_squared_error: 0.0968\n",
      "Epoch 22/400\n",
      "3155/3155 [==============================] - 0s 97us/sample - loss: 0.5864 - wine_quality_loss: 0.5765 - wine_type_loss: 0.0095 - wine_quality_root_mean_squared_error: 0.7595 - wine_type_root_mean_squared_error: 0.0977 - val_loss: 0.6010 - val_wine_quality_loss: 0.5910 - val_wine_type_loss: 0.0090 - val_wine_quality_root_mean_squared_error: 0.7694 - val_wine_type_root_mean_squared_error: 0.0952\n",
      "Epoch 23/400\n",
      "3155/3155 [==============================] - 0s 93us/sample - loss: 0.5566 - wine_quality_loss: 0.5476 - wine_type_loss: 0.0093 - wine_quality_root_mean_squared_error: 0.7398 - wine_type_root_mean_squared_error: 0.0962 - val_loss: 0.5823 - val_wine_quality_loss: 0.5728 - val_wine_type_loss: 0.0087 - val_wine_quality_root_mean_squared_error: 0.7574 - val_wine_type_root_mean_squared_error: 0.0934\n",
      "Epoch 24/400\n",
      "3155/3155 [==============================] - 0s 95us/sample - loss: 0.5315 - wine_quality_loss: 0.5222 - wine_type_loss: 0.0089 - wine_quality_root_mean_squared_error: 0.7229 - wine_type_root_mean_squared_error: 0.0947 - val_loss: 0.5498 - val_wine_quality_loss: 0.5405 - val_wine_type_loss: 0.0085 - val_wine_quality_root_mean_squared_error: 0.7358 - val_wine_type_root_mean_squared_error: 0.0922\n",
      "Epoch 25/400\n",
      "3155/3155 [==============================] - 0s 96us/sample - loss: 0.5059 - wine_quality_loss: 0.4964 - wine_type_loss: 0.0087 - wine_quality_root_mean_squared_error: 0.7051 - wine_type_root_mean_squared_error: 0.0935 - val_loss: 0.5425 - val_wine_quality_loss: 0.5334 - val_wine_type_loss: 0.0083 - val_wine_quality_root_mean_squared_error: 0.7309 - val_wine_type_root_mean_squared_error: 0.0910\n",
      "Epoch 26/400\n",
      "3155/3155 [==============================] - 0s 96us/sample - loss: 0.4862 - wine_quality_loss: 0.4780 - wine_type_loss: 0.0085 - wine_quality_root_mean_squared_error: 0.6912 - wine_type_root_mean_squared_error: 0.0921 - val_loss: 0.5054 - val_wine_quality_loss: 0.4967 - val_wine_type_loss: 0.0080 - val_wine_quality_root_mean_squared_error: 0.7052 - val_wine_type_root_mean_squared_error: 0.0895\n",
      "Epoch 27/400\n",
      "3155/3155 [==============================] - 0s 94us/sample - loss: 0.4678 - wine_quality_loss: 0.4601 - wine_type_loss: 0.0083 - wine_quality_root_mean_squared_error: 0.6779 - wine_type_root_mean_squared_error: 0.0910 - val_loss: 0.4884 - val_wine_quality_loss: 0.4799 - val_wine_type_loss: 0.0078 - val_wine_quality_root_mean_squared_error: 0.6932 - val_wine_type_root_mean_squared_error: 0.0884\n",
      "Epoch 28/400\n",
      "3155/3155 [==============================] - 0s 93us/sample - loss: 0.4486 - wine_quality_loss: 0.4401 - wine_type_loss: 0.0081 - wine_quality_root_mean_squared_error: 0.6637 - wine_type_root_mean_squared_error: 0.0902 - val_loss: 0.4795 - val_wine_quality_loss: 0.4712 - val_wine_type_loss: 0.0076 - val_wine_quality_root_mean_squared_error: 0.6869 - val_wine_type_root_mean_squared_error: 0.0875\n",
      "Epoch 29/400\n",
      "3155/3155 [==============================] - 0s 94us/sample - loss: 0.4341 - wine_quality_loss: 0.4258 - wine_type_loss: 0.0079 - wine_quality_root_mean_squared_error: 0.6528 - wine_type_root_mean_squared_error: 0.0891 - val_loss: 0.4613 - val_wine_quality_loss: 0.4533 - val_wine_type_loss: 0.0075 - val_wine_quality_root_mean_squared_error: 0.6737 - val_wine_type_root_mean_squared_error: 0.0865\n",
      "Epoch 30/400\n",
      "3155/3155 [==============================] - 0s 97us/sample - loss: 0.4213 - wine_quality_loss: 0.4139 - wine_type_loss: 0.0078 - wine_quality_root_mean_squared_error: 0.6431 - wine_type_root_mean_squared_error: 0.0883 - val_loss: 0.4456 - val_wine_quality_loss: 0.4377 - val_wine_type_loss: 0.0073 - val_wine_quality_root_mean_squared_error: 0.6620 - val_wine_type_root_mean_squared_error: 0.0855\n",
      "Epoch 31/400\n",
      "3155/3155 [==============================] - 0s 96us/sample - loss: 0.4083 - wine_quality_loss: 0.4002 - wine_type_loss: 0.0076 - wine_quality_root_mean_squared_error: 0.6330 - wine_type_root_mean_squared_error: 0.0874 - val_loss: 0.4368 - val_wine_quality_loss: 0.4291 - val_wine_type_loss: 0.0072 - val_wine_quality_root_mean_squared_error: 0.6555 - val_wine_type_root_mean_squared_error: 0.0848\n",
      "Epoch 32/400\n",
      "3155/3155 [==============================] - 0s 97us/sample - loss: 0.3965 - wine_quality_loss: 0.3891 - wine_type_loss: 0.0075 - wine_quality_root_mean_squared_error: 0.6237 - wine_type_root_mean_squared_error: 0.0867 - val_loss: 0.4285 - val_wine_quality_loss: 0.4209 - val_wine_type_loss: 0.0071 - val_wine_quality_root_mean_squared_error: 0.6492 - val_wine_type_root_mean_squared_error: 0.0843\n",
      "Epoch 33/400\n",
      "3155/3155 [==============================] - 0s 96us/sample - loss: 0.3879 - wine_quality_loss: 0.3797 - wine_type_loss: 0.0073 - wine_quality_root_mean_squared_error: 0.6169 - wine_type_root_mean_squared_error: 0.0859 - val_loss: 0.4194 - val_wine_quality_loss: 0.4119 - val_wine_type_loss: 0.0070 - val_wine_quality_root_mean_squared_error: 0.6422 - val_wine_type_root_mean_squared_error: 0.0836\n",
      "Epoch 34/400\n",
      "3155/3155 [==============================] - 0s 95us/sample - loss: 0.3788 - wine_quality_loss: 0.3723 - wine_type_loss: 0.0073 - wine_quality_root_mean_squared_error: 0.6096 - wine_type_root_mean_squared_error: 0.0852 - val_loss: 0.4120 - val_wine_quality_loss: 0.4047 - val_wine_type_loss: 0.0069 - val_wine_quality_root_mean_squared_error: 0.6365 - val_wine_type_root_mean_squared_error: 0.0829\n",
      "Epoch 35/400\n",
      "3155/3155 [==============================] - 0s 96us/sample - loss: 0.3708 - wine_quality_loss: 0.3632 - wine_type_loss: 0.0071 - wine_quality_root_mean_squared_error: 0.6030 - wine_type_root_mean_squared_error: 0.0846 - val_loss: 0.4055 - val_wine_quality_loss: 0.3984 - val_wine_type_loss: 0.0068 - val_wine_quality_root_mean_squared_error: 0.6314 - val_wine_type_root_mean_squared_error: 0.0823\n",
      "Epoch 36/400\n",
      "3155/3155 [==============================] - 0s 96us/sample - loss: 0.3645 - wine_quality_loss: 0.3571 - wine_type_loss: 0.0070 - wine_quality_root_mean_squared_error: 0.5979 - wine_type_root_mean_squared_error: 0.0839 - val_loss: 0.3984 - val_wine_quality_loss: 0.3913 - val_wine_type_loss: 0.0067 - val_wine_quality_root_mean_squared_error: 0.6259 - val_wine_type_root_mean_squared_error: 0.0818\n",
      "Epoch 37/400\n",
      "3155/3155 [==============================] - 0s 97us/sample - loss: 0.3577 - wine_quality_loss: 0.3503 - wine_type_loss: 0.0069 - wine_quality_root_mean_squared_error: 0.5923 - wine_type_root_mean_squared_error: 0.0833 - val_loss: 0.3960 - val_wine_quality_loss: 0.3890 - val_wine_type_loss: 0.0066 - val_wine_quality_root_mean_squared_error: 0.6241 - val_wine_type_root_mean_squared_error: 0.0812\n",
      "Epoch 38/400\n",
      "3155/3155 [==============================] - 0s 98us/sample - loss: 0.3536 - wine_quality_loss: 0.3466 - wine_type_loss: 0.0068 - wine_quality_root_mean_squared_error: 0.5889 - wine_type_root_mean_squared_error: 0.0828 - val_loss: 0.3860 - val_wine_quality_loss: 0.3792 - val_wine_type_loss: 0.0064 - val_wine_quality_root_mean_squared_error: 0.6161 - val_wine_type_root_mean_squared_error: 0.0805\n",
      "Epoch 39/400\n",
      "3155/3155 [==============================] - 0s 96us/sample - loss: 0.3470 - wine_quality_loss: 0.3404 - wine_type_loss: 0.0068 - wine_quality_root_mean_squared_error: 0.5833 - wine_type_root_mean_squared_error: 0.0823 - val_loss: 0.3814 - val_wine_quality_loss: 0.3747 - val_wine_type_loss: 0.0064 - val_wine_quality_root_mean_squared_error: 0.6124 - val_wine_type_root_mean_squared_error: 0.0800\n",
      "Epoch 40/400\n",
      "3155/3155 [==============================] - 0s 110us/sample - loss: 0.3434 - wine_quality_loss: 0.3366 - wine_type_loss: 0.0067 - wine_quality_root_mean_squared_error: 0.5803 - wine_type_root_mean_squared_error: 0.0817 - val_loss: 0.3851 - val_wine_quality_loss: 0.3784 - val_wine_type_loss: 0.0063 - val_wine_quality_root_mean_squared_error: 0.6154 - val_wine_type_root_mean_squared_error: 0.0796\n",
      "Epoch 41/400\n",
      "3155/3155 [==============================] - 0s 95us/sample - loss: 0.3412 - wine_quality_loss: 0.3346 - wine_type_loss: 0.0066 - wine_quality_root_mean_squared_error: 0.5785 - wine_type_root_mean_squared_error: 0.0811 - val_loss: 0.3773 - val_wine_quality_loss: 0.3708 - val_wine_type_loss: 0.0062 - val_wine_quality_root_mean_squared_error: 0.6092 - val_wine_type_root_mean_squared_error: 0.0790\n",
      "Epoch 42/400\n",
      "3155/3155 [==============================] - 0s 95us/sample - loss: 0.3372 - wine_quality_loss: 0.3303 - wine_type_loss: 0.0065 - wine_quality_root_mean_squared_error: 0.5750 - wine_type_root_mean_squared_error: 0.0806 - val_loss: 0.3767 - val_wine_quality_loss: 0.3702 - val_wine_type_loss: 0.0062 - val_wine_quality_root_mean_squared_error: 0.6087 - val_wine_type_root_mean_squared_error: 0.0789\n",
      "Epoch 43/400\n",
      "3155/3155 [==============================] - 0s 95us/sample - loss: 0.3337 - wine_quality_loss: 0.3271 - wine_type_loss: 0.0064 - wine_quality_root_mean_squared_error: 0.5720 - wine_type_root_mean_squared_error: 0.0801 - val_loss: 0.3701 - val_wine_quality_loss: 0.3636 - val_wine_type_loss: 0.0061 - val_wine_quality_root_mean_squared_error: 0.6033 - val_wine_type_root_mean_squared_error: 0.0784\n",
      "Epoch 44/400\n",
      "3155/3155 [==============================] - 0s 99us/sample - loss: 0.3300 - wine_quality_loss: 0.3239 - wine_type_loss: 0.0063 - wine_quality_root_mean_squared_error: 0.5689 - wine_type_root_mean_squared_error: 0.0797 - val_loss: 0.3692 - val_wine_quality_loss: 0.3627 - val_wine_type_loss: 0.0060 - val_wine_quality_root_mean_squared_error: 0.6026 - val_wine_type_root_mean_squared_error: 0.0779\n",
      "Epoch 45/400\n",
      "3155/3155 [==============================] - 0s 96us/sample - loss: 0.3268 - wine_quality_loss: 0.3214 - wine_type_loss: 0.0063 - wine_quality_root_mean_squared_error: 0.5662 - wine_type_root_mean_squared_error: 0.0793 - val_loss: 0.3677 - val_wine_quality_loss: 0.3613 - val_wine_type_loss: 0.0060 - val_wine_quality_root_mean_squared_error: 0.6014 - val_wine_type_root_mean_squared_error: 0.0777\n",
      "Epoch 46/400\n",
      "3155/3155 [==============================] - 0s 94us/sample - loss: 0.3250 - wine_quality_loss: 0.3186 - wine_type_loss: 0.0063 - wine_quality_root_mean_squared_error: 0.5646 - wine_type_root_mean_squared_error: 0.0789 - val_loss: 0.3670 - val_wine_quality_loss: 0.3608 - val_wine_type_loss: 0.0060 - val_wine_quality_root_mean_squared_error: 0.6008 - val_wine_type_root_mean_squared_error: 0.0773\n",
      "Epoch 47/400\n",
      "3155/3155 [==============================] - 0s 96us/sample - loss: 0.3239 - wine_quality_loss: 0.3181 - wine_type_loss: 0.0061 - wine_quality_root_mean_squared_error: 0.5637 - wine_type_root_mean_squared_error: 0.0784 - val_loss: 0.3666 - val_wine_quality_loss: 0.3605 - val_wine_type_loss: 0.0059 - val_wine_quality_root_mean_squared_error: 0.6006 - val_wine_type_root_mean_squared_error: 0.0771\n",
      "Epoch 48/400\n",
      "3155/3155 [==============================] - 0s 96us/sample - loss: 0.3211 - wine_quality_loss: 0.3145 - wine_type_loss: 0.0063 - wine_quality_root_mean_squared_error: 0.5612 - wine_type_root_mean_squared_error: 0.0782 - val_loss: 0.3683 - val_wine_quality_loss: 0.3621 - val_wine_type_loss: 0.0059 - val_wine_quality_root_mean_squared_error: 0.6020 - val_wine_type_root_mean_squared_error: 0.0769\n",
      "Epoch 49/400\n",
      "3155/3155 [==============================] - 0s 98us/sample - loss: 0.3172 - wine_quality_loss: 0.3115 - wine_type_loss: 0.0060 - wine_quality_root_mean_squared_error: 0.5578 - wine_type_root_mean_squared_error: 0.0778 - val_loss: 0.3612 - val_wine_quality_loss: 0.3551 - val_wine_type_loss: 0.0058 - val_wine_quality_root_mean_squared_error: 0.5961 - val_wine_type_root_mean_squared_error: 0.0763\n",
      "Epoch 50/400\n",
      "3155/3155 [==============================] - 0s 97us/sample - loss: 0.3182 - wine_quality_loss: 0.3122 - wine_type_loss: 0.0060 - wine_quality_root_mean_squared_error: 0.5588 - wine_type_root_mean_squared_error: 0.0773 - val_loss: 0.3621 - val_wine_quality_loss: 0.3561 - val_wine_type_loss: 0.0058 - val_wine_quality_root_mean_squared_error: 0.5969 - val_wine_type_root_mean_squared_error: 0.0762\n",
      "Epoch 51/400\n",
      "3155/3155 [==============================] - 0s 95us/sample - loss: 0.3161 - wine_quality_loss: 0.3098 - wine_type_loss: 0.0059 - wine_quality_root_mean_squared_error: 0.5569 - wine_type_root_mean_squared_error: 0.0770 - val_loss: 0.3591 - val_wine_quality_loss: 0.3531 - val_wine_type_loss: 0.0057 - val_wine_quality_root_mean_squared_error: 0.5945 - val_wine_type_root_mean_squared_error: 0.0759\n",
      "Epoch 52/400\n",
      "3155/3155 [==============================] - 0s 96us/sample - loss: 0.3148 - wine_quality_loss: 0.3090 - wine_type_loss: 0.0059 - wine_quality_root_mean_squared_error: 0.5558 - wine_type_root_mean_squared_error: 0.0767 - val_loss: 0.3594 - val_wine_quality_loss: 0.3536 - val_wine_type_loss: 0.0057 - val_wine_quality_root_mean_squared_error: 0.5948 - val_wine_type_root_mean_squared_error: 0.0755\n",
      "Epoch 53/400\n",
      "3155/3155 [==============================] - 0s 96us/sample - loss: 0.3130 - wine_quality_loss: 0.3072 - wine_type_loss: 0.0058 - wine_quality_root_mean_squared_error: 0.5542 - wine_type_root_mean_squared_error: 0.0765 - val_loss: 0.3616 - val_wine_quality_loss: 0.3556 - val_wine_type_loss: 0.0056 - val_wine_quality_root_mean_squared_error: 0.5966 - val_wine_type_root_mean_squared_error: 0.0753\n",
      "Epoch 54/400\n",
      "3155/3155 [==============================] - 0s 112us/sample - loss: 0.3116 - wine_quality_loss: 0.3061 - wine_type_loss: 0.0058 - wine_quality_root_mean_squared_error: 0.5530 - wine_type_root_mean_squared_error: 0.0761 - val_loss: 0.3694 - val_wine_quality_loss: 0.3635 - val_wine_type_loss: 0.0056 - val_wine_quality_root_mean_squared_error: 0.6031 - val_wine_type_root_mean_squared_error: 0.0750\n",
      "Epoch 55/400\n",
      "3155/3155 [==============================] - 0s 99us/sample - loss: 0.3108 - wine_quality_loss: 0.3045 - wine_type_loss: 0.0057 - wine_quality_root_mean_squared_error: 0.5524 - wine_type_root_mean_squared_error: 0.0758 - val_loss: 0.3563 - val_wine_quality_loss: 0.3504 - val_wine_type_loss: 0.0056 - val_wine_quality_root_mean_squared_error: 0.5922 - val_wine_type_root_mean_squared_error: 0.0748\n",
      "Epoch 56/400\n",
      "3155/3155 [==============================] - 0s 96us/sample - loss: 0.3079 - wine_quality_loss: 0.3026 - wine_type_loss: 0.0057 - wine_quality_root_mean_squared_error: 0.5497 - wine_type_root_mean_squared_error: 0.0755 - val_loss: 0.3621 - val_wine_quality_loss: 0.3563 - val_wine_type_loss: 0.0055 - val_wine_quality_root_mean_squared_error: 0.5971 - val_wine_type_root_mean_squared_error: 0.0745\n",
      "Epoch 57/400\n",
      "3155/3155 [==============================] - 0s 96us/sample - loss: 0.3077 - wine_quality_loss: 0.3016 - wine_type_loss: 0.0056 - wine_quality_root_mean_squared_error: 0.5496 - wine_type_root_mean_squared_error: 0.0752 - val_loss: 0.3600 - val_wine_quality_loss: 0.3543 - val_wine_type_loss: 0.0055 - val_wine_quality_root_mean_squared_error: 0.5954 - val_wine_type_root_mean_squared_error: 0.0743\n",
      "Epoch 58/400\n",
      "3155/3155 [==============================] - 0s 94us/sample - loss: 0.3068 - wine_quality_loss: 0.3007 - wine_type_loss: 0.0056 - wine_quality_root_mean_squared_error: 0.5488 - wine_type_root_mean_squared_error: 0.0749 - val_loss: 0.3531 - val_wine_quality_loss: 0.3474 - val_wine_type_loss: 0.0055 - val_wine_quality_root_mean_squared_error: 0.5896 - val_wine_type_root_mean_squared_error: 0.0740\n",
      "Epoch 59/400\n",
      "3155/3155 [==============================] - 0s 94us/sample - loss: 0.3055 - wine_quality_loss: 0.2993 - wine_type_loss: 0.0056 - wine_quality_root_mean_squared_error: 0.5477 - wine_type_root_mean_squared_error: 0.0747 - val_loss: 0.3508 - val_wine_quality_loss: 0.3450 - val_wine_type_loss: 0.0054 - val_wine_quality_root_mean_squared_error: 0.5877 - val_wine_type_root_mean_squared_error: 0.0736\n",
      "Epoch 60/400\n",
      "3155/3155 [==============================] - 0s 95us/sample - loss: 0.3048 - wine_quality_loss: 0.2997 - wine_type_loss: 0.0055 - wine_quality_root_mean_squared_error: 0.5471 - wine_type_root_mean_squared_error: 0.0743 - val_loss: 0.3510 - val_wine_quality_loss: 0.3453 - val_wine_type_loss: 0.0053 - val_wine_quality_root_mean_squared_error: 0.5879 - val_wine_type_root_mean_squared_error: 0.0733\n",
      "Epoch 61/400\n",
      "3155/3155 [==============================] - 0s 96us/sample - loss: 0.3022 - wine_quality_loss: 0.2966 - wine_type_loss: 0.0055 - wine_quality_root_mean_squared_error: 0.5447 - wine_type_root_mean_squared_error: 0.0742 - val_loss: 0.3514 - val_wine_quality_loss: 0.3458 - val_wine_type_loss: 0.0053 - val_wine_quality_root_mean_squared_error: 0.5882 - val_wine_type_root_mean_squared_error: 0.0732\n",
      "Epoch 62/400\n",
      "3155/3155 [==============================] - 0s 96us/sample - loss: 0.3023 - wine_quality_loss: 0.2968 - wine_type_loss: 0.0054 - wine_quality_root_mean_squared_error: 0.5448 - wine_type_root_mean_squared_error: 0.0738 - val_loss: 0.3522 - val_wine_quality_loss: 0.3467 - val_wine_type_loss: 0.0053 - val_wine_quality_root_mean_squared_error: 0.5890 - val_wine_type_root_mean_squared_error: 0.0730\n",
      "Epoch 63/400\n",
      "3155/3155 [==============================] - 0s 96us/sample - loss: 0.3012 - wine_quality_loss: 0.2955 - wine_type_loss: 0.0054 - wine_quality_root_mean_squared_error: 0.5439 - wine_type_root_mean_squared_error: 0.0736 - val_loss: 0.3494 - val_wine_quality_loss: 0.3439 - val_wine_type_loss: 0.0053 - val_wine_quality_root_mean_squared_error: 0.5866 - val_wine_type_root_mean_squared_error: 0.0727\n",
      "Epoch 64/400\n",
      "3155/3155 [==============================] - 0s 96us/sample - loss: 0.3005 - wine_quality_loss: 0.2952 - wine_type_loss: 0.0054 - wine_quality_root_mean_squared_error: 0.5433 - wine_type_root_mean_squared_error: 0.0734 - val_loss: 0.3541 - val_wine_quality_loss: 0.3487 - val_wine_type_loss: 0.0052 - val_wine_quality_root_mean_squared_error: 0.5907 - val_wine_type_root_mean_squared_error: 0.0725\n",
      "Epoch 65/400\n",
      "3155/3155 [==============================] - 0s 95us/sample - loss: 0.2994 - wine_quality_loss: 0.2935 - wine_type_loss: 0.0056 - wine_quality_root_mean_squared_error: 0.5422 - wine_type_root_mean_squared_error: 0.0731 - val_loss: 0.3531 - val_wine_quality_loss: 0.3476 - val_wine_type_loss: 0.0052 - val_wine_quality_root_mean_squared_error: 0.5898 - val_wine_type_root_mean_squared_error: 0.0724\n",
      "Epoch 66/400\n",
      "3155/3155 [==============================] - 0s 98us/sample - loss: 0.2990 - wine_quality_loss: 0.2943 - wine_type_loss: 0.0053 - wine_quality_root_mean_squared_error: 0.5420 - wine_type_root_mean_squared_error: 0.0730 - val_loss: 0.3523 - val_wine_quality_loss: 0.3470 - val_wine_type_loss: 0.0052 - val_wine_quality_root_mean_squared_error: 0.5892 - val_wine_type_root_mean_squared_error: 0.0723\n",
      "Epoch 67/400\n",
      "3155/3155 [==============================] - 0s 95us/sample - loss: 0.2985 - wine_quality_loss: 0.2930 - wine_type_loss: 0.0053 - wine_quality_root_mean_squared_error: 0.5415 - wine_type_root_mean_squared_error: 0.0727 - val_loss: 0.3485 - val_wine_quality_loss: 0.3431 - val_wine_type_loss: 0.0052 - val_wine_quality_root_mean_squared_error: 0.5859 - val_wine_type_root_mean_squared_error: 0.0721\n",
      "Epoch 68/400\n",
      "3155/3155 [==============================] - 0s 96us/sample - loss: 0.2965 - wine_quality_loss: 0.2909 - wine_type_loss: 0.0052 - wine_quality_root_mean_squared_error: 0.5397 - wine_type_root_mean_squared_error: 0.0726 - val_loss: 0.3518 - val_wine_quality_loss: 0.3464 - val_wine_type_loss: 0.0051 - val_wine_quality_root_mean_squared_error: 0.5887 - val_wine_type_root_mean_squared_error: 0.0719\n",
      "Epoch 69/400\n",
      "3155/3155 [==============================] - 0s 95us/sample - loss: 0.2966 - wine_quality_loss: 0.2913 - wine_type_loss: 0.0052 - wine_quality_root_mean_squared_error: 0.5398 - wine_type_root_mean_squared_error: 0.0723 - val_loss: 0.3470 - val_wine_quality_loss: 0.3416 - val_wine_type_loss: 0.0051 - val_wine_quality_root_mean_squared_error: 0.5847 - val_wine_type_root_mean_squared_error: 0.0717\n",
      "Epoch 70/400\n",
      "3155/3155 [==============================] - 0s 97us/sample - loss: 0.2951 - wine_quality_loss: 0.2895 - wine_type_loss: 0.0052 - wine_quality_root_mean_squared_error: 0.5384 - wine_type_root_mean_squared_error: 0.0721 - val_loss: 0.3501 - val_wine_quality_loss: 0.3447 - val_wine_type_loss: 0.0051 - val_wine_quality_root_mean_squared_error: 0.5873 - val_wine_type_root_mean_squared_error: 0.0715\n",
      "Epoch 71/400\n",
      "3155/3155 [==============================] - 0s 79us/sample - loss: 0.2937 - wine_quality_loss: 0.2884 - wine_type_loss: 0.0052 - wine_quality_root_mean_squared_error: 0.5371 - wine_type_root_mean_squared_error: 0.0720 - val_loss: 0.3606 - val_wine_quality_loss: 0.3554 - val_wine_type_loss: 0.0051 - val_wine_quality_root_mean_squared_error: 0.5962 - val_wine_type_root_mean_squared_error: 0.0715\n",
      "Epoch 72/400\n",
      "3155/3155 [==============================] - 0s 98us/sample - loss: 0.2946 - wine_quality_loss: 0.2900 - wine_type_loss: 0.0051 - wine_quality_root_mean_squared_error: 0.5380 - wine_type_root_mean_squared_error: 0.0717 - val_loss: 0.3458 - val_wine_quality_loss: 0.3405 - val_wine_type_loss: 0.0050 - val_wine_quality_root_mean_squared_error: 0.5837 - val_wine_type_root_mean_squared_error: 0.0711\n",
      "Epoch 73/400\n",
      "3155/3155 [==============================] - 0s 96us/sample - loss: 0.2927 - wine_quality_loss: 0.2872 - wine_type_loss: 0.0051 - wine_quality_root_mean_squared_error: 0.5362 - wine_type_root_mean_squared_error: 0.0715 - val_loss: 0.3501 - val_wine_quality_loss: 0.3447 - val_wine_type_loss: 0.0050 - val_wine_quality_root_mean_squared_error: 0.5874 - val_wine_type_root_mean_squared_error: 0.0710\n",
      "Epoch 74/400\n",
      "3155/3155 [==============================] - 0s 96us/sample - loss: 0.2928 - wine_quality_loss: 0.2888 - wine_type_loss: 0.0051 - wine_quality_root_mean_squared_error: 0.5364 - wine_type_root_mean_squared_error: 0.0714 - val_loss: 0.3481 - val_wine_quality_loss: 0.3428 - val_wine_type_loss: 0.0050 - val_wine_quality_root_mean_squared_error: 0.5857 - val_wine_type_root_mean_squared_error: 0.0708\n",
      "Epoch 75/400\n",
      "3155/3155 [==============================] - 0s 97us/sample - loss: 0.2918 - wine_quality_loss: 0.2863 - wine_type_loss: 0.0051 - wine_quality_root_mean_squared_error: 0.5355 - wine_type_root_mean_squared_error: 0.0712 - val_loss: 0.3431 - val_wine_quality_loss: 0.3378 - val_wine_type_loss: 0.0050 - val_wine_quality_root_mean_squared_error: 0.5815 - val_wine_type_root_mean_squared_error: 0.0706\n",
      "Epoch 76/400\n",
      "3155/3155 [==============================] - 0s 95us/sample - loss: 0.2912 - wine_quality_loss: 0.2858 - wine_type_loss: 0.0050 - wine_quality_root_mean_squared_error: 0.5349 - wine_type_root_mean_squared_error: 0.0710 - val_loss: 0.3491 - val_wine_quality_loss: 0.3439 - val_wine_type_loss: 0.0050 - val_wine_quality_root_mean_squared_error: 0.5866 - val_wine_type_root_mean_squared_error: 0.0707\n",
      "Epoch 77/400\n",
      "3155/3155 [==============================] - 0s 95us/sample - loss: 0.2903 - wine_quality_loss: 0.2852 - wine_type_loss: 0.0050 - wine_quality_root_mean_squared_error: 0.5341 - wine_type_root_mean_squared_error: 0.0709 - val_loss: 0.3478 - val_wine_quality_loss: 0.3426 - val_wine_type_loss: 0.0049 - val_wine_quality_root_mean_squared_error: 0.5855 - val_wine_type_root_mean_squared_error: 0.0704\n",
      "Epoch 78/400\n",
      "3155/3155 [==============================] - 0s 100us/sample - loss: 0.2895 - wine_quality_loss: 0.2845 - wine_type_loss: 0.0050 - wine_quality_root_mean_squared_error: 0.5334 - wine_type_root_mean_squared_error: 0.0707 - val_loss: 0.3512 - val_wine_quality_loss: 0.3461 - val_wine_type_loss: 0.0049 - val_wine_quality_root_mean_squared_error: 0.5884 - val_wine_type_root_mean_squared_error: 0.0703\n",
      "Epoch 79/400\n",
      "3155/3155 [==============================] - 0s 97us/sample - loss: 0.2895 - wine_quality_loss: 0.2851 - wine_type_loss: 0.0050 - wine_quality_root_mean_squared_error: 0.5334 - wine_type_root_mean_squared_error: 0.0705 - val_loss: 0.3448 - val_wine_quality_loss: 0.3396 - val_wine_type_loss: 0.0049 - val_wine_quality_root_mean_squared_error: 0.5830 - val_wine_type_root_mean_squared_error: 0.0700\n",
      "Epoch 80/400\n",
      "3155/3155 [==============================] - 0s 96us/sample - loss: 0.2877 - wine_quality_loss: 0.2825 - wine_type_loss: 0.0049 - wine_quality_root_mean_squared_error: 0.5318 - wine_type_root_mean_squared_error: 0.0705 - val_loss: 0.3477 - val_wine_quality_loss: 0.3426 - val_wine_type_loss: 0.0049 - val_wine_quality_root_mean_squared_error: 0.5855 - val_wine_type_root_mean_squared_error: 0.0700\n",
      "Epoch 81/400\n",
      "3155/3155 [==============================] - 0s 96us/sample - loss: 0.2880 - wine_quality_loss: 0.2828 - wine_type_loss: 0.0049 - wine_quality_root_mean_squared_error: 0.5320 - wine_type_root_mean_squared_error: 0.0703 - val_loss: 0.3426 - val_wine_quality_loss: 0.3375 - val_wine_type_loss: 0.0048 - val_wine_quality_root_mean_squared_error: 0.5812 - val_wine_type_root_mean_squared_error: 0.0697\n",
      "Epoch 82/400\n",
      "3155/3155 [==============================] - 0s 95us/sample - loss: 0.2881 - wine_quality_loss: 0.2831 - wine_type_loss: 0.0049 - wine_quality_root_mean_squared_error: 0.5321 - wine_type_root_mean_squared_error: 0.0700 - val_loss: 0.3441 - val_wine_quality_loss: 0.3390 - val_wine_type_loss: 0.0048 - val_wine_quality_root_mean_squared_error: 0.5825 - val_wine_type_root_mean_squared_error: 0.0697\n",
      "Epoch 83/400\n",
      "3155/3155 [==============================] - 0s 111us/sample - loss: 0.2865 - wine_quality_loss: 0.2814 - wine_type_loss: 0.0049 - wine_quality_root_mean_squared_error: 0.5307 - wine_type_root_mean_squared_error: 0.0698 - val_loss: 0.3489 - val_wine_quality_loss: 0.3438 - val_wine_type_loss: 0.0048 - val_wine_quality_root_mean_squared_error: 0.5865 - val_wine_type_root_mean_squared_error: 0.0696\n",
      "Epoch 84/400\n",
      "3155/3155 [==============================] - 0s 96us/sample - loss: 0.2863 - wine_quality_loss: 0.2814 - wine_type_loss: 0.0049 - wine_quality_root_mean_squared_error: 0.5304 - wine_type_root_mean_squared_error: 0.0699 - val_loss: 0.3454 - val_wine_quality_loss: 0.3402 - val_wine_type_loss: 0.0048 - val_wine_quality_root_mean_squared_error: 0.5836 - val_wine_type_root_mean_squared_error: 0.0695\n",
      "Epoch 85/400\n",
      "3155/3155 [==============================] - 0s 97us/sample - loss: 0.2854 - wine_quality_loss: 0.2808 - wine_type_loss: 0.0048 - wine_quality_root_mean_squared_error: 0.5297 - wine_type_root_mean_squared_error: 0.0696 - val_loss: 0.3488 - val_wine_quality_loss: 0.3437 - val_wine_type_loss: 0.0048 - val_wine_quality_root_mean_squared_error: 0.5865 - val_wine_type_root_mean_squared_error: 0.0693\n",
      "Epoch 86/400\n",
      "3155/3155 [==============================] - 0s 95us/sample - loss: 0.2836 - wine_quality_loss: 0.2789 - wine_type_loss: 0.0048 - wine_quality_root_mean_squared_error: 0.5279 - wine_type_root_mean_squared_error: 0.0696 - val_loss: 0.3547 - val_wine_quality_loss: 0.3499 - val_wine_type_loss: 0.0048 - val_wine_quality_root_mean_squared_error: 0.5915 - val_wine_type_root_mean_squared_error: 0.0693\n",
      "Epoch 87/400\n",
      "3155/3155 [==============================] - 0s 96us/sample - loss: 0.2849 - wine_quality_loss: 0.2805 - wine_type_loss: 0.0048 - wine_quality_root_mean_squared_error: 0.5293 - wine_type_root_mean_squared_error: 0.0694 - val_loss: 0.3459 - val_wine_quality_loss: 0.3409 - val_wine_type_loss: 0.0048 - val_wine_quality_root_mean_squared_error: 0.5841 - val_wine_type_root_mean_squared_error: 0.0691\n",
      "Epoch 88/400\n",
      "3155/3155 [==============================] - 0s 97us/sample - loss: 0.2832 - wine_quality_loss: 0.2782 - wine_type_loss: 0.0048 - wine_quality_root_mean_squared_error: 0.5277 - wine_type_root_mean_squared_error: 0.0692 - val_loss: 0.3483 - val_wine_quality_loss: 0.3435 - val_wine_type_loss: 0.0047 - val_wine_quality_root_mean_squared_error: 0.5862 - val_wine_type_root_mean_squared_error: 0.0690\n",
      "Epoch 89/400\n",
      "3155/3155 [==============================] - 0s 95us/sample - loss: 0.2832 - wine_quality_loss: 0.2785 - wine_type_loss: 0.0048 - wine_quality_root_mean_squared_error: 0.5277 - wine_type_root_mean_squared_error: 0.0692 - val_loss: 0.3537 - val_wine_quality_loss: 0.3488 - val_wine_type_loss: 0.0047 - val_wine_quality_root_mean_squared_error: 0.5907 - val_wine_type_root_mean_squared_error: 0.0689\n",
      "Epoch 90/400\n",
      "3155/3155 [==============================] - 0s 96us/sample - loss: 0.2830 - wine_quality_loss: 0.2777 - wine_type_loss: 0.0047 - wine_quality_root_mean_squared_error: 0.5275 - wine_type_root_mean_squared_error: 0.0691 - val_loss: 0.3407 - val_wine_quality_loss: 0.3357 - val_wine_type_loss: 0.0047 - val_wine_quality_root_mean_squared_error: 0.5796 - val_wine_type_root_mean_squared_error: 0.0688\n",
      "Epoch 91/400\n",
      "3155/3155 [==============================] - 0s 97us/sample - loss: 0.2825 - wine_quality_loss: 0.2786 - wine_type_loss: 0.0047 - wine_quality_root_mean_squared_error: 0.5270 - wine_type_root_mean_squared_error: 0.0689 - val_loss: 0.3433 - val_wine_quality_loss: 0.3383 - val_wine_type_loss: 0.0047 - val_wine_quality_root_mean_squared_error: 0.5819 - val_wine_type_root_mean_squared_error: 0.0686\n",
      "Epoch 92/400\n",
      "3155/3155 [==============================] - 0s 96us/sample - loss: 0.2820 - wine_quality_loss: 0.2773 - wine_type_loss: 0.0047 - wine_quality_root_mean_squared_error: 0.5265 - wine_type_root_mean_squared_error: 0.0689 - val_loss: 0.3450 - val_wine_quality_loss: 0.3401 - val_wine_type_loss: 0.0047 - val_wine_quality_root_mean_squared_error: 0.5834 - val_wine_type_root_mean_squared_error: 0.0686\n",
      "Epoch 93/400\n",
      "3155/3155 [==============================] - 0s 99us/sample - loss: 0.2817 - wine_quality_loss: 0.2769 - wine_type_loss: 0.0047 - wine_quality_root_mean_squared_error: 0.5263 - wine_type_root_mean_squared_error: 0.0686 - val_loss: 0.3431 - val_wine_quality_loss: 0.3381 - val_wine_type_loss: 0.0047 - val_wine_quality_root_mean_squared_error: 0.5817 - val_wine_type_root_mean_squared_error: 0.0685\n",
      "Epoch 94/400\n",
      "3155/3155 [==============================] - 0s 97us/sample - loss: 0.2814 - wine_quality_loss: 0.2766 - wine_type_loss: 0.0047 - wine_quality_root_mean_squared_error: 0.5260 - wine_type_root_mean_squared_error: 0.0685 - val_loss: 0.3444 - val_wine_quality_loss: 0.3395 - val_wine_type_loss: 0.0046 - val_wine_quality_root_mean_squared_error: 0.5829 - val_wine_type_root_mean_squared_error: 0.0683\n",
      "Epoch 95/400\n",
      "3155/3155 [==============================] - 0s 98us/sample - loss: 0.2806 - wine_quality_loss: 0.2753 - wine_type_loss: 0.0047 - wine_quality_root_mean_squared_error: 0.5253 - wine_type_root_mean_squared_error: 0.0684 - val_loss: 0.3401 - val_wine_quality_loss: 0.3352 - val_wine_type_loss: 0.0046 - val_wine_quality_root_mean_squared_error: 0.5792 - val_wine_type_root_mean_squared_error: 0.0682\n",
      "Epoch 96/400\n",
      "3155/3155 [==============================] - 0s 97us/sample - loss: 0.2808 - wine_quality_loss: 0.2761 - wine_type_loss: 0.0047 - wine_quality_root_mean_squared_error: 0.5255 - wine_type_root_mean_squared_error: 0.0683 - val_loss: 0.3482 - val_wine_quality_loss: 0.3435 - val_wine_type_loss: 0.0046 - val_wine_quality_root_mean_squared_error: 0.5862 - val_wine_type_root_mean_squared_error: 0.0681\n",
      "Epoch 97/400\n",
      "3155/3155 [==============================] - 0s 96us/sample - loss: 0.2788 - wine_quality_loss: 0.2742 - wine_type_loss: 0.0046 - wine_quality_root_mean_squared_error: 0.5236 - wine_type_root_mean_squared_error: 0.0681 - val_loss: 0.3468 - val_wine_quality_loss: 0.3420 - val_wine_type_loss: 0.0046 - val_wine_quality_root_mean_squared_error: 0.5849 - val_wine_type_root_mean_squared_error: 0.0681\n",
      "Epoch 98/400\n",
      "3155/3155 [==============================] - 0s 96us/sample - loss: 0.2789 - wine_quality_loss: 0.2736 - wine_type_loss: 0.0046 - wine_quality_root_mean_squared_error: 0.5237 - wine_type_root_mean_squared_error: 0.0682 - val_loss: 0.3427 - val_wine_quality_loss: 0.3379 - val_wine_type_loss: 0.0046 - val_wine_quality_root_mean_squared_error: 0.5815 - val_wine_type_root_mean_squared_error: 0.0679\n",
      "Epoch 99/400\n",
      "3155/3155 [==============================] - 0s 95us/sample - loss: 0.2790 - wine_quality_loss: 0.2743 - wine_type_loss: 0.0046 - wine_quality_root_mean_squared_error: 0.5238 - wine_type_root_mean_squared_error: 0.0680 - val_loss: 0.3414 - val_wine_quality_loss: 0.3366 - val_wine_type_loss: 0.0046 - val_wine_quality_root_mean_squared_error: 0.5804 - val_wine_type_root_mean_squared_error: 0.0678\n",
      "Epoch 100/400\n",
      "3155/3155 [==============================] - 0s 96us/sample - loss: 0.2784 - wine_quality_loss: 0.2739 - wine_type_loss: 0.0046 - wine_quality_root_mean_squared_error: 0.5233 - wine_type_root_mean_squared_error: 0.0678 - val_loss: 0.3510 - val_wine_quality_loss: 0.3461 - val_wine_type_loss: 0.0046 - val_wine_quality_root_mean_squared_error: 0.5885 - val_wine_type_root_mean_squared_error: 0.0678\n",
      "Epoch 101/400\n",
      "3155/3155 [==============================] - 0s 99us/sample - loss: 0.2780 - wine_quality_loss: 0.2727 - wine_type_loss: 0.0046 - wine_quality_root_mean_squared_error: 0.5229 - wine_type_root_mean_squared_error: 0.0677 - val_loss: 0.3441 - val_wine_quality_loss: 0.3392 - val_wine_type_loss: 0.0046 - val_wine_quality_root_mean_squared_error: 0.5826 - val_wine_type_root_mean_squared_error: 0.0677\n",
      "Epoch 102/400\n",
      "3155/3155 [==============================] - 0s 99us/sample - loss: 0.2774 - wine_quality_loss: 0.2727 - wine_type_loss: 0.0046 - wine_quality_root_mean_squared_error: 0.5224 - wine_type_root_mean_squared_error: 0.0676 - val_loss: 0.3439 - val_wine_quality_loss: 0.3391 - val_wine_type_loss: 0.0046 - val_wine_quality_root_mean_squared_error: 0.5825 - val_wine_type_root_mean_squared_error: 0.0676\n",
      "Epoch 103/400\n",
      "3155/3155 [==============================] - 0s 108us/sample - loss: 0.2770 - wine_quality_loss: 0.2725 - wine_type_loss: 0.0049 - wine_quality_root_mean_squared_error: 0.5219 - wine_type_root_mean_squared_error: 0.0676 - val_loss: 0.3425 - val_wine_quality_loss: 0.3377 - val_wine_type_loss: 0.0045 - val_wine_quality_root_mean_squared_error: 0.5814 - val_wine_type_root_mean_squared_error: 0.0675\n",
      "Epoch 104/400\n",
      "3155/3155 [==============================] - 0s 98us/sample - loss: 0.2769 - wine_quality_loss: 0.2720 - wine_type_loss: 0.0045 - wine_quality_root_mean_squared_error: 0.5219 - wine_type_root_mean_squared_error: 0.0674 - val_loss: 0.3447 - val_wine_quality_loss: 0.3399 - val_wine_type_loss: 0.0045 - val_wine_quality_root_mean_squared_error: 0.5833 - val_wine_type_root_mean_squared_error: 0.0674\n",
      "Epoch 105/400\n",
      "3155/3155 [==============================] - 0s 95us/sample - loss: 0.2767 - wine_quality_loss: 0.2720 - wine_type_loss: 0.0045 - wine_quality_root_mean_squared_error: 0.5217 - wine_type_root_mean_squared_error: 0.0672 - val_loss: 0.3441 - val_wine_quality_loss: 0.3394 - val_wine_type_loss: 0.0045 - val_wine_quality_root_mean_squared_error: 0.5827 - val_wine_type_root_mean_squared_error: 0.0672\n",
      "Epoch 106/400\n",
      "3155/3155 [==============================] - 0s 97us/sample - loss: 0.2762 - wine_quality_loss: 0.2713 - wine_type_loss: 0.0045 - wine_quality_root_mean_squared_error: 0.5212 - wine_type_root_mean_squared_error: 0.0672 - val_loss: 0.3414 - val_wine_quality_loss: 0.3367 - val_wine_type_loss: 0.0045 - val_wine_quality_root_mean_squared_error: 0.5804 - val_wine_type_root_mean_squared_error: 0.0672\n",
      "Epoch 107/400\n",
      "3155/3155 [==============================] - 0s 96us/sample - loss: 0.2763 - wine_quality_loss: 0.2716 - wine_type_loss: 0.0045 - wine_quality_root_mean_squared_error: 0.5214 - wine_type_root_mean_squared_error: 0.0672 - val_loss: 0.3405 - val_wine_quality_loss: 0.3358 - val_wine_type_loss: 0.0045 - val_wine_quality_root_mean_squared_error: 0.5797 - val_wine_type_root_mean_squared_error: 0.0671\n",
      "Epoch 108/400\n",
      "3155/3155 [==============================] - 0s 100us/sample - loss: 0.2741 - wine_quality_loss: 0.2695 - wine_type_loss: 0.0045 - wine_quality_root_mean_squared_error: 0.5193 - wine_type_root_mean_squared_error: 0.0670 - val_loss: 0.3419 - val_wine_quality_loss: 0.3373 - val_wine_type_loss: 0.0045 - val_wine_quality_root_mean_squared_error: 0.5809 - val_wine_type_root_mean_squared_error: 0.0670\n",
      "Epoch 109/400\n",
      "3155/3155 [==============================] - 0s 96us/sample - loss: 0.2737 - wine_quality_loss: 0.2695 - wine_type_loss: 0.0045 - wine_quality_root_mean_squared_error: 0.5189 - wine_type_root_mean_squared_error: 0.0669 - val_loss: 0.3424 - val_wine_quality_loss: 0.3376 - val_wine_type_loss: 0.0045 - val_wine_quality_root_mean_squared_error: 0.5813 - val_wine_type_root_mean_squared_error: 0.0669\n",
      "Epoch 110/400\n",
      "3155/3155 [==============================] - 0s 97us/sample - loss: 0.2733 - wine_quality_loss: 0.2685 - wine_type_loss: 0.0047 - wine_quality_root_mean_squared_error: 0.5185 - wine_type_root_mean_squared_error: 0.0668 - val_loss: 0.3520 - val_wine_quality_loss: 0.3472 - val_wine_type_loss: 0.0045 - val_wine_quality_root_mean_squared_error: 0.5895 - val_wine_type_root_mean_squared_error: 0.0670\n",
      "Epoch 111/400\n",
      "3155/3155 [==============================] - 0s 111us/sample - loss: 0.2742 - wine_quality_loss: 0.2705 - wine_type_loss: 0.0044 - wine_quality_root_mean_squared_error: 0.5193 - wine_type_root_mean_squared_error: 0.0666 - val_loss: 0.3425 - val_wine_quality_loss: 0.3378 - val_wine_type_loss: 0.0044 - val_wine_quality_root_mean_squared_error: 0.5814 - val_wine_type_root_mean_squared_error: 0.0667\n",
      "Epoch 112/400\n",
      "3155/3155 [==============================] - 0s 96us/sample - loss: 0.2733 - wine_quality_loss: 0.2689 - wine_type_loss: 0.0044 - wine_quality_root_mean_squared_error: 0.5186 - wine_type_root_mean_squared_error: 0.0665 - val_loss: 0.3389 - val_wine_quality_loss: 0.3341 - val_wine_type_loss: 0.0044 - val_wine_quality_root_mean_squared_error: 0.5783 - val_wine_type_root_mean_squared_error: 0.0667\n",
      "Epoch 113/400\n",
      "3155/3155 [==============================] - 0s 95us/sample - loss: 0.2725 - wine_quality_loss: 0.2682 - wine_type_loss: 0.0044 - wine_quality_root_mean_squared_error: 0.5178 - wine_type_root_mean_squared_error: 0.0665 - val_loss: 0.3440 - val_wine_quality_loss: 0.3395 - val_wine_type_loss: 0.0044 - val_wine_quality_root_mean_squared_error: 0.5828 - val_wine_type_root_mean_squared_error: 0.0666\n",
      "Epoch 114/400\n",
      "3155/3155 [==============================] - 0s 96us/sample - loss: 0.2717 - wine_quality_loss: 0.2670 - wine_type_loss: 0.0044 - wine_quality_root_mean_squared_error: 0.5170 - wine_type_root_mean_squared_error: 0.0665 - val_loss: 0.3440 - val_wine_quality_loss: 0.3394 - val_wine_type_loss: 0.0044 - val_wine_quality_root_mean_squared_error: 0.5827 - val_wine_type_root_mean_squared_error: 0.0664\n",
      "Epoch 115/400\n",
      "3155/3155 [==============================] - 0s 95us/sample - loss: 0.2712 - wine_quality_loss: 0.2673 - wine_type_loss: 0.0044 - wine_quality_root_mean_squared_error: 0.5165 - wine_type_root_mean_squared_error: 0.0664 - val_loss: 0.3423 - val_wine_quality_loss: 0.3377 - val_wine_type_loss: 0.0044 - val_wine_quality_root_mean_squared_error: 0.5813 - val_wine_type_root_mean_squared_error: 0.0663\n",
      "Epoch 116/400\n",
      "3155/3155 [==============================] - 0s 95us/sample - loss: 0.2718 - wine_quality_loss: 0.2681 - wine_type_loss: 0.0044 - wine_quality_root_mean_squared_error: 0.5172 - wine_type_root_mean_squared_error: 0.0662 - val_loss: 0.3474 - val_wine_quality_loss: 0.3429 - val_wine_type_loss: 0.0044 - val_wine_quality_root_mean_squared_error: 0.5857 - val_wine_type_root_mean_squared_error: 0.0662\n",
      "Epoch 117/400\n",
      "3155/3155 [==============================] - 0s 95us/sample - loss: 0.2707 - wine_quality_loss: 0.2662 - wine_type_loss: 0.0044 - wine_quality_root_mean_squared_error: 0.5161 - wine_type_root_mean_squared_error: 0.0662 - val_loss: 0.3418 - val_wine_quality_loss: 0.3372 - val_wine_type_loss: 0.0044 - val_wine_quality_root_mean_squared_error: 0.5809 - val_wine_type_root_mean_squared_error: 0.0662\n",
      "Epoch 118/400\n",
      "3155/3155 [==============================] - 0s 95us/sample - loss: 0.2702 - wine_quality_loss: 0.2653 - wine_type_loss: 0.0044 - wine_quality_root_mean_squared_error: 0.5156 - wine_type_root_mean_squared_error: 0.0661 - val_loss: 0.3457 - val_wine_quality_loss: 0.3412 - val_wine_type_loss: 0.0044 - val_wine_quality_root_mean_squared_error: 0.5842 - val_wine_type_root_mean_squared_error: 0.0663\n",
      "Epoch 119/400\n",
      "3155/3155 [==============================] - 0s 96us/sample - loss: 0.2707 - wine_quality_loss: 0.2667 - wine_type_loss: 0.0043 - wine_quality_root_mean_squared_error: 0.5161 - wine_type_root_mean_squared_error: 0.0659 - val_loss: 0.3518 - val_wine_quality_loss: 0.3472 - val_wine_type_loss: 0.0043 - val_wine_quality_root_mean_squared_error: 0.5895 - val_wine_type_root_mean_squared_error: 0.0661\n",
      "Epoch 120/400\n",
      "3155/3155 [==============================] - 0s 96us/sample - loss: 0.2698 - wine_quality_loss: 0.2653 - wine_type_loss: 0.0043 - wine_quality_root_mean_squared_error: 0.5152 - wine_type_root_mean_squared_error: 0.0659 - val_loss: 0.3437 - val_wine_quality_loss: 0.3392 - val_wine_type_loss: 0.0043 - val_wine_quality_root_mean_squared_error: 0.5825 - val_wine_type_root_mean_squared_error: 0.0659\n",
      "Epoch 121/400\n",
      "3155/3155 [==============================] - 0s 97us/sample - loss: 0.2697 - wine_quality_loss: 0.2653 - wine_type_loss: 0.0045 - wine_quality_root_mean_squared_error: 0.5152 - wine_type_root_mean_squared_error: 0.0658 - val_loss: 0.3427 - val_wine_quality_loss: 0.3382 - val_wine_type_loss: 0.0043 - val_wine_quality_root_mean_squared_error: 0.5817 - val_wine_type_root_mean_squared_error: 0.0659\n",
      "Epoch 122/400\n",
      "3155/3155 [==============================] - 0s 100us/sample - loss: 0.2684 - wine_quality_loss: 0.2638 - wine_type_loss: 0.0043 - wine_quality_root_mean_squared_error: 0.5139 - wine_type_root_mean_squared_error: 0.0657 - val_loss: 0.3507 - val_wine_quality_loss: 0.3461 - val_wine_type_loss: 0.0043 - val_wine_quality_root_mean_squared_error: 0.5886 - val_wine_type_root_mean_squared_error: 0.0658\n",
      "Epoch 123/400\n",
      "3155/3155 [==============================] - 0s 95us/sample - loss: 0.2680 - wine_quality_loss: 0.2638 - wine_type_loss: 0.0043 - wine_quality_root_mean_squared_error: 0.5135 - wine_type_root_mean_squared_error: 0.0656 - val_loss: 0.3429 - val_wine_quality_loss: 0.3385 - val_wine_type_loss: 0.0043 - val_wine_quality_root_mean_squared_error: 0.5819 - val_wine_type_root_mean_squared_error: 0.0658\n",
      "Epoch 124/400\n",
      "3155/3155 [==============================] - 0s 96us/sample - loss: 0.2680 - wine_quality_loss: 0.2631 - wine_type_loss: 0.0043 - wine_quality_root_mean_squared_error: 0.5135 - wine_type_root_mean_squared_error: 0.0656 - val_loss: 0.3410 - val_wine_quality_loss: 0.3365 - val_wine_type_loss: 0.0043 - val_wine_quality_root_mean_squared_error: 0.5802 - val_wine_type_root_mean_squared_error: 0.0657\n",
      "Epoch 125/400\n",
      "3155/3155 [==============================] - 0s 96us/sample - loss: 0.2686 - wine_quality_loss: 0.2641 - wine_type_loss: 0.0043 - wine_quality_root_mean_squared_error: 0.5141 - wine_type_root_mean_squared_error: 0.0653 - val_loss: 0.3485 - val_wine_quality_loss: 0.3441 - val_wine_type_loss: 0.0043 - val_wine_quality_root_mean_squared_error: 0.5867 - val_wine_type_root_mean_squared_error: 0.0656\n",
      "Epoch 126/400\n",
      "3155/3155 [==============================] - 0s 95us/sample - loss: 0.2674 - wine_quality_loss: 0.2633 - wine_type_loss: 0.0043 - wine_quality_root_mean_squared_error: 0.5129 - wine_type_root_mean_squared_error: 0.0653 - val_loss: 0.3459 - val_wine_quality_loss: 0.3415 - val_wine_type_loss: 0.0043 - val_wine_quality_root_mean_squared_error: 0.5845 - val_wine_type_root_mean_squared_error: 0.0654\n",
      "Epoch 127/400\n",
      "3155/3155 [==============================] - 0s 95us/sample - loss: 0.2669 - wine_quality_loss: 0.2624 - wine_type_loss: 0.0042 - wine_quality_root_mean_squared_error: 0.5125 - wine_type_root_mean_squared_error: 0.0651 - val_loss: 0.3431 - val_wine_quality_loss: 0.3387 - val_wine_type_loss: 0.0043 - val_wine_quality_root_mean_squared_error: 0.5821 - val_wine_type_root_mean_squared_error: 0.0654\n",
      "Epoch 128/400\n",
      "3155/3155 [==============================] - 0s 111us/sample - loss: 0.2667 - wine_quality_loss: 0.2625 - wine_type_loss: 0.0042 - wine_quality_root_mean_squared_error: 0.5123 - wine_type_root_mean_squared_error: 0.0652 - val_loss: 0.3447 - val_wine_quality_loss: 0.3402 - val_wine_type_loss: 0.0042 - val_wine_quality_root_mean_squared_error: 0.5835 - val_wine_type_root_mean_squared_error: 0.0653\n",
      "Epoch 129/400\n",
      "3155/3155 [==============================] - 0s 95us/sample - loss: 0.2669 - wine_quality_loss: 0.2625 - wine_type_loss: 0.0042 - wine_quality_root_mean_squared_error: 0.5125 - wine_type_root_mean_squared_error: 0.0650 - val_loss: 0.3419 - val_wine_quality_loss: 0.3375 - val_wine_type_loss: 0.0042 - val_wine_quality_root_mean_squared_error: 0.5811 - val_wine_type_root_mean_squared_error: 0.0652\n",
      "Epoch 130/400\n",
      "3155/3155 [==============================] - 0s 99us/sample - loss: 0.2667 - wine_quality_loss: 0.2626 - wine_type_loss: 0.0042 - wine_quality_root_mean_squared_error: 0.5123 - wine_type_root_mean_squared_error: 0.0649 - val_loss: 0.3455 - val_wine_quality_loss: 0.3410 - val_wine_type_loss: 0.0042 - val_wine_quality_root_mean_squared_error: 0.5842 - val_wine_type_root_mean_squared_error: 0.0652\n",
      "Epoch 131/400\n",
      "3155/3155 [==============================] - 0s 96us/sample - loss: 0.2656 - wine_quality_loss: 0.2609 - wine_type_loss: 0.0042 - wine_quality_root_mean_squared_error: 0.5113 - wine_type_root_mean_squared_error: 0.0647 - val_loss: 0.3450 - val_wine_quality_loss: 0.3407 - val_wine_type_loss: 0.0042 - val_wine_quality_root_mean_squared_error: 0.5838 - val_wine_type_root_mean_squared_error: 0.0651\n",
      "Epoch 132/400\n",
      "3155/3155 [==============================] - 0s 94us/sample - loss: 0.2648 - wine_quality_loss: 0.2612 - wine_type_loss: 0.0042 - wine_quality_root_mean_squared_error: 0.5105 - wine_type_root_mean_squared_error: 0.0648 - val_loss: 0.3426 - val_wine_quality_loss: 0.3382 - val_wine_type_loss: 0.0042 - val_wine_quality_root_mean_squared_error: 0.5817 - val_wine_type_root_mean_squared_error: 0.0651\n",
      "Epoch 133/400\n",
      "3155/3155 [==============================] - 0s 96us/sample - loss: 0.2657 - wine_quality_loss: 0.2616 - wine_type_loss: 0.0042 - wine_quality_root_mean_squared_error: 0.5114 - wine_type_root_mean_squared_error: 0.0648 - val_loss: 0.3402 - val_wine_quality_loss: 0.3357 - val_wine_type_loss: 0.0042 - val_wine_quality_root_mean_squared_error: 0.5796 - val_wine_type_root_mean_squared_error: 0.0650\n",
      "Epoch 134/400\n",
      "3155/3155 [==============================] - 0s 99us/sample - loss: 0.2651 - wine_quality_loss: 0.2612 - wine_type_loss: 0.0042 - wine_quality_root_mean_squared_error: 0.5108 - wine_type_root_mean_squared_error: 0.0646 - val_loss: 0.3411 - val_wine_quality_loss: 0.3367 - val_wine_type_loss: 0.0042 - val_wine_quality_root_mean_squared_error: 0.5804 - val_wine_type_root_mean_squared_error: 0.0649\n",
      "Epoch 135/400\n",
      "3155/3155 [==============================] - 0s 98us/sample - loss: 0.2643 - wine_quality_loss: 0.2607 - wine_type_loss: 0.0042 - wine_quality_root_mean_squared_error: 0.5100 - wine_type_root_mean_squared_error: 0.0646 - val_loss: 0.3456 - val_wine_quality_loss: 0.3412 - val_wine_type_loss: 0.0042 - val_wine_quality_root_mean_squared_error: 0.5843 - val_wine_type_root_mean_squared_error: 0.0650\n",
      "Epoch 136/400\n",
      "3155/3155 [==============================] - 0s 97us/sample - loss: 0.2641 - wine_quality_loss: 0.2602 - wine_type_loss: 0.0042 - wine_quality_root_mean_squared_error: 0.5099 - wine_type_root_mean_squared_error: 0.0645 - val_loss: 0.3425 - val_wine_quality_loss: 0.3381 - val_wine_type_loss: 0.0042 - val_wine_quality_root_mean_squared_error: 0.5816 - val_wine_type_root_mean_squared_error: 0.0648\n",
      "Epoch 137/400\n",
      "3155/3155 [==============================] - 0s 113us/sample - loss: 0.2634 - wine_quality_loss: 0.2596 - wine_type_loss: 0.0042 - wine_quality_root_mean_squared_error: 0.5091 - wine_type_root_mean_squared_error: 0.0645 - val_loss: 0.3409 - val_wine_quality_loss: 0.3365 - val_wine_type_loss: 0.0042 - val_wine_quality_root_mean_squared_error: 0.5803 - val_wine_type_root_mean_squared_error: 0.0648\n",
      "Epoch 138/400\n",
      "3155/3155 [==============================] - 0s 94us/sample - loss: 0.2634 - wine_quality_loss: 0.2591 - wine_type_loss: 0.0041 - wine_quality_root_mean_squared_error: 0.5092 - wine_type_root_mean_squared_error: 0.0643 - val_loss: 0.3524 - val_wine_quality_loss: 0.3479 - val_wine_type_loss: 0.0042 - val_wine_quality_root_mean_squared_error: 0.5900 - val_wine_type_root_mean_squared_error: 0.0649\n",
      "Epoch 139/400\n",
      "3155/3155 [==============================] - 0s 96us/sample - loss: 0.2627 - wine_quality_loss: 0.2592 - wine_type_loss: 0.0041 - wine_quality_root_mean_squared_error: 0.5085 - wine_type_root_mean_squared_error: 0.0643 - val_loss: 0.3420 - val_wine_quality_loss: 0.3376 - val_wine_type_loss: 0.0042 - val_wine_quality_root_mean_squared_error: 0.5812 - val_wine_type_root_mean_squared_error: 0.0647\n",
      "Epoch 140/400\n",
      "3155/3155 [==============================] - 0s 95us/sample - loss: 0.2614 - wine_quality_loss: 0.2572 - wine_type_loss: 0.0041 - wine_quality_root_mean_squared_error: 0.5072 - wine_type_root_mean_squared_error: 0.0642 - val_loss: 0.3428 - val_wine_quality_loss: 0.3383 - val_wine_type_loss: 0.0042 - val_wine_quality_root_mean_squared_error: 0.5819 - val_wine_type_root_mean_squared_error: 0.0648\n",
      "Epoch 141/400\n",
      "3155/3155 [==============================] - 0s 94us/sample - loss: 0.2626 - wine_quality_loss: 0.2580 - wine_type_loss: 0.0041 - wine_quality_root_mean_squared_error: 0.5084 - wine_type_root_mean_squared_error: 0.0641 - val_loss: 0.3467 - val_wine_quality_loss: 0.3423 - val_wine_type_loss: 0.0042 - val_wine_quality_root_mean_squared_error: 0.5853 - val_wine_type_root_mean_squared_error: 0.0647\n",
      "Epoch 142/400\n",
      "3155/3155 [==============================] - 0s 95us/sample - loss: 0.2616 - wine_quality_loss: 0.2579 - wine_type_loss: 0.0042 - wine_quality_root_mean_squared_error: 0.5074 - wine_type_root_mean_squared_error: 0.0641 - val_loss: 0.3420 - val_wine_quality_loss: 0.3376 - val_wine_type_loss: 0.0042 - val_wine_quality_root_mean_squared_error: 0.5812 - val_wine_type_root_mean_squared_error: 0.0647\n",
      "Epoch 143/400\n",
      "3155/3155 [==============================] - 0s 95us/sample - loss: 0.2610 - wine_quality_loss: 0.2572 - wine_type_loss: 0.0041 - wine_quality_root_mean_squared_error: 0.5068 - wine_type_root_mean_squared_error: 0.0640 - val_loss: 0.3468 - val_wine_quality_loss: 0.3424 - val_wine_type_loss: 0.0042 - val_wine_quality_root_mean_squared_error: 0.5853 - val_wine_type_root_mean_squared_error: 0.0646\n",
      "Epoch 144/400\n",
      "3155/3155 [==============================] - 0s 95us/sample - loss: 0.2607 - wine_quality_loss: 0.2561 - wine_type_loss: 0.0041 - wine_quality_root_mean_squared_error: 0.5066 - wine_type_root_mean_squared_error: 0.0638 - val_loss: 0.3415 - val_wine_quality_loss: 0.3371 - val_wine_type_loss: 0.0042 - val_wine_quality_root_mean_squared_error: 0.5808 - val_wine_type_root_mean_squared_error: 0.0646\n",
      "Epoch 145/400\n",
      "3155/3155 [==============================] - 0s 95us/sample - loss: 0.2598 - wine_quality_loss: 0.2552 - wine_type_loss: 0.0041 - wine_quality_root_mean_squared_error: 0.5057 - wine_type_root_mean_squared_error: 0.0637 - val_loss: 0.3515 - val_wine_quality_loss: 0.3473 - val_wine_type_loss: 0.0042 - val_wine_quality_root_mean_squared_error: 0.5894 - val_wine_type_root_mean_squared_error: 0.0647\n",
      "Epoch 146/400\n",
      "3155/3155 [==============================] - 0s 96us/sample - loss: 0.2604 - wine_quality_loss: 0.2567 - wine_type_loss: 0.0040 - wine_quality_root_mean_squared_error: 0.5063 - wine_type_root_mean_squared_error: 0.0636 - val_loss: 0.3413 - val_wine_quality_loss: 0.3370 - val_wine_type_loss: 0.0041 - val_wine_quality_root_mean_squared_error: 0.5807 - val_wine_type_root_mean_squared_error: 0.0644\n",
      "Epoch 147/400\n",
      "3155/3155 [==============================] - 0s 95us/sample - loss: 0.2595 - wine_quality_loss: 0.2551 - wine_type_loss: 0.0040 - wine_quality_root_mean_squared_error: 0.5055 - wine_type_root_mean_squared_error: 0.0635 - val_loss: 0.3463 - val_wine_quality_loss: 0.3420 - val_wine_type_loss: 0.0041 - val_wine_quality_root_mean_squared_error: 0.5849 - val_wine_type_root_mean_squared_error: 0.0646\n",
      "Epoch 148/400\n",
      "3155/3155 [==============================] - 0s 97us/sample - loss: 0.2596 - wine_quality_loss: 0.2553 - wine_type_loss: 0.0040 - wine_quality_root_mean_squared_error: 0.5055 - wine_type_root_mean_squared_error: 0.0635 - val_loss: 0.3461 - val_wine_quality_loss: 0.3418 - val_wine_type_loss: 0.0041 - val_wine_quality_root_mean_squared_error: 0.5848 - val_wine_type_root_mean_squared_error: 0.0645\n",
      "Epoch 149/400\n",
      "3155/3155 [==============================] - 0s 98us/sample - loss: 0.2585 - wine_quality_loss: 0.2546 - wine_type_loss: 0.0040 - wine_quality_root_mean_squared_error: 0.5044 - wine_type_root_mean_squared_error: 0.0635 - val_loss: 0.3408 - val_wine_quality_loss: 0.3365 - val_wine_type_loss: 0.0041 - val_wine_quality_root_mean_squared_error: 0.5803 - val_wine_type_root_mean_squared_error: 0.0644\n",
      "Epoch 150/400\n",
      "3155/3155 [==============================] - 0s 98us/sample - loss: 0.2588 - wine_quality_loss: 0.2552 - wine_type_loss: 0.0040 - wine_quality_root_mean_squared_error: 0.5047 - wine_type_root_mean_squared_error: 0.0634 - val_loss: 0.3470 - val_wine_quality_loss: 0.3426 - val_wine_type_loss: 0.0041 - val_wine_quality_root_mean_squared_error: 0.5855 - val_wine_type_root_mean_squared_error: 0.0643\n",
      "Epoch 151/400\n",
      "3155/3155 [==============================] - 0s 94us/sample - loss: 0.2582 - wine_quality_loss: 0.2545 - wine_type_loss: 0.0040 - wine_quality_root_mean_squared_error: 0.5042 - wine_type_root_mean_squared_error: 0.0633 - val_loss: 0.3517 - val_wine_quality_loss: 0.3473 - val_wine_type_loss: 0.0041 - val_wine_quality_root_mean_squared_error: 0.5895 - val_wine_type_root_mean_squared_error: 0.0641\n",
      "Epoch 152/400\n",
      "3155/3155 [==============================] - 0s 98us/sample - loss: 0.2585 - wine_quality_loss: 0.2548 - wine_type_loss: 0.0040 - wine_quality_root_mean_squared_error: 0.5044 - wine_type_root_mean_squared_error: 0.0633 - val_loss: 0.3484 - val_wine_quality_loss: 0.3441 - val_wine_type_loss: 0.0041 - val_wine_quality_root_mean_squared_error: 0.5868 - val_wine_type_root_mean_squared_error: 0.0642\n",
      "Epoch 153/400\n",
      "3155/3155 [==============================] - 0s 95us/sample - loss: 0.2576 - wine_quality_loss: 0.2538 - wine_type_loss: 0.0041 - wine_quality_root_mean_squared_error: 0.5036 - wine_type_root_mean_squared_error: 0.0633 - val_loss: 0.3422 - val_wine_quality_loss: 0.3379 - val_wine_type_loss: 0.0041 - val_wine_quality_root_mean_squared_error: 0.5815 - val_wine_type_root_mean_squared_error: 0.0642\n",
      "Epoch 154/400\n",
      "3155/3155 [==============================] - 0s 95us/sample - loss: 0.2578 - wine_quality_loss: 0.2537 - wine_type_loss: 0.0040 - wine_quality_root_mean_squared_error: 0.5038 - wine_type_root_mean_squared_error: 0.0631 - val_loss: 0.3418 - val_wine_quality_loss: 0.3375 - val_wine_type_loss: 0.0041 - val_wine_quality_root_mean_squared_error: 0.5811 - val_wine_type_root_mean_squared_error: 0.0642\n",
      "Epoch 155/400\n",
      "3155/3155 [==============================] - 0s 96us/sample - loss: 0.2558 - wine_quality_loss: 0.2517 - wine_type_loss: 0.0040 - wine_quality_root_mean_squared_error: 0.5018 - wine_type_root_mean_squared_error: 0.0631 - val_loss: 0.3425 - val_wine_quality_loss: 0.3382 - val_wine_type_loss: 0.0041 - val_wine_quality_root_mean_squared_error: 0.5817 - val_wine_type_root_mean_squared_error: 0.0642\n",
      "Epoch 156/400\n",
      "3155/3155 [==============================] - 0s 81us/sample - loss: 0.2575 - wine_quality_loss: 0.2532 - wine_type_loss: 0.0040 - wine_quality_root_mean_squared_error: 0.5035 - wine_type_root_mean_squared_error: 0.0630 - val_loss: 0.3458 - val_wine_quality_loss: 0.3415 - val_wine_type_loss: 0.0041 - val_wine_quality_root_mean_squared_error: 0.5845 - val_wine_type_root_mean_squared_error: 0.0642\n",
      "Epoch 157/400\n",
      "3155/3155 [==============================] - 0s 94us/sample - loss: 0.2570 - wine_quality_loss: 0.2529 - wine_type_loss: 0.0040 - wine_quality_root_mean_squared_error: 0.5031 - wine_type_root_mean_squared_error: 0.0630 - val_loss: 0.3502 - val_wine_quality_loss: 0.3460 - val_wine_type_loss: 0.0041 - val_wine_quality_root_mean_squared_error: 0.5883 - val_wine_type_root_mean_squared_error: 0.0640\n",
      "Epoch 158/400\n",
      "3155/3155 [==============================] - 0s 95us/sample - loss: 0.2566 - wine_quality_loss: 0.2524 - wine_type_loss: 0.0039 - wine_quality_root_mean_squared_error: 0.5026 - wine_type_root_mean_squared_error: 0.0629 - val_loss: 0.3430 - val_wine_quality_loss: 0.3388 - val_wine_type_loss: 0.0041 - val_wine_quality_root_mean_squared_error: 0.5822 - val_wine_type_root_mean_squared_error: 0.0640\n",
      "Epoch 159/400\n",
      "3155/3155 [==============================] - 0s 94us/sample - loss: 0.2563 - wine_quality_loss: 0.2523 - wine_type_loss: 0.0042 - wine_quality_root_mean_squared_error: 0.5023 - wine_type_root_mean_squared_error: 0.0629 - val_loss: 0.3467 - val_wine_quality_loss: 0.3423 - val_wine_type_loss: 0.0041 - val_wine_quality_root_mean_squared_error: 0.5853 - val_wine_type_root_mean_squared_error: 0.0640\n",
      "Epoch 160/400\n",
      "3155/3155 [==============================] - 0s 95us/sample - loss: 0.2566 - wine_quality_loss: 0.2525 - wine_type_loss: 0.0042 - wine_quality_root_mean_squared_error: 0.5027 - wine_type_root_mean_squared_error: 0.0628 - val_loss: 0.3455 - val_wine_quality_loss: 0.3411 - val_wine_type_loss: 0.0041 - val_wine_quality_root_mean_squared_error: 0.5843 - val_wine_type_root_mean_squared_error: 0.0640\n",
      "Epoch 161/400\n",
      "3155/3155 [==============================] - 0s 94us/sample - loss: 0.2533 - wine_quality_loss: 0.2493 - wine_type_loss: 0.0039 - wine_quality_root_mean_squared_error: 0.4994 - wine_type_root_mean_squared_error: 0.0626 - val_loss: 0.3395 - val_wine_quality_loss: 0.3351 - val_wine_type_loss: 0.0041 - val_wine_quality_root_mean_squared_error: 0.5792 - val_wine_type_root_mean_squared_error: 0.0640\n",
      "Epoch 162/400\n",
      "3155/3155 [==============================] - 0s 110us/sample - loss: 0.2552 - wine_quality_loss: 0.2514 - wine_type_loss: 0.0039 - wine_quality_root_mean_squared_error: 0.5013 - wine_type_root_mean_squared_error: 0.0625 - val_loss: 0.3416 - val_wine_quality_loss: 0.3373 - val_wine_type_loss: 0.0041 - val_wine_quality_root_mean_squared_error: 0.5810 - val_wine_type_root_mean_squared_error: 0.0640\n",
      "Epoch 163/400\n",
      "3155/3155 [==============================] - 0s 79us/sample - loss: 0.2527 - wine_quality_loss: 0.2491 - wine_type_loss: 0.0039 - wine_quality_root_mean_squared_error: 0.4988 - wine_type_root_mean_squared_error: 0.0626 - val_loss: 0.3535 - val_wine_quality_loss: 0.3493 - val_wine_type_loss: 0.0041 - val_wine_quality_root_mean_squared_error: 0.5911 - val_wine_type_root_mean_squared_error: 0.0639\n",
      "Epoch 164/400\n",
      "3155/3155 [==============================] - 0s 96us/sample - loss: 0.2547 - wine_quality_loss: 0.2508 - wine_type_loss: 0.0039 - wine_quality_root_mean_squared_error: 0.5008 - wine_type_root_mean_squared_error: 0.0625 - val_loss: 0.3404 - val_wine_quality_loss: 0.3361 - val_wine_type_loss: 0.0041 - val_wine_quality_root_mean_squared_error: 0.5799 - val_wine_type_root_mean_squared_error: 0.0639\n",
      "Epoch 165/400\n",
      "3155/3155 [==============================] - 0s 95us/sample - loss: 0.2542 - wine_quality_loss: 0.2504 - wine_type_loss: 0.0039 - wine_quality_root_mean_squared_error: 0.5003 - wine_type_root_mean_squared_error: 0.0624 - val_loss: 0.3431 - val_wine_quality_loss: 0.3388 - val_wine_type_loss: 0.0041 - val_wine_quality_root_mean_squared_error: 0.5823 - val_wine_type_root_mean_squared_error: 0.0639\n",
      "Epoch 166/400\n",
      "3155/3155 [==============================] - 0s 95us/sample - loss: 0.2543 - wine_quality_loss: 0.2498 - wine_type_loss: 0.0039 - wine_quality_root_mean_squared_error: 0.5004 - wine_type_root_mean_squared_error: 0.0624 - val_loss: 0.3494 - val_wine_quality_loss: 0.3452 - val_wine_type_loss: 0.0041 - val_wine_quality_root_mean_squared_error: 0.5876 - val_wine_type_root_mean_squared_error: 0.0639\n",
      "Epoch 167/400\n",
      "3155/3155 [==============================] - 0s 97us/sample - loss: 0.2540 - wine_quality_loss: 0.2506 - wine_type_loss: 0.0039 - wine_quality_root_mean_squared_error: 0.5001 - wine_type_root_mean_squared_error: 0.0624 - val_loss: 0.3480 - val_wine_quality_loss: 0.3438 - val_wine_type_loss: 0.0041 - val_wine_quality_root_mean_squared_error: 0.5865 - val_wine_type_root_mean_squared_error: 0.0640\n",
      "Epoch 168/400\n",
      "3155/3155 [==============================] - 0s 96us/sample - loss: 0.2538 - wine_quality_loss: 0.2498 - wine_type_loss: 0.0039 - wine_quality_root_mean_squared_error: 0.4999 - wine_type_root_mean_squared_error: 0.0623 - val_loss: 0.3461 - val_wine_quality_loss: 0.3417 - val_wine_type_loss: 0.0041 - val_wine_quality_root_mean_squared_error: 0.5848 - val_wine_type_root_mean_squared_error: 0.0639\n",
      "Epoch 169/400\n",
      "3155/3155 [==============================] - 0s 96us/sample - loss: 0.2531 - wine_quality_loss: 0.2490 - wine_type_loss: 0.0039 - wine_quality_root_mean_squared_error: 0.4992 - wine_type_root_mean_squared_error: 0.0622 - val_loss: 0.3439 - val_wine_quality_loss: 0.3397 - val_wine_type_loss: 0.0041 - val_wine_quality_root_mean_squared_error: 0.5830 - val_wine_type_root_mean_squared_error: 0.0639\n",
      "Epoch 170/400\n",
      "3155/3155 [==============================] - 0s 93us/sample - loss: 0.2511 - wine_quality_loss: 0.2470 - wine_type_loss: 0.0039 - wine_quality_root_mean_squared_error: 0.4972 - wine_type_root_mean_squared_error: 0.0622 - val_loss: 0.3493 - val_wine_quality_loss: 0.3451 - val_wine_type_loss: 0.0040 - val_wine_quality_root_mean_squared_error: 0.5876 - val_wine_type_root_mean_squared_error: 0.0637\n",
      "Epoch 171/400\n",
      "3155/3155 [==============================] - 0s 97us/sample - loss: 0.2521 - wine_quality_loss: 0.2486 - wine_type_loss: 0.0038 - wine_quality_root_mean_squared_error: 0.4982 - wine_type_root_mean_squared_error: 0.0621 - val_loss: 0.3444 - val_wine_quality_loss: 0.3401 - val_wine_type_loss: 0.0040 - val_wine_quality_root_mean_squared_error: 0.5834 - val_wine_type_root_mean_squared_error: 0.0637\n",
      "Epoch 172/400\n",
      "3155/3155 [==============================] - 0s 94us/sample - loss: 0.2520 - wine_quality_loss: 0.2483 - wine_type_loss: 0.0038 - wine_quality_root_mean_squared_error: 0.4981 - wine_type_root_mean_squared_error: 0.0620 - val_loss: 0.3396 - val_wine_quality_loss: 0.3353 - val_wine_type_loss: 0.0040 - val_wine_quality_root_mean_squared_error: 0.5792 - val_wine_type_root_mean_squared_error: 0.0636\n",
      "Epoch 173/400\n",
      "3155/3155 [==============================] - 0s 94us/sample - loss: 0.2515 - wine_quality_loss: 0.2487 - wine_type_loss: 0.0038 - wine_quality_root_mean_squared_error: 0.4976 - wine_type_root_mean_squared_error: 0.0620 - val_loss: 0.3442 - val_wine_quality_loss: 0.3399 - val_wine_type_loss: 0.0040 - val_wine_quality_root_mean_squared_error: 0.5833 - val_wine_type_root_mean_squared_error: 0.0636\n",
      "Epoch 174/400\n",
      "3155/3155 [==============================] - 0s 95us/sample - loss: 0.2513 - wine_quality_loss: 0.2474 - wine_type_loss: 0.0038 - wine_quality_root_mean_squared_error: 0.4975 - wine_type_root_mean_squared_error: 0.0618 - val_loss: 0.3427 - val_wine_quality_loss: 0.3383 - val_wine_type_loss: 0.0040 - val_wine_quality_root_mean_squared_error: 0.5819 - val_wine_type_root_mean_squared_error: 0.0636\n",
      "Epoch 175/400\n",
      "3155/3155 [==============================] - 0s 96us/sample - loss: 0.2506 - wine_quality_loss: 0.2468 - wine_type_loss: 0.0038 - wine_quality_root_mean_squared_error: 0.4967 - wine_type_root_mean_squared_error: 0.0618 - val_loss: 0.3468 - val_wine_quality_loss: 0.3424 - val_wine_type_loss: 0.0040 - val_wine_quality_root_mean_squared_error: 0.5854 - val_wine_type_root_mean_squared_error: 0.0635\n",
      "Epoch 176/400\n",
      "3155/3155 [==============================] - 0s 97us/sample - loss: 0.2504 - wine_quality_loss: 0.2467 - wine_type_loss: 0.0038 - wine_quality_root_mean_squared_error: 0.4965 - wine_type_root_mean_squared_error: 0.0618 - val_loss: 0.3437 - val_wine_quality_loss: 0.3394 - val_wine_type_loss: 0.0040 - val_wine_quality_root_mean_squared_error: 0.5828 - val_wine_type_root_mean_squared_error: 0.0634\n",
      "Epoch 177/400\n",
      "3155/3155 [==============================] - 0s 95us/sample - loss: 0.2511 - wine_quality_loss: 0.2471 - wine_type_loss: 0.0038 - wine_quality_root_mean_squared_error: 0.4972 - wine_type_root_mean_squared_error: 0.0618 - val_loss: 0.3438 - val_wine_quality_loss: 0.3395 - val_wine_type_loss: 0.0040 - val_wine_quality_root_mean_squared_error: 0.5829 - val_wine_type_root_mean_squared_error: 0.0633\n",
      "Epoch 178/400\n",
      "3155/3155 [==============================] - 0s 93us/sample - loss: 0.2508 - wine_quality_loss: 0.2474 - wine_type_loss: 0.0038 - wine_quality_root_mean_squared_error: 0.4970 - wine_type_root_mean_squared_error: 0.0617 - val_loss: 0.3433 - val_wine_quality_loss: 0.3391 - val_wine_type_loss: 0.0040 - val_wine_quality_root_mean_squared_error: 0.5825 - val_wine_type_root_mean_squared_error: 0.0633\n",
      "Epoch 179/400\n",
      "3155/3155 [==============================] - 0s 96us/sample - loss: 0.2500 - wine_quality_loss: 0.2470 - wine_type_loss: 0.0038 - wine_quality_root_mean_squared_error: 0.4962 - wine_type_root_mean_squared_error: 0.0616 - val_loss: 0.3421 - val_wine_quality_loss: 0.3378 - val_wine_type_loss: 0.0040 - val_wine_quality_root_mean_squared_error: 0.5814 - val_wine_type_root_mean_squared_error: 0.0633\n",
      "Epoch 180/400\n",
      "3155/3155 [==============================] - 0s 96us/sample - loss: 0.2499 - wine_quality_loss: 0.2460 - wine_type_loss: 0.0038 - wine_quality_root_mean_squared_error: 0.4961 - wine_type_root_mean_squared_error: 0.0615 - val_loss: 0.3491 - val_wine_quality_loss: 0.3450 - val_wine_type_loss: 0.0040 - val_wine_quality_root_mean_squared_error: 0.5875 - val_wine_type_root_mean_squared_error: 0.0633\n",
      "Epoch 181/400\n",
      "3155/3155 [==============================] - 0s 94us/sample - loss: 0.2497 - wine_quality_loss: 0.2454 - wine_type_loss: 0.0039 - wine_quality_root_mean_squared_error: 0.4959 - wine_type_root_mean_squared_error: 0.0614 - val_loss: 0.3478 - val_wine_quality_loss: 0.3435 - val_wine_type_loss: 0.0040 - val_wine_quality_root_mean_squared_error: 0.5864 - val_wine_type_root_mean_squared_error: 0.0632\n",
      "Epoch 182/400\n",
      "3155/3155 [==============================] - 0s 96us/sample - loss: 0.2493 - wine_quality_loss: 0.2453 - wine_type_loss: 0.0038 - wine_quality_root_mean_squared_error: 0.4955 - wine_type_root_mean_squared_error: 0.0615 - val_loss: 0.3425 - val_wine_quality_loss: 0.3383 - val_wine_type_loss: 0.0040 - val_wine_quality_root_mean_squared_error: 0.5818 - val_wine_type_root_mean_squared_error: 0.0631\n",
      "Epoch 183/400\n",
      "3155/3155 [==============================] - 0s 95us/sample - loss: 0.2497 - wine_quality_loss: 0.2455 - wine_type_loss: 0.0038 - wine_quality_root_mean_squared_error: 0.4959 - wine_type_root_mean_squared_error: 0.0614 - val_loss: 0.3455 - val_wine_quality_loss: 0.3414 - val_wine_type_loss: 0.0040 - val_wine_quality_root_mean_squared_error: 0.5844 - val_wine_type_root_mean_squared_error: 0.0631\n",
      "Epoch 184/400\n",
      "3155/3155 [==============================] - 0s 96us/sample - loss: 0.2488 - wine_quality_loss: 0.2449 - wine_type_loss: 0.0038 - wine_quality_root_mean_squared_error: 0.4951 - wine_type_root_mean_squared_error: 0.0614 - val_loss: 0.3447 - val_wine_quality_loss: 0.3406 - val_wine_type_loss: 0.0040 - val_wine_quality_root_mean_squared_error: 0.5837 - val_wine_type_root_mean_squared_error: 0.0632\n",
      "Epoch 185/400\n",
      "3155/3155 [==============================] - 0s 95us/sample - loss: 0.2483 - wine_quality_loss: 0.2448 - wine_type_loss: 0.0037 - wine_quality_root_mean_squared_error: 0.4945 - wine_type_root_mean_squared_error: 0.0613 - val_loss: 0.3494 - val_wine_quality_loss: 0.3452 - val_wine_type_loss: 0.0040 - val_wine_quality_root_mean_squared_error: 0.5877 - val_wine_type_root_mean_squared_error: 0.0631\n",
      "Epoch 186/400\n",
      "3155/3155 [==============================] - 0s 96us/sample - loss: 0.2485 - wine_quality_loss: 0.2448 - wine_type_loss: 0.0037 - wine_quality_root_mean_squared_error: 0.4947 - wine_type_root_mean_squared_error: 0.0612 - val_loss: 0.3443 - val_wine_quality_loss: 0.3401 - val_wine_type_loss: 0.0039 - val_wine_quality_root_mean_squared_error: 0.5834 - val_wine_type_root_mean_squared_error: 0.0629\n",
      "Epoch 187/400\n",
      "3155/3155 [==============================] - 0s 96us/sample - loss: 0.2470 - wine_quality_loss: 0.2427 - wine_type_loss: 0.0037 - wine_quality_root_mean_squared_error: 0.4932 - wine_type_root_mean_squared_error: 0.0612 - val_loss: 0.3455 - val_wine_quality_loss: 0.3415 - val_wine_type_loss: 0.0040 - val_wine_quality_root_mean_squared_error: 0.5844 - val_wine_type_root_mean_squared_error: 0.0630\n",
      "Epoch 188/400\n",
      "3155/3155 [==============================] - 0s 96us/sample - loss: 0.2472 - wine_quality_loss: 0.2442 - wine_type_loss: 0.0037 - wine_quality_root_mean_squared_error: 0.4935 - wine_type_root_mean_squared_error: 0.0611 - val_loss: 0.3455 - val_wine_quality_loss: 0.3414 - val_wine_type_loss: 0.0039 - val_wine_quality_root_mean_squared_error: 0.5844 - val_wine_type_root_mean_squared_error: 0.0629\n",
      "Epoch 189/400\n",
      "3155/3155 [==============================] - 0s 97us/sample - loss: 0.2470 - wine_quality_loss: 0.2432 - wine_type_loss: 0.0037 - wine_quality_root_mean_squared_error: 0.4932 - wine_type_root_mean_squared_error: 0.0612 - val_loss: 0.3531 - val_wine_quality_loss: 0.3489 - val_wine_type_loss: 0.0039 - val_wine_quality_root_mean_squared_error: 0.5909 - val_wine_type_root_mean_squared_error: 0.0628\n",
      "Epoch 190/400\n",
      "3155/3155 [==============================] - 0s 97us/sample - loss: 0.2465 - wine_quality_loss: 0.2433 - wine_type_loss: 0.0037 - wine_quality_root_mean_squared_error: 0.4927 - wine_type_root_mean_squared_error: 0.0611 - val_loss: 0.3557 - val_wine_quality_loss: 0.3516 - val_wine_type_loss: 0.0040 - val_wine_quality_root_mean_squared_error: 0.5931 - val_wine_type_root_mean_squared_error: 0.0631\n",
      "Epoch 191/400\n",
      "3155/3155 [==============================] - 0s 96us/sample - loss: 0.2473 - wine_quality_loss: 0.2437 - wine_type_loss: 0.0037 - wine_quality_root_mean_squared_error: 0.4935 - wine_type_root_mean_squared_error: 0.0611 - val_loss: 0.3480 - val_wine_quality_loss: 0.3438 - val_wine_type_loss: 0.0039 - val_wine_quality_root_mean_squared_error: 0.5865 - val_wine_type_root_mean_squared_error: 0.0629\n",
      "Epoch 192/400\n",
      "3155/3155 [==============================] - 0s 96us/sample - loss: 0.2465 - wine_quality_loss: 0.2427 - wine_type_loss: 0.0039 - wine_quality_root_mean_squared_error: 0.4927 - wine_type_root_mean_squared_error: 0.0610 - val_loss: 0.3474 - val_wine_quality_loss: 0.3433 - val_wine_type_loss: 0.0039 - val_wine_quality_root_mean_squared_error: 0.5860 - val_wine_type_root_mean_squared_error: 0.0627\n",
      "Epoch 193/400\n",
      "3155/3155 [==============================] - 0s 100us/sample - loss: 0.2457 - wine_quality_loss: 0.2422 - wine_type_loss: 0.0037 - wine_quality_root_mean_squared_error: 0.4919 - wine_type_root_mean_squared_error: 0.0609 - val_loss: 0.3611 - val_wine_quality_loss: 0.3570 - val_wine_type_loss: 0.0039 - val_wine_quality_root_mean_squared_error: 0.5976 - val_wine_type_root_mean_squared_error: 0.0626\n",
      "Epoch 194/400\n",
      "3155/3155 [==============================] - 0s 98us/sample - loss: 0.2458 - wine_quality_loss: 0.2415 - wine_type_loss: 0.0037 - wine_quality_root_mean_squared_error: 0.4920 - wine_type_root_mean_squared_error: 0.0608 - val_loss: 0.3448 - val_wine_quality_loss: 0.3406 - val_wine_type_loss: 0.0039 - val_wine_quality_root_mean_squared_error: 0.5839 - val_wine_type_root_mean_squared_error: 0.0628\n",
      "Epoch 195/400\n",
      "3155/3155 [==============================] - 0s 96us/sample - loss: 0.2451 - wine_quality_loss: 0.2411 - wine_type_loss: 0.0037 - wine_quality_root_mean_squared_error: 0.4913 - wine_type_root_mean_squared_error: 0.0608 - val_loss: 0.3463 - val_wine_quality_loss: 0.3422 - val_wine_type_loss: 0.0039 - val_wine_quality_root_mean_squared_error: 0.5852 - val_wine_type_root_mean_squared_error: 0.0626\n",
      "Epoch 196/400\n",
      "3155/3155 [==============================] - 0s 97us/sample - loss: 0.2453 - wine_quality_loss: 0.2421 - wine_type_loss: 0.0037 - wine_quality_root_mean_squared_error: 0.4915 - wine_type_root_mean_squared_error: 0.0608 - val_loss: 0.3460 - val_wine_quality_loss: 0.3419 - val_wine_type_loss: 0.0039 - val_wine_quality_root_mean_squared_error: 0.5849 - val_wine_type_root_mean_squared_error: 0.0625\n",
      "Epoch 197/400\n",
      "3155/3155 [==============================] - 0s 96us/sample - loss: 0.2448 - wine_quality_loss: 0.2416 - wine_type_loss: 0.0037 - wine_quality_root_mean_squared_error: 0.4910 - wine_type_root_mean_squared_error: 0.0608 - val_loss: 0.3449 - val_wine_quality_loss: 0.3408 - val_wine_type_loss: 0.0039 - val_wine_quality_root_mean_squared_error: 0.5840 - val_wine_type_root_mean_squared_error: 0.0626\n",
      "Epoch 198/400\n",
      "3155/3155 [==============================] - 0s 112us/sample - loss: 0.2446 - wine_quality_loss: 0.2409 - wine_type_loss: 0.0037 - wine_quality_root_mean_squared_error: 0.4908 - wine_type_root_mean_squared_error: 0.0607 - val_loss: 0.3468 - val_wine_quality_loss: 0.3426 - val_wine_type_loss: 0.0039 - val_wine_quality_root_mean_squared_error: 0.5855 - val_wine_type_root_mean_squared_error: 0.0626\n",
      "Epoch 199/400\n",
      "3155/3155 [==============================] - 0s 97us/sample - loss: 0.2439 - wine_quality_loss: 0.2401 - wine_type_loss: 0.0037 - wine_quality_root_mean_squared_error: 0.4902 - wine_type_root_mean_squared_error: 0.0606 - val_loss: 0.3461 - val_wine_quality_loss: 0.3420 - val_wine_type_loss: 0.0039 - val_wine_quality_root_mean_squared_error: 0.5850 - val_wine_type_root_mean_squared_error: 0.0625\n",
      "Epoch 200/400\n",
      "3155/3155 [==============================] - 0s 97us/sample - loss: 0.2441 - wine_quality_loss: 0.2403 - wine_type_loss: 0.0036 - wine_quality_root_mean_squared_error: 0.4903 - wine_type_root_mean_squared_error: 0.0605 - val_loss: 0.3483 - val_wine_quality_loss: 0.3441 - val_wine_type_loss: 0.0039 - val_wine_quality_root_mean_squared_error: 0.5868 - val_wine_type_root_mean_squared_error: 0.0624\n",
      "Epoch 201/400\n",
      "3155/3155 [==============================] - 0s 92us/sample - loss: 0.2431 - wine_quality_loss: 0.2396 - wine_type_loss: 0.0039 - wine_quality_root_mean_squared_error: 0.4893 - wine_type_root_mean_squared_error: 0.0606 - val_loss: 0.3464 - val_wine_quality_loss: 0.3424 - val_wine_type_loss: 0.0039 - val_wine_quality_root_mean_squared_error: 0.5853 - val_wine_type_root_mean_squared_error: 0.0623\n",
      "Epoch 202/400\n",
      "3155/3155 [==============================] - 0s 96us/sample - loss: 0.2435 - wine_quality_loss: 0.2400 - wine_type_loss: 0.0036 - wine_quality_root_mean_squared_error: 0.4898 - wine_type_root_mean_squared_error: 0.0604 - val_loss: 0.3560 - val_wine_quality_loss: 0.3518 - val_wine_type_loss: 0.0039 - val_wine_quality_root_mean_squared_error: 0.5934 - val_wine_type_root_mean_squared_error: 0.0625\n",
      "Epoch 203/400\n",
      "3155/3155 [==============================] - 0s 94us/sample - loss: 0.2429 - wine_quality_loss: 0.2395 - wine_type_loss: 0.0036 - wine_quality_root_mean_squared_error: 0.4892 - wine_type_root_mean_squared_error: 0.0604 - val_loss: 0.3465 - val_wine_quality_loss: 0.3424 - val_wine_type_loss: 0.0039 - val_wine_quality_root_mean_squared_error: 0.5853 - val_wine_type_root_mean_squared_error: 0.0624\n",
      "Epoch 204/400\n",
      "3155/3155 [==============================] - 0s 94us/sample - loss: 0.2426 - wine_quality_loss: 0.2390 - wine_type_loss: 0.0038 - wine_quality_root_mean_squared_error: 0.4888 - wine_type_root_mean_squared_error: 0.0603 - val_loss: 0.3498 - val_wine_quality_loss: 0.3457 - val_wine_type_loss: 0.0038 - val_wine_quality_root_mean_squared_error: 0.5881 - val_wine_type_root_mean_squared_error: 0.0621\n",
      "Epoch 205/400\n",
      "3155/3155 [==============================] - 0s 93us/sample - loss: 0.2425 - wine_quality_loss: 0.2387 - wine_type_loss: 0.0036 - wine_quality_root_mean_squared_error: 0.4887 - wine_type_root_mean_squared_error: 0.0603 - val_loss: 0.3488 - val_wine_quality_loss: 0.3447 - val_wine_type_loss: 0.0039 - val_wine_quality_root_mean_squared_error: 0.5873 - val_wine_type_root_mean_squared_error: 0.0623\n",
      "Epoch 206/400\n",
      "3155/3155 [==============================] - 0s 96us/sample - loss: 0.2433 - wine_quality_loss: 0.2402 - wine_type_loss: 0.0036 - wine_quality_root_mean_squared_error: 0.4896 - wine_type_root_mean_squared_error: 0.0603 - val_loss: 0.3497 - val_wine_quality_loss: 0.3457 - val_wine_type_loss: 0.0039 - val_wine_quality_root_mean_squared_error: 0.5881 - val_wine_type_root_mean_squared_error: 0.0623\n",
      "Epoch 207/400\n",
      "3155/3155 [==============================] - 0s 98us/sample - loss: 0.2413 - wine_quality_loss: 0.2380 - wine_type_loss: 0.0036 - wine_quality_root_mean_squared_error: 0.4875 - wine_type_root_mean_squared_error: 0.0602 - val_loss: 0.3416 - val_wine_quality_loss: 0.3375 - val_wine_type_loss: 0.0038 - val_wine_quality_root_mean_squared_error: 0.5812 - val_wine_type_root_mean_squared_error: 0.0622\n",
      "Epoch 208/400\n",
      "3155/3155 [==============================] - 0s 96us/sample - loss: 0.2423 - wine_quality_loss: 0.2387 - wine_type_loss: 0.0036 - wine_quality_root_mean_squared_error: 0.4886 - wine_type_root_mean_squared_error: 0.0602 - val_loss: 0.3446 - val_wine_quality_loss: 0.3406 - val_wine_type_loss: 0.0039 - val_wine_quality_root_mean_squared_error: 0.5838 - val_wine_type_root_mean_squared_error: 0.0623\n",
      "Epoch 209/400\n",
      "3155/3155 [==============================] - 0s 97us/sample - loss: 0.2424 - wine_quality_loss: 0.2384 - wine_type_loss: 0.0036 - wine_quality_root_mean_squared_error: 0.4887 - wine_type_root_mean_squared_error: 0.0601 - val_loss: 0.3444 - val_wine_quality_loss: 0.3404 - val_wine_type_loss: 0.0038 - val_wine_quality_root_mean_squared_error: 0.5836 - val_wine_type_root_mean_squared_error: 0.0622\n",
      "Epoch 210/400\n",
      "3155/3155 [==============================] - 0s 97us/sample - loss: 0.2423 - wine_quality_loss: 0.2388 - wine_type_loss: 0.0036 - wine_quality_root_mean_squared_error: 0.4885 - wine_type_root_mean_squared_error: 0.0601 - val_loss: 0.3588 - val_wine_quality_loss: 0.3547 - val_wine_type_loss: 0.0039 - val_wine_quality_root_mean_squared_error: 0.5957 - val_wine_type_root_mean_squared_error: 0.0622\n",
      "Epoch 211/400\n",
      "3155/3155 [==============================] - 0s 95us/sample - loss: 0.2413 - wine_quality_loss: 0.2382 - wine_type_loss: 0.0036 - wine_quality_root_mean_squared_error: 0.4875 - wine_type_root_mean_squared_error: 0.0600 - val_loss: 0.3480 - val_wine_quality_loss: 0.3439 - val_wine_type_loss: 0.0038 - val_wine_quality_root_mean_squared_error: 0.5866 - val_wine_type_root_mean_squared_error: 0.0621\n",
      "Epoch 212/400\n",
      "3155/3155 [==============================] - 0s 98us/sample - loss: 0.2406 - wine_quality_loss: 0.2370 - wine_type_loss: 0.0036 - wine_quality_root_mean_squared_error: 0.4868 - wine_type_root_mean_squared_error: 0.0600 - val_loss: 0.3515 - val_wine_quality_loss: 0.3474 - val_wine_type_loss: 0.0038 - val_wine_quality_root_mean_squared_error: 0.5896 - val_wine_type_root_mean_squared_error: 0.0619\n",
      "Epoch 213/400\n",
      "3155/3155 [==============================] - 0s 95us/sample - loss: 0.2408 - wine_quality_loss: 0.2374 - wine_type_loss: 0.0036 - wine_quality_root_mean_squared_error: 0.4871 - wine_type_root_mean_squared_error: 0.0600 - val_loss: 0.3518 - val_wine_quality_loss: 0.3478 - val_wine_type_loss: 0.0038 - val_wine_quality_root_mean_squared_error: 0.5898 - val_wine_type_root_mean_squared_error: 0.0621\n",
      "Epoch 214/400\n",
      "3155/3155 [==============================] - 0s 94us/sample - loss: 0.2411 - wine_quality_loss: 0.2375 - wine_type_loss: 0.0036 - wine_quality_root_mean_squared_error: 0.4873 - wine_type_root_mean_squared_error: 0.0598 - val_loss: 0.3626 - val_wine_quality_loss: 0.3586 - val_wine_type_loss: 0.0039 - val_wine_quality_root_mean_squared_error: 0.5989 - val_wine_type_root_mean_squared_error: 0.0623\n",
      "Epoch 215/400\n",
      "3155/3155 [==============================] - 0s 96us/sample - loss: 0.2399 - wine_quality_loss: 0.2363 - wine_type_loss: 0.0036 - wine_quality_root_mean_squared_error: 0.4861 - wine_type_root_mean_squared_error: 0.0599 - val_loss: 0.3489 - val_wine_quality_loss: 0.3448 - val_wine_type_loss: 0.0038 - val_wine_quality_root_mean_squared_error: 0.5874 - val_wine_type_root_mean_squared_error: 0.0619\n",
      "Epoch 216/400\n",
      "3155/3155 [==============================] - 0s 95us/sample - loss: 0.2397 - wine_quality_loss: 0.2368 - wine_type_loss: 0.0036 - wine_quality_root_mean_squared_error: 0.4859 - wine_type_root_mean_squared_error: 0.0599 - val_loss: 0.3555 - val_wine_quality_loss: 0.3513 - val_wine_type_loss: 0.0038 - val_wine_quality_root_mean_squared_error: 0.5930 - val_wine_type_root_mean_squared_error: 0.0620\n",
      "Epoch 217/400\n",
      "3155/3155 [==============================] - 0s 97us/sample - loss: 0.2400 - wine_quality_loss: 0.2363 - wine_type_loss: 0.0036 - wine_quality_root_mean_squared_error: 0.4863 - wine_type_root_mean_squared_error: 0.0597 - val_loss: 0.3435 - val_wine_quality_loss: 0.3394 - val_wine_type_loss: 0.0038 - val_wine_quality_root_mean_squared_error: 0.5828 - val_wine_type_root_mean_squared_error: 0.0620\n",
      "Epoch 218/400\n",
      "3155/3155 [==============================] - 0s 94us/sample - loss: 0.2385 - wine_quality_loss: 0.2351 - wine_type_loss: 0.0035 - wine_quality_root_mean_squared_error: 0.4847 - wine_type_root_mean_squared_error: 0.0597 - val_loss: 0.3476 - val_wine_quality_loss: 0.3435 - val_wine_type_loss: 0.0038 - val_wine_quality_root_mean_squared_error: 0.5863 - val_wine_type_root_mean_squared_error: 0.0618\n",
      "Epoch 219/400\n",
      "3155/3155 [==============================] - 0s 93us/sample - loss: 0.2391 - wine_quality_loss: 0.2353 - wine_type_loss: 0.0035 - wine_quality_root_mean_squared_error: 0.4854 - wine_type_root_mean_squared_error: 0.0597 - val_loss: 0.3493 - val_wine_quality_loss: 0.3454 - val_wine_type_loss: 0.0038 - val_wine_quality_root_mean_squared_error: 0.5878 - val_wine_type_root_mean_squared_error: 0.0617\n",
      "Epoch 220/400\n",
      "3155/3155 [==============================] - 0s 95us/sample - loss: 0.2380 - wine_quality_loss: 0.2344 - wine_type_loss: 0.0037 - wine_quality_root_mean_squared_error: 0.4842 - wine_type_root_mean_squared_error: 0.0596 - val_loss: 0.3566 - val_wine_quality_loss: 0.3525 - val_wine_type_loss: 0.0038 - val_wine_quality_root_mean_squared_error: 0.5940 - val_wine_type_root_mean_squared_error: 0.0617\n",
      "Epoch 221/400\n",
      "3155/3155 [==============================] - 0s 111us/sample - loss: 0.2390 - wine_quality_loss: 0.2356 - wine_type_loss: 0.0037 - wine_quality_root_mean_squared_error: 0.4853 - wine_type_root_mean_squared_error: 0.0596 - val_loss: 0.3451 - val_wine_quality_loss: 0.3411 - val_wine_type_loss: 0.0038 - val_wine_quality_root_mean_squared_error: 0.5842 - val_wine_type_root_mean_squared_error: 0.0618\n",
      "Epoch 222/400\n",
      "3155/3155 [==============================] - 0s 79us/sample - loss: 0.2380 - wine_quality_loss: 0.2348 - wine_type_loss: 0.0035 - wine_quality_root_mean_squared_error: 0.4842 - wine_type_root_mean_squared_error: 0.0595 - val_loss: 0.3516 - val_wine_quality_loss: 0.3476 - val_wine_type_loss: 0.0038 - val_wine_quality_root_mean_squared_error: 0.5897 - val_wine_type_root_mean_squared_error: 0.0618\n",
      "Epoch 223/400\n",
      "3155/3155 [==============================] - 0s 111us/sample - loss: 0.2384 - wine_quality_loss: 0.2347 - wine_type_loss: 0.0037 - wine_quality_root_mean_squared_error: 0.4846 - wine_type_root_mean_squared_error: 0.0596 - val_loss: 0.3426 - val_wine_quality_loss: 0.3385 - val_wine_type_loss: 0.0038 - val_wine_quality_root_mean_squared_error: 0.5821 - val_wine_type_root_mean_squared_error: 0.0616\n",
      "Epoch 224/400\n",
      "3155/3155 [==============================] - 0s 96us/sample - loss: 0.2381 - wine_quality_loss: 0.2341 - wine_type_loss: 0.0035 - wine_quality_root_mean_squared_error: 0.4843 - wine_type_root_mean_squared_error: 0.0595 - val_loss: 0.3472 - val_wine_quality_loss: 0.3431 - val_wine_type_loss: 0.0038 - val_wine_quality_root_mean_squared_error: 0.5860 - val_wine_type_root_mean_squared_error: 0.0617\n",
      "Epoch 225/400\n",
      "3155/3155 [==============================] - 0s 98us/sample - loss: 0.2367 - wine_quality_loss: 0.2332 - wine_type_loss: 0.0035 - wine_quality_root_mean_squared_error: 0.4829 - wine_type_root_mean_squared_error: 0.0593 - val_loss: 0.3541 - val_wine_quality_loss: 0.3502 - val_wine_type_loss: 0.0038 - val_wine_quality_root_mean_squared_error: 0.5919 - val_wine_type_root_mean_squared_error: 0.0617\n",
      "Epoch 226/400\n",
      "3155/3155 [==============================] - 0s 96us/sample - loss: 0.2383 - wine_quality_loss: 0.2346 - wine_type_loss: 0.0035 - wine_quality_root_mean_squared_error: 0.4845 - wine_type_root_mean_squared_error: 0.0594 - val_loss: 0.3506 - val_wine_quality_loss: 0.3466 - val_wine_type_loss: 0.0038 - val_wine_quality_root_mean_squared_error: 0.5889 - val_wine_type_root_mean_squared_error: 0.0617\n",
      "Epoch 227/400\n",
      "3155/3155 [==============================] - 0s 96us/sample - loss: 0.2371 - wine_quality_loss: 0.2336 - wine_type_loss: 0.0035 - wine_quality_root_mean_squared_error: 0.4833 - wine_type_root_mean_squared_error: 0.0593 - val_loss: 0.3477 - val_wine_quality_loss: 0.3438 - val_wine_type_loss: 0.0038 - val_wine_quality_root_mean_squared_error: 0.5865 - val_wine_type_root_mean_squared_error: 0.0615\n",
      "Epoch 228/400\n",
      "3155/3155 [==============================] - 0s 95us/sample - loss: 0.2368 - wine_quality_loss: 0.2334 - wine_type_loss: 0.0035 - wine_quality_root_mean_squared_error: 0.4830 - wine_type_root_mean_squared_error: 0.0593 - val_loss: 0.3443 - val_wine_quality_loss: 0.3402 - val_wine_type_loss: 0.0038 - val_wine_quality_root_mean_squared_error: 0.5835 - val_wine_type_root_mean_squared_error: 0.0615\n",
      "Epoch 229/400\n",
      "3155/3155 [==============================] - 0s 97us/sample - loss: 0.2364 - wine_quality_loss: 0.2334 - wine_type_loss: 0.0035 - wine_quality_root_mean_squared_error: 0.4826 - wine_type_root_mean_squared_error: 0.0592 - val_loss: 0.3448 - val_wine_quality_loss: 0.3408 - val_wine_type_loss: 0.0038 - val_wine_quality_root_mean_squared_error: 0.5840 - val_wine_type_root_mean_squared_error: 0.0614\n",
      "Epoch 230/400\n",
      "3155/3155 [==============================] - 0s 95us/sample - loss: 0.2358 - wine_quality_loss: 0.2320 - wine_type_loss: 0.0035 - wine_quality_root_mean_squared_error: 0.4820 - wine_type_root_mean_squared_error: 0.0592 - val_loss: 0.3479 - val_wine_quality_loss: 0.3440 - val_wine_type_loss: 0.0037 - val_wine_quality_root_mean_squared_error: 0.5866 - val_wine_type_root_mean_squared_error: 0.0614\n",
      "Epoch 231/400\n",
      "3155/3155 [==============================] - 0s 93us/sample - loss: 0.2361 - wine_quality_loss: 0.2324 - wine_type_loss: 0.0035 - wine_quality_root_mean_squared_error: 0.4823 - wine_type_root_mean_squared_error: 0.0591 - val_loss: 0.3479 - val_wine_quality_loss: 0.3439 - val_wine_type_loss: 0.0038 - val_wine_quality_root_mean_squared_error: 0.5866 - val_wine_type_root_mean_squared_error: 0.0614\n",
      "Epoch 232/400\n",
      "3155/3155 [==============================] - 0s 94us/sample - loss: 0.2354 - wine_quality_loss: 0.2319 - wine_type_loss: 0.0035 - wine_quality_root_mean_squared_error: 0.4816 - wine_type_root_mean_squared_error: 0.0592 - val_loss: 0.3552 - val_wine_quality_loss: 0.3512 - val_wine_type_loss: 0.0037 - val_wine_quality_root_mean_squared_error: 0.5928 - val_wine_type_root_mean_squared_error: 0.0613\n",
      "Epoch 233/400\n",
      "3155/3155 [==============================] - 0s 95us/sample - loss: 0.2359 - wine_quality_loss: 0.2330 - wine_type_loss: 0.0035 - wine_quality_root_mean_squared_error: 0.4821 - wine_type_root_mean_squared_error: 0.0591 - val_loss: 0.3488 - val_wine_quality_loss: 0.3448 - val_wine_type_loss: 0.0037 - val_wine_quality_root_mean_squared_error: 0.5874 - val_wine_type_root_mean_squared_error: 0.0613\n",
      "Epoch 234/400\n",
      "3155/3155 [==============================] - 0s 96us/sample - loss: 0.2347 - wine_quality_loss: 0.2311 - wine_type_loss: 0.0035 - wine_quality_root_mean_squared_error: 0.4808 - wine_type_root_mean_squared_error: 0.0590 - val_loss: 0.3512 - val_wine_quality_loss: 0.3473 - val_wine_type_loss: 0.0037 - val_wine_quality_root_mean_squared_error: 0.5894 - val_wine_type_root_mean_squared_error: 0.0613\n",
      "Epoch 235/400\n",
      "3155/3155 [==============================] - 0s 93us/sample - loss: 0.2333 - wine_quality_loss: 0.2297 - wine_type_loss: 0.0035 - wine_quality_root_mean_squared_error: 0.4794 - wine_type_root_mean_squared_error: 0.0590 - val_loss: 0.3524 - val_wine_quality_loss: 0.3484 - val_wine_type_loss: 0.0038 - val_wine_quality_root_mean_squared_error: 0.5904 - val_wine_type_root_mean_squared_error: 0.0614\n",
      "Epoch 236/400\n",
      "3155/3155 [==============================] - 0s 96us/sample - loss: 0.2348 - wine_quality_loss: 0.2309 - wine_type_loss: 0.0035 - wine_quality_root_mean_squared_error: 0.4810 - wine_type_root_mean_squared_error: 0.0590 - val_loss: 0.3486 - val_wine_quality_loss: 0.3446 - val_wine_type_loss: 0.0037 - val_wine_quality_root_mean_squared_error: 0.5872 - val_wine_type_root_mean_squared_error: 0.0614\n",
      "Epoch 237/400\n",
      "3155/3155 [==============================] - 0s 95us/sample - loss: 0.2347 - wine_quality_loss: 0.2318 - wine_type_loss: 0.0035 - wine_quality_root_mean_squared_error: 0.4808 - wine_type_root_mean_squared_error: 0.0590 - val_loss: 0.3497 - val_wine_quality_loss: 0.3456 - val_wine_type_loss: 0.0037 - val_wine_quality_root_mean_squared_error: 0.5882 - val_wine_type_root_mean_squared_error: 0.0612\n",
      "Epoch 238/400\n",
      "3155/3155 [==============================] - 0s 94us/sample - loss: 0.2345 - wine_quality_loss: 0.2309 - wine_type_loss: 0.0035 - wine_quality_root_mean_squared_error: 0.4806 - wine_type_root_mean_squared_error: 0.0589 - val_loss: 0.3475 - val_wine_quality_loss: 0.3436 - val_wine_type_loss: 0.0037 - val_wine_quality_root_mean_squared_error: 0.5864 - val_wine_type_root_mean_squared_error: 0.0611\n",
      "Epoch 239/400\n",
      "3155/3155 [==============================] - 0s 98us/sample - loss: 0.2350 - wine_quality_loss: 0.2311 - wine_type_loss: 0.0034 - wine_quality_root_mean_squared_error: 0.4812 - wine_type_root_mean_squared_error: 0.0588 - val_loss: 0.3451 - val_wine_quality_loss: 0.3411 - val_wine_type_loss: 0.0037 - val_wine_quality_root_mean_squared_error: 0.5843 - val_wine_type_root_mean_squared_error: 0.0613\n",
      "Epoch 240/400\n",
      "3155/3155 [==============================] - 0s 95us/sample - loss: 0.2345 - wine_quality_loss: 0.2315 - wine_type_loss: 0.0034 - wine_quality_root_mean_squared_error: 0.4807 - wine_type_root_mean_squared_error: 0.0588 - val_loss: 0.3535 - val_wine_quality_loss: 0.3496 - val_wine_type_loss: 0.0037 - val_wine_quality_root_mean_squared_error: 0.5915 - val_wine_type_root_mean_squared_error: 0.0610\n",
      "Epoch 241/400\n",
      "3155/3155 [==============================] - 0s 96us/sample - loss: 0.2333 - wine_quality_loss: 0.2300 - wine_type_loss: 0.0037 - wine_quality_root_mean_squared_error: 0.4795 - wine_type_root_mean_squared_error: 0.0588 - val_loss: 0.3564 - val_wine_quality_loss: 0.3524 - val_wine_type_loss: 0.0037 - val_wine_quality_root_mean_squared_error: 0.5939 - val_wine_type_root_mean_squared_error: 0.0609\n",
      "Epoch 242/400\n",
      "3155/3155 [==============================] - 0s 99us/sample - loss: 0.2339 - wine_quality_loss: 0.2307 - wine_type_loss: 0.0034 - wine_quality_root_mean_squared_error: 0.4801 - wine_type_root_mean_squared_error: 0.0587 - val_loss: 0.3491 - val_wine_quality_loss: 0.3451 - val_wine_type_loss: 0.0037 - val_wine_quality_root_mean_squared_error: 0.5877 - val_wine_type_root_mean_squared_error: 0.0611\n",
      "Epoch 243/400\n",
      "3155/3155 [==============================] - 0s 110us/sample - loss: 0.2326 - wine_quality_loss: 0.2291 - wine_type_loss: 0.0034 - wine_quality_root_mean_squared_error: 0.4787 - wine_type_root_mean_squared_error: 0.0588 - val_loss: 0.3486 - val_wine_quality_loss: 0.3445 - val_wine_type_loss: 0.0037 - val_wine_quality_root_mean_squared_error: 0.5872 - val_wine_type_root_mean_squared_error: 0.0611\n",
      "Epoch 244/400\n",
      "3155/3155 [==============================] - 0s 80us/sample - loss: 0.2329 - wine_quality_loss: 0.2301 - wine_type_loss: 0.0034 - wine_quality_root_mean_squared_error: 0.4791 - wine_type_root_mean_squared_error: 0.0587 - val_loss: 0.3476 - val_wine_quality_loss: 0.3436 - val_wine_type_loss: 0.0037 - val_wine_quality_root_mean_squared_error: 0.5864 - val_wine_type_root_mean_squared_error: 0.0610\n",
      "Epoch 245/400\n",
      "3155/3155 [==============================] - 0s 110us/sample - loss: 0.2322 - wine_quality_loss: 0.2287 - wine_type_loss: 0.0034 - wine_quality_root_mean_squared_error: 0.4783 - wine_type_root_mean_squared_error: 0.0586 - val_loss: 0.3449 - val_wine_quality_loss: 0.3408 - val_wine_type_loss: 0.0037 - val_wine_quality_root_mean_squared_error: 0.5841 - val_wine_type_root_mean_squared_error: 0.0609\n",
      "Epoch 246/400\n",
      "3155/3155 [==============================] - 0s 96us/sample - loss: 0.2325 - wine_quality_loss: 0.2291 - wine_type_loss: 0.0034 - wine_quality_root_mean_squared_error: 0.4786 - wine_type_root_mean_squared_error: 0.0586 - val_loss: 0.3487 - val_wine_quality_loss: 0.3447 - val_wine_type_loss: 0.0037 - val_wine_quality_root_mean_squared_error: 0.5874 - val_wine_type_root_mean_squared_error: 0.0608\n",
      "Epoch 247/400\n",
      "3155/3155 [==============================] - 0s 96us/sample - loss: 0.2322 - wine_quality_loss: 0.2288 - wine_type_loss: 0.0034 - wine_quality_root_mean_squared_error: 0.4783 - wine_type_root_mean_squared_error: 0.0585 - val_loss: 0.3470 - val_wine_quality_loss: 0.3430 - val_wine_type_loss: 0.0037 - val_wine_quality_root_mean_squared_error: 0.5859 - val_wine_type_root_mean_squared_error: 0.0610\n",
      "Epoch 248/400\n",
      "3155/3155 [==============================] - 0s 97us/sample - loss: 0.2322 - wine_quality_loss: 0.2291 - wine_type_loss: 0.0034 - wine_quality_root_mean_squared_error: 0.4783 - wine_type_root_mean_squared_error: 0.0585 - val_loss: 0.3494 - val_wine_quality_loss: 0.3454 - val_wine_type_loss: 0.0037 - val_wine_quality_root_mean_squared_error: 0.5880 - val_wine_type_root_mean_squared_error: 0.0609\n",
      "Epoch 249/400\n",
      "3155/3155 [==============================] - 0s 95us/sample - loss: 0.2314 - wine_quality_loss: 0.2284 - wine_type_loss: 0.0034 - wine_quality_root_mean_squared_error: 0.4775 - wine_type_root_mean_squared_error: 0.0585 - val_loss: 0.3472 - val_wine_quality_loss: 0.3431 - val_wine_type_loss: 0.0037 - val_wine_quality_root_mean_squared_error: 0.5861 - val_wine_type_root_mean_squared_error: 0.0608\n",
      "Epoch 250/400\n",
      "3155/3155 [==============================] - 0s 95us/sample - loss: 0.2325 - wine_quality_loss: 0.2286 - wine_type_loss: 0.0034 - wine_quality_root_mean_squared_error: 0.4786 - wine_type_root_mean_squared_error: 0.0584 - val_loss: 0.3546 - val_wine_quality_loss: 0.3508 - val_wine_type_loss: 0.0037 - val_wine_quality_root_mean_squared_error: 0.5924 - val_wine_type_root_mean_squared_error: 0.0609\n",
      "Epoch 251/400\n",
      "3155/3155 [==============================] - 0s 95us/sample - loss: 0.2308 - wine_quality_loss: 0.2276 - wine_type_loss: 0.0034 - wine_quality_root_mean_squared_error: 0.4769 - wine_type_root_mean_squared_error: 0.0584 - val_loss: 0.3565 - val_wine_quality_loss: 0.3527 - val_wine_type_loss: 0.0037 - val_wine_quality_root_mean_squared_error: 0.5940 - val_wine_type_root_mean_squared_error: 0.0608\n",
      "Epoch 252/400\n",
      "3155/3155 [==============================] - 0s 94us/sample - loss: 0.2308 - wine_quality_loss: 0.2272 - wine_type_loss: 0.0034 - wine_quality_root_mean_squared_error: 0.4769 - wine_type_root_mean_squared_error: 0.0584 - val_loss: 0.3515 - val_wine_quality_loss: 0.3476 - val_wine_type_loss: 0.0037 - val_wine_quality_root_mean_squared_error: 0.5898 - val_wine_type_root_mean_squared_error: 0.0608\n",
      "Epoch 253/400\n",
      "3155/3155 [==============================] - 0s 94us/sample - loss: 0.2307 - wine_quality_loss: 0.2271 - wine_type_loss: 0.0034 - wine_quality_root_mean_squared_error: 0.4768 - wine_type_root_mean_squared_error: 0.0583 - val_loss: 0.3483 - val_wine_quality_loss: 0.3443 - val_wine_type_loss: 0.0037 - val_wine_quality_root_mean_squared_error: 0.5870 - val_wine_type_root_mean_squared_error: 0.0609\n",
      "Epoch 254/400\n",
      "3155/3155 [==============================] - 0s 94us/sample - loss: 0.2308 - wine_quality_loss: 0.2276 - wine_type_loss: 0.0034 - wine_quality_root_mean_squared_error: 0.4768 - wine_type_root_mean_squared_error: 0.0582 - val_loss: 0.3528 - val_wine_quality_loss: 0.3488 - val_wine_type_loss: 0.0037 - val_wine_quality_root_mean_squared_error: 0.5909 - val_wine_type_root_mean_squared_error: 0.0608\n",
      "Epoch 255/400\n",
      "3155/3155 [==============================] - 0s 93us/sample - loss: 0.2305 - wine_quality_loss: 0.2273 - wine_type_loss: 0.0034 - wine_quality_root_mean_squared_error: 0.4765 - wine_type_root_mean_squared_error: 0.0583 - val_loss: 0.3482 - val_wine_quality_loss: 0.3443 - val_wine_type_loss: 0.0037 - val_wine_quality_root_mean_squared_error: 0.5870 - val_wine_type_root_mean_squared_error: 0.0606\n",
      "Epoch 256/400\n",
      "3155/3155 [==============================] - 0s 96us/sample - loss: 0.2298 - wine_quality_loss: 0.2261 - wine_type_loss: 0.0034 - wine_quality_root_mean_squared_error: 0.4758 - wine_type_root_mean_squared_error: 0.0582 - val_loss: 0.3491 - val_wine_quality_loss: 0.3452 - val_wine_type_loss: 0.0037 - val_wine_quality_root_mean_squared_error: 0.5878 - val_wine_type_root_mean_squared_error: 0.0607\n",
      "Epoch 257/400\n",
      "3155/3155 [==============================] - 0s 93us/sample - loss: 0.2299 - wine_quality_loss: 0.2267 - wine_type_loss: 0.0034 - wine_quality_root_mean_squared_error: 0.4759 - wine_type_root_mean_squared_error: 0.0582 - val_loss: 0.3472 - val_wine_quality_loss: 0.3432 - val_wine_type_loss: 0.0036 - val_wine_quality_root_mean_squared_error: 0.5861 - val_wine_type_root_mean_squared_error: 0.0604\n",
      "Epoch 258/400\n",
      "3155/3155 [==============================] - 0s 79us/sample - loss: 0.2293 - wine_quality_loss: 0.2256 - wine_type_loss: 0.0034 - wine_quality_root_mean_squared_error: 0.4753 - wine_type_root_mean_squared_error: 0.0581 - val_loss: 0.3514 - val_wine_quality_loss: 0.3474 - val_wine_type_loss: 0.0036 - val_wine_quality_root_mean_squared_error: 0.5897 - val_wine_type_root_mean_squared_error: 0.0606\n",
      "Epoch 259/400\n",
      "3155/3155 [==============================] - 0s 93us/sample - loss: 0.2292 - wine_quality_loss: 0.2261 - wine_type_loss: 0.0034 - wine_quality_root_mean_squared_error: 0.4752 - wine_type_root_mean_squared_error: 0.0581 - val_loss: 0.3519 - val_wine_quality_loss: 0.3480 - val_wine_type_loss: 0.0036 - val_wine_quality_root_mean_squared_error: 0.5901 - val_wine_type_root_mean_squared_error: 0.0605\n",
      "Epoch 260/400\n",
      "3155/3155 [==============================] - 0s 94us/sample - loss: 0.2284 - wine_quality_loss: 0.2253 - wine_type_loss: 0.0034 - wine_quality_root_mean_squared_error: 0.4743 - wine_type_root_mean_squared_error: 0.0580 - val_loss: 0.3493 - val_wine_quality_loss: 0.3453 - val_wine_type_loss: 0.0037 - val_wine_quality_root_mean_squared_error: 0.5879 - val_wine_type_root_mean_squared_error: 0.0606\n",
      "Epoch 261/400\n",
      "3155/3155 [==============================] - 0s 94us/sample - loss: 0.2289 - wine_quality_loss: 0.2260 - wine_type_loss: 0.0034 - wine_quality_root_mean_squared_error: 0.4749 - wine_type_root_mean_squared_error: 0.0580 - val_loss: 0.3495 - val_wine_quality_loss: 0.3456 - val_wine_type_loss: 0.0036 - val_wine_quality_root_mean_squared_error: 0.5881 - val_wine_type_root_mean_squared_error: 0.0605\n",
      "Epoch 262/400\n",
      "3155/3155 [==============================] - 0s 94us/sample - loss: 0.2280 - wine_quality_loss: 0.2243 - wine_type_loss: 0.0034 - wine_quality_root_mean_squared_error: 0.4739 - wine_type_root_mean_squared_error: 0.0580 - val_loss: 0.3542 - val_wine_quality_loss: 0.3504 - val_wine_type_loss: 0.0036 - val_wine_quality_root_mean_squared_error: 0.5920 - val_wine_type_root_mean_squared_error: 0.0605\n",
      "Epoch 263/400\n",
      "3155/3155 [==============================] - 0s 95us/sample - loss: 0.2295 - wine_quality_loss: 0.2262 - wine_type_loss: 0.0033 - wine_quality_root_mean_squared_error: 0.4756 - wine_type_root_mean_squared_error: 0.0579 - val_loss: 0.3516 - val_wine_quality_loss: 0.3477 - val_wine_type_loss: 0.0036 - val_wine_quality_root_mean_squared_error: 0.5899 - val_wine_type_root_mean_squared_error: 0.0605\n",
      "Epoch 264/400\n",
      "3155/3155 [==============================] - 0s 93us/sample - loss: 0.2280 - wine_quality_loss: 0.2242 - wine_type_loss: 0.0033 - wine_quality_root_mean_squared_error: 0.4740 - wine_type_root_mean_squared_error: 0.0579 - val_loss: 0.3520 - val_wine_quality_loss: 0.3480 - val_wine_type_loss: 0.0036 - val_wine_quality_root_mean_squared_error: 0.5902 - val_wine_type_root_mean_squared_error: 0.0604\n",
      "Epoch 265/400\n",
      "3155/3155 [==============================] - 0s 95us/sample - loss: 0.2282 - wine_quality_loss: 0.2250 - wine_type_loss: 0.0033 - wine_quality_root_mean_squared_error: 0.4741 - wine_type_root_mean_squared_error: 0.0578 - val_loss: 0.3522 - val_wine_quality_loss: 0.3482 - val_wine_type_loss: 0.0036 - val_wine_quality_root_mean_squared_error: 0.5904 - val_wine_type_root_mean_squared_error: 0.0605\n",
      "Epoch 266/400\n",
      "3155/3155 [==============================] - 0s 95us/sample - loss: 0.2281 - wine_quality_loss: 0.2242 - wine_type_loss: 0.0033 - wine_quality_root_mean_squared_error: 0.4741 - wine_type_root_mean_squared_error: 0.0578 - val_loss: 0.3486 - val_wine_quality_loss: 0.3446 - val_wine_type_loss: 0.0036 - val_wine_quality_root_mean_squared_error: 0.5873 - val_wine_type_root_mean_squared_error: 0.0604\n",
      "Epoch 267/400\n",
      "3155/3155 [==============================] - 0s 94us/sample - loss: 0.2279 - wine_quality_loss: 0.2249 - wine_type_loss: 0.0033 - wine_quality_root_mean_squared_error: 0.4739 - wine_type_root_mean_squared_error: 0.0578 - val_loss: 0.3531 - val_wine_quality_loss: 0.3492 - val_wine_type_loss: 0.0036 - val_wine_quality_root_mean_squared_error: 0.5911 - val_wine_type_root_mean_squared_error: 0.0603\n",
      "Epoch 268/400\n",
      "3155/3155 [==============================] - 0s 94us/sample - loss: 0.2274 - wine_quality_loss: 0.2241 - wine_type_loss: 0.0033 - wine_quality_root_mean_squared_error: 0.4733 - wine_type_root_mean_squared_error: 0.0578 - val_loss: 0.3539 - val_wine_quality_loss: 0.3500 - val_wine_type_loss: 0.0036 - val_wine_quality_root_mean_squared_error: 0.5918 - val_wine_type_root_mean_squared_error: 0.0605\n",
      "Epoch 269/400\n",
      "3155/3155 [==============================] - 0s 95us/sample - loss: 0.2267 - wine_quality_loss: 0.2231 - wine_type_loss: 0.0033 - wine_quality_root_mean_squared_error: 0.4726 - wine_type_root_mean_squared_error: 0.0578 - val_loss: 0.3489 - val_wine_quality_loss: 0.3450 - val_wine_type_loss: 0.0036 - val_wine_quality_root_mean_squared_error: 0.5876 - val_wine_type_root_mean_squared_error: 0.0604\n",
      "Epoch 270/400\n",
      "3155/3155 [==============================] - 0s 96us/sample - loss: 0.2268 - wine_quality_loss: 0.2235 - wine_type_loss: 0.0033 - wine_quality_root_mean_squared_error: 0.4727 - wine_type_root_mean_squared_error: 0.0577 - val_loss: 0.3577 - val_wine_quality_loss: 0.3538 - val_wine_type_loss: 0.0037 - val_wine_quality_root_mean_squared_error: 0.5950 - val_wine_type_root_mean_squared_error: 0.0606\n",
      "Epoch 271/400\n",
      "3155/3155 [==============================] - 0s 96us/sample - loss: 0.2267 - wine_quality_loss: 0.2230 - wine_type_loss: 0.0033 - wine_quality_root_mean_squared_error: 0.4726 - wine_type_root_mean_squared_error: 0.0577 - val_loss: 0.3529 - val_wine_quality_loss: 0.3490 - val_wine_type_loss: 0.0036 - val_wine_quality_root_mean_squared_error: 0.5910 - val_wine_type_root_mean_squared_error: 0.0603\n",
      "Epoch 272/400\n",
      "3155/3155 [==============================] - 0s 96us/sample - loss: 0.2279 - wine_quality_loss: 0.2246 - wine_type_loss: 0.0033 - wine_quality_root_mean_squared_error: 0.4739 - wine_type_root_mean_squared_error: 0.0576 - val_loss: 0.3554 - val_wine_quality_loss: 0.3515 - val_wine_type_loss: 0.0036 - val_wine_quality_root_mean_squared_error: 0.5931 - val_wine_type_root_mean_squared_error: 0.0604\n",
      "Epoch 273/400\n",
      "3155/3155 [==============================] - 0s 95us/sample - loss: 0.2272 - wine_quality_loss: 0.2240 - wine_type_loss: 0.0033 - wine_quality_root_mean_squared_error: 0.4732 - wine_type_root_mean_squared_error: 0.0576 - val_loss: 0.3502 - val_wine_quality_loss: 0.3462 - val_wine_type_loss: 0.0036 - val_wine_quality_root_mean_squared_error: 0.5887 - val_wine_type_root_mean_squared_error: 0.0604\n",
      "Epoch 274/400\n",
      "3155/3155 [==============================] - 0s 96us/sample - loss: 0.2255 - wine_quality_loss: 0.2221 - wine_type_loss: 0.0033 - wine_quality_root_mean_squared_error: 0.4714 - wine_type_root_mean_squared_error: 0.0576 - val_loss: 0.3487 - val_wine_quality_loss: 0.3448 - val_wine_type_loss: 0.0036 - val_wine_quality_root_mean_squared_error: 0.5874 - val_wine_type_root_mean_squared_error: 0.0604\n",
      "Epoch 275/400\n",
      "3155/3155 [==============================] - 0s 96us/sample - loss: 0.2249 - wine_quality_loss: 0.2220 - wine_type_loss: 0.0033 - wine_quality_root_mean_squared_error: 0.4707 - wine_type_root_mean_squared_error: 0.0574 - val_loss: 0.3550 - val_wine_quality_loss: 0.3511 - val_wine_type_loss: 0.0036 - val_wine_quality_root_mean_squared_error: 0.5927 - val_wine_type_root_mean_squared_error: 0.0604\n",
      "Epoch 276/400\n",
      "3155/3155 [==============================] - 0s 95us/sample - loss: 0.2262 - wine_quality_loss: 0.2225 - wine_type_loss: 0.0033 - wine_quality_root_mean_squared_error: 0.4722 - wine_type_root_mean_squared_error: 0.0575 - val_loss: 0.3566 - val_wine_quality_loss: 0.3528 - val_wine_type_loss: 0.0036 - val_wine_quality_root_mean_squared_error: 0.5941 - val_wine_type_root_mean_squared_error: 0.0603\n",
      "Epoch 277/400\n",
      "3155/3155 [==============================] - 0s 94us/sample - loss: 0.2242 - wine_quality_loss: 0.2206 - wine_type_loss: 0.0033 - wine_quality_root_mean_squared_error: 0.4700 - wine_type_root_mean_squared_error: 0.0574 - val_loss: 0.3645 - val_wine_quality_loss: 0.3607 - val_wine_type_loss: 0.0036 - val_wine_quality_root_mean_squared_error: 0.6007 - val_wine_type_root_mean_squared_error: 0.0604\n",
      "Epoch 278/400\n",
      "3155/3155 [==============================] - 0s 93us/sample - loss: 0.2255 - wine_quality_loss: 0.2221 - wine_type_loss: 0.0033 - wine_quality_root_mean_squared_error: 0.4714 - wine_type_root_mean_squared_error: 0.0574 - val_loss: 0.3627 - val_wine_quality_loss: 0.3589 - val_wine_type_loss: 0.0036 - val_wine_quality_root_mean_squared_error: 0.5992 - val_wine_type_root_mean_squared_error: 0.0604\n",
      "Epoch 279/400\n",
      "3155/3155 [==============================] - 0s 96us/sample - loss: 0.2243 - wine_quality_loss: 0.2210 - wine_type_loss: 0.0033 - wine_quality_root_mean_squared_error: 0.4701 - wine_type_root_mean_squared_error: 0.0573 - val_loss: 0.3566 - val_wine_quality_loss: 0.3528 - val_wine_type_loss: 0.0036 - val_wine_quality_root_mean_squared_error: 0.5941 - val_wine_type_root_mean_squared_error: 0.0602\n",
      "Epoch 280/400\n",
      "3155/3155 [==============================] - 0s 124us/sample - loss: 0.2246 - wine_quality_loss: 0.2215 - wine_type_loss: 0.0033 - wine_quality_root_mean_squared_error: 0.4705 - wine_type_root_mean_squared_error: 0.0573 - val_loss: 0.3523 - val_wine_quality_loss: 0.3484 - val_wine_type_loss: 0.0036 - val_wine_quality_root_mean_squared_error: 0.5905 - val_wine_type_root_mean_squared_error: 0.0601\n",
      "Epoch 281/400\n",
      "3155/3155 [==============================] - 0s 94us/sample - loss: 0.2235 - wine_quality_loss: 0.2206 - wine_type_loss: 0.0033 - wine_quality_root_mean_squared_error: 0.4693 - wine_type_root_mean_squared_error: 0.0572 - val_loss: 0.3551 - val_wine_quality_loss: 0.3511 - val_wine_type_loss: 0.0036 - val_wine_quality_root_mean_squared_error: 0.5929 - val_wine_type_root_mean_squared_error: 0.0602\n",
      "Epoch 282/400\n",
      "3155/3155 [==============================] - 0s 94us/sample - loss: 0.2254 - wine_quality_loss: 0.2222 - wine_type_loss: 0.0033 - wine_quality_root_mean_squared_error: 0.4713 - wine_type_root_mean_squared_error: 0.0573 - val_loss: 0.3520 - val_wine_quality_loss: 0.3481 - val_wine_type_loss: 0.0036 - val_wine_quality_root_mean_squared_error: 0.5903 - val_wine_type_root_mean_squared_error: 0.0601\n",
      "Epoch 283/400\n",
      "3155/3155 [==============================] - 0s 96us/sample - loss: 0.2247 - wine_quality_loss: 0.2215 - wine_type_loss: 0.0033 - wine_quality_root_mean_squared_error: 0.4706 - wine_type_root_mean_squared_error: 0.0573 - val_loss: 0.3499 - val_wine_quality_loss: 0.3460 - val_wine_type_loss: 0.0036 - val_wine_quality_root_mean_squared_error: 0.5885 - val_wine_type_root_mean_squared_error: 0.0602\n",
      "Epoch 284/400\n",
      "3155/3155 [==============================] - 0s 97us/sample - loss: 0.2238 - wine_quality_loss: 0.2208 - wine_type_loss: 0.0033 - wine_quality_root_mean_squared_error: 0.4696 - wine_type_root_mean_squared_error: 0.0573 - val_loss: 0.3520 - val_wine_quality_loss: 0.3481 - val_wine_type_loss: 0.0036 - val_wine_quality_root_mean_squared_error: 0.5902 - val_wine_type_root_mean_squared_error: 0.0601\n",
      "Epoch 285/400\n",
      "3155/3155 [==============================] - 0s 94us/sample - loss: 0.2241 - wine_quality_loss: 0.2207 - wine_type_loss: 0.0033 - wine_quality_root_mean_squared_error: 0.4699 - wine_type_root_mean_squared_error: 0.0572 - val_loss: 0.3521 - val_wine_quality_loss: 0.3482 - val_wine_type_loss: 0.0036 - val_wine_quality_root_mean_squared_error: 0.5903 - val_wine_type_root_mean_squared_error: 0.0600\n",
      "Epoch 286/400\n",
      "3155/3155 [==============================] - 0s 94us/sample - loss: 0.2236 - wine_quality_loss: 0.2208 - wine_type_loss: 0.0033 - wine_quality_root_mean_squared_error: 0.4694 - wine_type_root_mean_squared_error: 0.0572 - val_loss: 0.3571 - val_wine_quality_loss: 0.3533 - val_wine_type_loss: 0.0036 - val_wine_quality_root_mean_squared_error: 0.5946 - val_wine_type_root_mean_squared_error: 0.0600\n",
      "Epoch 287/400\n",
      "3155/3155 [==============================] - 0s 94us/sample - loss: 0.2234 - wine_quality_loss: 0.2201 - wine_type_loss: 0.0033 - wine_quality_root_mean_squared_error: 0.4692 - wine_type_root_mean_squared_error: 0.0571 - val_loss: 0.3536 - val_wine_quality_loss: 0.3497 - val_wine_type_loss: 0.0036 - val_wine_quality_root_mean_squared_error: 0.5916 - val_wine_type_root_mean_squared_error: 0.0601\n",
      "Epoch 288/400\n",
      "3155/3155 [==============================] - 0s 96us/sample - loss: 0.2230 - wine_quality_loss: 0.2193 - wine_type_loss: 0.0035 - wine_quality_root_mean_squared_error: 0.4687 - wine_type_root_mean_squared_error: 0.0571 - val_loss: 0.3538 - val_wine_quality_loss: 0.3500 - val_wine_type_loss: 0.0036 - val_wine_quality_root_mean_squared_error: 0.5918 - val_wine_type_root_mean_squared_error: 0.0601\n",
      "Epoch 289/400\n",
      "3155/3155 [==============================] - 0s 96us/sample - loss: 0.2221 - wine_quality_loss: 0.2185 - wine_type_loss: 0.0032 - wine_quality_root_mean_squared_error: 0.4678 - wine_type_root_mean_squared_error: 0.0570 - val_loss: 0.3610 - val_wine_quality_loss: 0.3571 - val_wine_type_loss: 0.0036 - val_wine_quality_root_mean_squared_error: 0.5978 - val_wine_type_root_mean_squared_error: 0.0599\n",
      "Epoch 290/400\n",
      "3155/3155 [==============================] - 0s 96us/sample - loss: 0.2221 - wine_quality_loss: 0.2193 - wine_type_loss: 0.0032 - wine_quality_root_mean_squared_error: 0.4678 - wine_type_root_mean_squared_error: 0.0571 - val_loss: 0.3521 - val_wine_quality_loss: 0.3482 - val_wine_type_loss: 0.0036 - val_wine_quality_root_mean_squared_error: 0.5903 - val_wine_type_root_mean_squared_error: 0.0600\n",
      "Epoch 291/400\n",
      "3155/3155 [==============================] - 0s 94us/sample - loss: 0.2226 - wine_quality_loss: 0.2192 - wine_type_loss: 0.0032 - wine_quality_root_mean_squared_error: 0.4683 - wine_type_root_mean_squared_error: 0.0570 - val_loss: 0.3510 - val_wine_quality_loss: 0.3473 - val_wine_type_loss: 0.0036 - val_wine_quality_root_mean_squared_error: 0.5894 - val_wine_type_root_mean_squared_error: 0.0600\n",
      "Epoch 292/400\n",
      "3155/3155 [==============================] - 0s 95us/sample - loss: 0.2233 - wine_quality_loss: 0.2203 - wine_type_loss: 0.0032 - wine_quality_root_mean_squared_error: 0.4691 - wine_type_root_mean_squared_error: 0.0570 - val_loss: 0.3514 - val_wine_quality_loss: 0.3475 - val_wine_type_loss: 0.0036 - val_wine_quality_root_mean_squared_error: 0.5897 - val_wine_type_root_mean_squared_error: 0.0601\n",
      "Epoch 293/400\n",
      "3155/3155 [==============================] - 0s 111us/sample - loss: 0.2207 - wine_quality_loss: 0.2173 - wine_type_loss: 0.0032 - wine_quality_root_mean_squared_error: 0.4663 - wine_type_root_mean_squared_error: 0.0570 - val_loss: 0.3527 - val_wine_quality_loss: 0.3488 - val_wine_type_loss: 0.0036 - val_wine_quality_root_mean_squared_error: 0.5909 - val_wine_type_root_mean_squared_error: 0.0600\n",
      "Epoch 294/400\n",
      "3155/3155 [==============================] - 0s 79us/sample - loss: 0.2200 - wine_quality_loss: 0.2166 - wine_type_loss: 0.0032 - wine_quality_root_mean_squared_error: 0.4656 - wine_type_root_mean_squared_error: 0.0569 - val_loss: 0.3568 - val_wine_quality_loss: 0.3530 - val_wine_type_loss: 0.0036 - val_wine_quality_root_mean_squared_error: 0.5943 - val_wine_type_root_mean_squared_error: 0.0601\n",
      "Epoch 295/400\n",
      "3155/3155 [==============================] - 0s 95us/sample - loss: 0.2216 - wine_quality_loss: 0.2180 - wine_type_loss: 0.0032 - wine_quality_root_mean_squared_error: 0.4673 - wine_type_root_mean_squared_error: 0.0569 - val_loss: 0.3529 - val_wine_quality_loss: 0.3490 - val_wine_type_loss: 0.0036 - val_wine_quality_root_mean_squared_error: 0.5911 - val_wine_type_root_mean_squared_error: 0.0600\n",
      "Epoch 296/400\n",
      "3155/3155 [==============================] - 0s 95us/sample - loss: 0.2211 - wine_quality_loss: 0.2181 - wine_type_loss: 0.0032 - wine_quality_root_mean_squared_error: 0.4668 - wine_type_root_mean_squared_error: 0.0568 - val_loss: 0.3518 - val_wine_quality_loss: 0.3479 - val_wine_type_loss: 0.0036 - val_wine_quality_root_mean_squared_error: 0.5901 - val_wine_type_root_mean_squared_error: 0.0601\n",
      "Epoch 297/400\n",
      "3155/3155 [==============================] - 0s 102us/sample - loss: 0.2213 - wine_quality_loss: 0.2179 - wine_type_loss: 0.0032 - wine_quality_root_mean_squared_error: 0.4670 - wine_type_root_mean_squared_error: 0.0568 - val_loss: 0.3642 - val_wine_quality_loss: 0.3604 - val_wine_type_loss: 0.0036 - val_wine_quality_root_mean_squared_error: 0.6005 - val_wine_type_root_mean_squared_error: 0.0602\n",
      "Epoch 298/400\n",
      "3155/3155 [==============================] - 0s 99us/sample - loss: 0.2207 - wine_quality_loss: 0.2174 - wine_type_loss: 0.0032 - wine_quality_root_mean_squared_error: 0.4663 - wine_type_root_mean_squared_error: 0.0568 - val_loss: 0.3574 - val_wine_quality_loss: 0.3536 - val_wine_type_loss: 0.0036 - val_wine_quality_root_mean_squared_error: 0.5948 - val_wine_type_root_mean_squared_error: 0.0601\n",
      "Epoch 299/400\n",
      "3155/3155 [==============================] - 0s 95us/sample - loss: 0.2209 - wine_quality_loss: 0.2176 - wine_type_loss: 0.0032 - wine_quality_root_mean_squared_error: 0.4666 - wine_type_root_mean_squared_error: 0.0568 - val_loss: 0.3573 - val_wine_quality_loss: 0.3534 - val_wine_type_loss: 0.0036 - val_wine_quality_root_mean_squared_error: 0.5947 - val_wine_type_root_mean_squared_error: 0.0600\n",
      "Epoch 300/400\n",
      "3155/3155 [==============================] - 0s 101us/sample - loss: 0.2202 - wine_quality_loss: 0.2173 - wine_type_loss: 0.0032 - wine_quality_root_mean_squared_error: 0.4658 - wine_type_root_mean_squared_error: 0.0568 - val_loss: 0.3601 - val_wine_quality_loss: 0.3563 - val_wine_type_loss: 0.0036 - val_wine_quality_root_mean_squared_error: 0.5971 - val_wine_type_root_mean_squared_error: 0.0599\n",
      "Epoch 301/400\n",
      "3155/3155 [==============================] - 0s 95us/sample - loss: 0.2203 - wine_quality_loss: 0.2170 - wine_type_loss: 0.0032 - wine_quality_root_mean_squared_error: 0.4659 - wine_type_root_mean_squared_error: 0.0567 - val_loss: 0.3680 - val_wine_quality_loss: 0.3641 - val_wine_type_loss: 0.0036 - val_wine_quality_root_mean_squared_error: 0.6036 - val_wine_type_root_mean_squared_error: 0.0601\n",
      "Epoch 302/400\n",
      "3155/3155 [==============================] - 0s 110us/sample - loss: 0.2215 - wine_quality_loss: 0.2188 - wine_type_loss: 0.0032 - wine_quality_root_mean_squared_error: 0.4672 - wine_type_root_mean_squared_error: 0.0567 - val_loss: 0.3606 - val_wine_quality_loss: 0.3567 - val_wine_type_loss: 0.0036 - val_wine_quality_root_mean_squared_error: 0.5975 - val_wine_type_root_mean_squared_error: 0.0600\n",
      "Epoch 303/400\n",
      "3155/3155 [==============================] - 0s 93us/sample - loss: 0.2199 - wine_quality_loss: 0.2162 - wine_type_loss: 0.0032 - wine_quality_root_mean_squared_error: 0.4655 - wine_type_root_mean_squared_error: 0.0566 - val_loss: 0.3534 - val_wine_quality_loss: 0.3496 - val_wine_type_loss: 0.0036 - val_wine_quality_root_mean_squared_error: 0.5915 - val_wine_type_root_mean_squared_error: 0.0600\n",
      "Epoch 304/400\n",
      "3155/3155 [==============================] - 0s 80us/sample - loss: 0.2195 - wine_quality_loss: 0.2166 - wine_type_loss: 0.0032 - wine_quality_root_mean_squared_error: 0.4650 - wine_type_root_mean_squared_error: 0.0566 - val_loss: 0.3587 - val_wine_quality_loss: 0.3548 - val_wine_type_loss: 0.0036 - val_wine_quality_root_mean_squared_error: 0.5959 - val_wine_type_root_mean_squared_error: 0.0599\n",
      "Epoch 305/400\n",
      "3155/3155 [==============================] - 0s 110us/sample - loss: 0.2201 - wine_quality_loss: 0.2175 - wine_type_loss: 0.0032 - wine_quality_root_mean_squared_error: 0.4657 - wine_type_root_mean_squared_error: 0.0565 - val_loss: 0.3593 - val_wine_quality_loss: 0.3555 - val_wine_type_loss: 0.0036 - val_wine_quality_root_mean_squared_error: 0.5964 - val_wine_type_root_mean_squared_error: 0.0599\n",
      "Epoch 306/400\n",
      "3155/3155 [==============================] - 0s 98us/sample - loss: 0.2180 - wine_quality_loss: 0.2150 - wine_type_loss: 0.0032 - wine_quality_root_mean_squared_error: 0.4635 - wine_type_root_mean_squared_error: 0.0566 - val_loss: 0.3561 - val_wine_quality_loss: 0.3523 - val_wine_type_loss: 0.0036 - val_wine_quality_root_mean_squared_error: 0.5938 - val_wine_type_root_mean_squared_error: 0.0598\n",
      "Epoch 307/400\n",
      "3155/3155 [==============================] - 0s 97us/sample - loss: 0.2184 - wine_quality_loss: 0.2150 - wine_type_loss: 0.0032 - wine_quality_root_mean_squared_error: 0.4639 - wine_type_root_mean_squared_error: 0.0566 - val_loss: 0.3579 - val_wine_quality_loss: 0.3540 - val_wine_type_loss: 0.0036 - val_wine_quality_root_mean_squared_error: 0.5953 - val_wine_type_root_mean_squared_error: 0.0598\n",
      "Epoch 308/400\n",
      "3155/3155 [==============================] - 0s 96us/sample - loss: 0.2187 - wine_quality_loss: 0.2156 - wine_type_loss: 0.0032 - wine_quality_root_mean_squared_error: 0.4642 - wine_type_root_mean_squared_error: 0.0566 - val_loss: 0.3587 - val_wine_quality_loss: 0.3549 - val_wine_type_loss: 0.0036 - val_wine_quality_root_mean_squared_error: 0.5959 - val_wine_type_root_mean_squared_error: 0.0598\n",
      "Epoch 309/400\n",
      "3155/3155 [==============================] - 0s 95us/sample - loss: 0.2186 - wine_quality_loss: 0.2156 - wine_type_loss: 0.0032 - wine_quality_root_mean_squared_error: 0.4641 - wine_type_root_mean_squared_error: 0.0566 - val_loss: 0.3581 - val_wine_quality_loss: 0.3542 - val_wine_type_loss: 0.0035 - val_wine_quality_root_mean_squared_error: 0.5954 - val_wine_type_root_mean_squared_error: 0.0597\n",
      "Epoch 310/400\n",
      "3155/3155 [==============================] - 0s 95us/sample - loss: 0.2183 - wine_quality_loss: 0.2149 - wine_type_loss: 0.0032 - wine_quality_root_mean_squared_error: 0.4638 - wine_type_root_mean_squared_error: 0.0564 - val_loss: 0.3561 - val_wine_quality_loss: 0.3522 - val_wine_type_loss: 0.0036 - val_wine_quality_root_mean_squared_error: 0.5937 - val_wine_type_root_mean_squared_error: 0.0598\n",
      "Epoch 311/400\n",
      "3155/3155 [==============================] - 0s 95us/sample - loss: 0.2177 - wine_quality_loss: 0.2147 - wine_type_loss: 0.0032 - wine_quality_root_mean_squared_error: 0.4631 - wine_type_root_mean_squared_error: 0.0564 - val_loss: 0.3583 - val_wine_quality_loss: 0.3545 - val_wine_type_loss: 0.0036 - val_wine_quality_root_mean_squared_error: 0.5956 - val_wine_type_root_mean_squared_error: 0.0599\n",
      "Epoch 312/400\n",
      "3155/3155 [==============================] - 0s 95us/sample - loss: 0.2179 - wine_quality_loss: 0.2141 - wine_type_loss: 0.0032 - wine_quality_root_mean_squared_error: 0.4633 - wine_type_root_mean_squared_error: 0.0564 - val_loss: 0.3532 - val_wine_quality_loss: 0.3494 - val_wine_type_loss: 0.0036 - val_wine_quality_root_mean_squared_error: 0.5913 - val_wine_type_root_mean_squared_error: 0.0599\n",
      "Epoch 313/400\n",
      "3155/3155 [==============================] - 0s 95us/sample - loss: 0.2175 - wine_quality_loss: 0.2142 - wine_type_loss: 0.0034 - wine_quality_root_mean_squared_error: 0.4629 - wine_type_root_mean_squared_error: 0.0562 - val_loss: 0.3563 - val_wine_quality_loss: 0.3524 - val_wine_type_loss: 0.0036 - val_wine_quality_root_mean_squared_error: 0.5939 - val_wine_type_root_mean_squared_error: 0.0599\n",
      "Epoch 314/400\n",
      "3155/3155 [==============================] - 0s 96us/sample - loss: 0.2179 - wine_quality_loss: 0.2150 - wine_type_loss: 0.0032 - wine_quality_root_mean_squared_error: 0.4634 - wine_type_root_mean_squared_error: 0.0564 - val_loss: 0.3570 - val_wine_quality_loss: 0.3532 - val_wine_type_loss: 0.0035 - val_wine_quality_root_mean_squared_error: 0.5945 - val_wine_type_root_mean_squared_error: 0.0597\n",
      "Epoch 315/400\n",
      "3155/3155 [==============================] - 0s 98us/sample - loss: 0.2173 - wine_quality_loss: 0.2140 - wine_type_loss: 0.0031 - wine_quality_root_mean_squared_error: 0.4627 - wine_type_root_mean_squared_error: 0.0562 - val_loss: 0.3541 - val_wine_quality_loss: 0.3503 - val_wine_type_loss: 0.0036 - val_wine_quality_root_mean_squared_error: 0.5921 - val_wine_type_root_mean_squared_error: 0.0598\n",
      "Epoch 316/400\n",
      "3155/3155 [==============================] - 0s 96us/sample - loss: 0.2169 - wine_quality_loss: 0.2139 - wine_type_loss: 0.0031 - wine_quality_root_mean_squared_error: 0.4623 - wine_type_root_mean_squared_error: 0.0562 - val_loss: 0.3596 - val_wine_quality_loss: 0.3558 - val_wine_type_loss: 0.0036 - val_wine_quality_root_mean_squared_error: 0.5967 - val_wine_type_root_mean_squared_error: 0.0599\n",
      "Epoch 317/400\n",
      "3155/3155 [==============================] - 0s 113us/sample - loss: 0.2166 - wine_quality_loss: 0.2134 - wine_type_loss: 0.0031 - wine_quality_root_mean_squared_error: 0.4620 - wine_type_root_mean_squared_error: 0.0562 - val_loss: 0.3626 - val_wine_quality_loss: 0.3588 - val_wine_type_loss: 0.0036 - val_wine_quality_root_mean_squared_error: 0.5991 - val_wine_type_root_mean_squared_error: 0.0601\n",
      "Epoch 318/400\n",
      "3155/3155 [==============================] - 0s 97us/sample - loss: 0.2163 - wine_quality_loss: 0.2134 - wine_type_loss: 0.0031 - wine_quality_root_mean_squared_error: 0.4617 - wine_type_root_mean_squared_error: 0.0562 - val_loss: 0.3596 - val_wine_quality_loss: 0.3557 - val_wine_type_loss: 0.0036 - val_wine_quality_root_mean_squared_error: 0.5967 - val_wine_type_root_mean_squared_error: 0.0599\n",
      "Epoch 319/400\n",
      "3155/3155 [==============================] - 0s 101us/sample - loss: 0.2169 - wine_quality_loss: 0.2134 - wine_type_loss: 0.0032 - wine_quality_root_mean_squared_error: 0.4623 - wine_type_root_mean_squared_error: 0.0562 - val_loss: 0.3563 - val_wine_quality_loss: 0.3525 - val_wine_type_loss: 0.0036 - val_wine_quality_root_mean_squared_error: 0.5939 - val_wine_type_root_mean_squared_error: 0.0598\n",
      "Epoch 320/400\n",
      "3155/3155 [==============================] - 0s 98us/sample - loss: 0.2151 - wine_quality_loss: 0.2120 - wine_type_loss: 0.0031 - wine_quality_root_mean_squared_error: 0.4604 - wine_type_root_mean_squared_error: 0.0561 - val_loss: 0.3566 - val_wine_quality_loss: 0.3526 - val_wine_type_loss: 0.0036 - val_wine_quality_root_mean_squared_error: 0.5941 - val_wine_type_root_mean_squared_error: 0.0599\n",
      "Epoch 321/400\n",
      "3155/3155 [==============================] - 0s 96us/sample - loss: 0.2162 - wine_quality_loss: 0.2135 - wine_type_loss: 0.0031 - wine_quality_root_mean_squared_error: 0.4616 - wine_type_root_mean_squared_error: 0.0562 - val_loss: 0.3744 - val_wine_quality_loss: 0.3706 - val_wine_type_loss: 0.0036 - val_wine_quality_root_mean_squared_error: 0.6089 - val_wine_type_root_mean_squared_error: 0.0599\n",
      "Epoch 322/400\n",
      "3155/3155 [==============================] - 0s 95us/sample - loss: 0.2158 - wine_quality_loss: 0.2123 - wine_type_loss: 0.0031 - wine_quality_root_mean_squared_error: 0.4611 - wine_type_root_mean_squared_error: 0.0561 - val_loss: 0.3549 - val_wine_quality_loss: 0.3511 - val_wine_type_loss: 0.0036 - val_wine_quality_root_mean_squared_error: 0.5927 - val_wine_type_root_mean_squared_error: 0.0597\n",
      "Epoch 323/400\n",
      "3155/3155 [==============================] - 0s 95us/sample - loss: 0.2155 - wine_quality_loss: 0.2124 - wine_type_loss: 0.0031 - wine_quality_root_mean_squared_error: 0.4608 - wine_type_root_mean_squared_error: 0.0561 - val_loss: 0.3603 - val_wine_quality_loss: 0.3566 - val_wine_type_loss: 0.0036 - val_wine_quality_root_mean_squared_error: 0.5973 - val_wine_type_root_mean_squared_error: 0.0598\n",
      "Epoch 324/400\n",
      "3155/3155 [==============================] - 0s 97us/sample - loss: 0.2156 - wine_quality_loss: 0.2123 - wine_type_loss: 0.0031 - wine_quality_root_mean_squared_error: 0.4609 - wine_type_root_mean_squared_error: 0.0561 - val_loss: 0.3547 - val_wine_quality_loss: 0.3508 - val_wine_type_loss: 0.0035 - val_wine_quality_root_mean_squared_error: 0.5926 - val_wine_type_root_mean_squared_error: 0.0597\n",
      "Epoch 325/400\n",
      "3155/3155 [==============================] - 0s 93us/sample - loss: 0.2155 - wine_quality_loss: 0.2124 - wine_type_loss: 0.0031 - wine_quality_root_mean_squared_error: 0.4608 - wine_type_root_mean_squared_error: 0.0560 - val_loss: 0.3580 - val_wine_quality_loss: 0.3541 - val_wine_type_loss: 0.0036 - val_wine_quality_root_mean_squared_error: 0.5953 - val_wine_type_root_mean_squared_error: 0.0597\n",
      "Epoch 326/400\n",
      "3155/3155 [==============================] - 0s 96us/sample - loss: 0.2158 - wine_quality_loss: 0.2126 - wine_type_loss: 0.0031 - wine_quality_root_mean_squared_error: 0.4611 - wine_type_root_mean_squared_error: 0.0560 - val_loss: 0.3589 - val_wine_quality_loss: 0.3551 - val_wine_type_loss: 0.0036 - val_wine_quality_root_mean_squared_error: 0.5961 - val_wine_type_root_mean_squared_error: 0.0598\n",
      "Epoch 327/400\n",
      "3155/3155 [==============================] - 0s 94us/sample - loss: 0.2154 - wine_quality_loss: 0.2122 - wine_type_loss: 0.0031 - wine_quality_root_mean_squared_error: 0.4607 - wine_type_root_mean_squared_error: 0.0560 - val_loss: 0.3641 - val_wine_quality_loss: 0.3603 - val_wine_type_loss: 0.0035 - val_wine_quality_root_mean_squared_error: 0.6004 - val_wine_type_root_mean_squared_error: 0.0596\n",
      "Epoch 328/400\n",
      "3155/3155 [==============================] - 0s 94us/sample - loss: 0.2153 - wine_quality_loss: 0.2116 - wine_type_loss: 0.0031 - wine_quality_root_mean_squared_error: 0.4606 - wine_type_root_mean_squared_error: 0.0559 - val_loss: 0.3605 - val_wine_quality_loss: 0.3568 - val_wine_type_loss: 0.0035 - val_wine_quality_root_mean_squared_error: 0.5975 - val_wine_type_root_mean_squared_error: 0.0597\n",
      "Epoch 329/400\n",
      "3155/3155 [==============================] - 0s 97us/sample - loss: 0.2142 - wine_quality_loss: 0.2114 - wine_type_loss: 0.0031 - wine_quality_root_mean_squared_error: 0.4594 - wine_type_root_mean_squared_error: 0.0559 - val_loss: 0.3561 - val_wine_quality_loss: 0.3523 - val_wine_type_loss: 0.0035 - val_wine_quality_root_mean_squared_error: 0.5938 - val_wine_type_root_mean_squared_error: 0.0597\n",
      "Epoch 330/400\n",
      "3155/3155 [==============================] - 0s 93us/sample - loss: 0.2148 - wine_quality_loss: 0.2114 - wine_type_loss: 0.0031 - wine_quality_root_mean_squared_error: 0.4600 - wine_type_root_mean_squared_error: 0.0559 - val_loss: 0.3609 - val_wine_quality_loss: 0.3570 - val_wine_type_loss: 0.0035 - val_wine_quality_root_mean_squared_error: 0.5978 - val_wine_type_root_mean_squared_error: 0.0597\n",
      "Epoch 331/400\n",
      "3155/3155 [==============================] - 0s 95us/sample - loss: 0.2131 - wine_quality_loss: 0.2095 - wine_type_loss: 0.0031 - wine_quality_root_mean_squared_error: 0.4583 - wine_type_root_mean_squared_error: 0.0558 - val_loss: 0.3580 - val_wine_quality_loss: 0.3542 - val_wine_type_loss: 0.0035 - val_wine_quality_root_mean_squared_error: 0.5954 - val_wine_type_root_mean_squared_error: 0.0597\n",
      "Epoch 332/400\n",
      "3155/3155 [==============================] - 0s 95us/sample - loss: 0.2146 - wine_quality_loss: 0.2115 - wine_type_loss: 0.0031 - wine_quality_root_mean_squared_error: 0.4599 - wine_type_root_mean_squared_error: 0.0558 - val_loss: 0.3591 - val_wine_quality_loss: 0.3553 - val_wine_type_loss: 0.0035 - val_wine_quality_root_mean_squared_error: 0.5963 - val_wine_type_root_mean_squared_error: 0.0597\n",
      "Epoch 333/400\n",
      "3155/3155 [==============================] - 0s 96us/sample - loss: 0.2141 - wine_quality_loss: 0.2107 - wine_type_loss: 0.0031 - wine_quality_root_mean_squared_error: 0.4593 - wine_type_root_mean_squared_error: 0.0557 - val_loss: 0.3620 - val_wine_quality_loss: 0.3582 - val_wine_type_loss: 0.0035 - val_wine_quality_root_mean_squared_error: 0.5987 - val_wine_type_root_mean_squared_error: 0.0596\n",
      "Epoch 334/400\n",
      "3155/3155 [==============================] - 0s 95us/sample - loss: 0.2132 - wine_quality_loss: 0.2105 - wine_type_loss: 0.0031 - wine_quality_root_mean_squared_error: 0.4584 - wine_type_root_mean_squared_error: 0.0558 - val_loss: 0.3587 - val_wine_quality_loss: 0.3548 - val_wine_type_loss: 0.0035 - val_wine_quality_root_mean_squared_error: 0.5959 - val_wine_type_root_mean_squared_error: 0.0596\n",
      "Epoch 335/400\n",
      "3155/3155 [==============================] - 0s 96us/sample - loss: 0.2130 - wine_quality_loss: 0.2105 - wine_type_loss: 0.0031 - wine_quality_root_mean_squared_error: 0.4581 - wine_type_root_mean_squared_error: 0.0557 - val_loss: 0.3606 - val_wine_quality_loss: 0.3567 - val_wine_type_loss: 0.0035 - val_wine_quality_root_mean_squared_error: 0.5975 - val_wine_type_root_mean_squared_error: 0.0596\n",
      "Epoch 336/400\n",
      "3155/3155 [==============================] - 0s 112us/sample - loss: 0.2138 - wine_quality_loss: 0.2111 - wine_type_loss: 0.0031 - wine_quality_root_mean_squared_error: 0.4590 - wine_type_root_mean_squared_error: 0.0557 - val_loss: 0.3584 - val_wine_quality_loss: 0.3545 - val_wine_type_loss: 0.0035 - val_wine_quality_root_mean_squared_error: 0.5957 - val_wine_type_root_mean_squared_error: 0.0596\n",
      "Epoch 337/400\n",
      "3155/3155 [==============================] - 0s 98us/sample - loss: 0.2131 - wine_quality_loss: 0.2098 - wine_type_loss: 0.0031 - wine_quality_root_mean_squared_error: 0.4582 - wine_type_root_mean_squared_error: 0.0557 - val_loss: 0.3657 - val_wine_quality_loss: 0.3619 - val_wine_type_loss: 0.0035 - val_wine_quality_root_mean_squared_error: 0.6017 - val_wine_type_root_mean_squared_error: 0.0597\n",
      "Epoch 338/400\n",
      "3155/3155 [==============================] - 0s 97us/sample - loss: 0.2115 - wine_quality_loss: 0.2084 - wine_type_loss: 0.0031 - wine_quality_root_mean_squared_error: 0.4565 - wine_type_root_mean_squared_error: 0.0557 - val_loss: 0.3613 - val_wine_quality_loss: 0.3575 - val_wine_type_loss: 0.0035 - val_wine_quality_root_mean_squared_error: 0.5981 - val_wine_type_root_mean_squared_error: 0.0595\n",
      "Epoch 339/400\n",
      "3155/3155 [==============================] - 0s 95us/sample - loss: 0.2129 - wine_quality_loss: 0.2099 - wine_type_loss: 0.0031 - wine_quality_root_mean_squared_error: 0.4580 - wine_type_root_mean_squared_error: 0.0557 - val_loss: 0.3590 - val_wine_quality_loss: 0.3551 - val_wine_type_loss: 0.0035 - val_wine_quality_root_mean_squared_error: 0.5962 - val_wine_type_root_mean_squared_error: 0.0596\n",
      "Epoch 340/400\n",
      "3155/3155 [==============================] - 0s 93us/sample - loss: 0.2121 - wine_quality_loss: 0.2090 - wine_type_loss: 0.0031 - wine_quality_root_mean_squared_error: 0.4572 - wine_type_root_mean_squared_error: 0.0556 - val_loss: 0.3584 - val_wine_quality_loss: 0.3547 - val_wine_type_loss: 0.0035 - val_wine_quality_root_mean_squared_error: 0.5957 - val_wine_type_root_mean_squared_error: 0.0595\n",
      "Epoch 341/400\n",
      "3155/3155 [==============================] - 0s 94us/sample - loss: 0.2119 - wine_quality_loss: 0.2092 - wine_type_loss: 0.0031 - wine_quality_root_mean_squared_error: 0.4570 - wine_type_root_mean_squared_error: 0.0556 - val_loss: 0.3639 - val_wine_quality_loss: 0.3600 - val_wine_type_loss: 0.0035 - val_wine_quality_root_mean_squared_error: 0.6003 - val_wine_type_root_mean_squared_error: 0.0594\n",
      "Epoch 342/400\n",
      "3155/3155 [==============================] - 0s 96us/sample - loss: 0.2121 - wine_quality_loss: 0.2093 - wine_type_loss: 0.0031 - wine_quality_root_mean_squared_error: 0.4572 - wine_type_root_mean_squared_error: 0.0556 - val_loss: 0.3619 - val_wine_quality_loss: 0.3581 - val_wine_type_loss: 0.0035 - val_wine_quality_root_mean_squared_error: 0.5986 - val_wine_type_root_mean_squared_error: 0.0594\n",
      "Epoch 343/400\n",
      "3155/3155 [==============================] - 0s 94us/sample - loss: 0.2116 - wine_quality_loss: 0.2085 - wine_type_loss: 0.0031 - wine_quality_root_mean_squared_error: 0.4567 - wine_type_root_mean_squared_error: 0.0554 - val_loss: 0.3735 - val_wine_quality_loss: 0.3696 - val_wine_type_loss: 0.0035 - val_wine_quality_root_mean_squared_error: 0.6082 - val_wine_type_root_mean_squared_error: 0.0596\n",
      "Epoch 344/400\n",
      "3155/3155 [==============================] - 0s 95us/sample - loss: 0.2119 - wine_quality_loss: 0.2089 - wine_type_loss: 0.0031 - wine_quality_root_mean_squared_error: 0.4570 - wine_type_root_mean_squared_error: 0.0555 - val_loss: 0.3574 - val_wine_quality_loss: 0.3535 - val_wine_type_loss: 0.0035 - val_wine_quality_root_mean_squared_error: 0.5948 - val_wine_type_root_mean_squared_error: 0.0595\n",
      "Epoch 345/400\n",
      "3155/3155 [==============================] - 0s 94us/sample - loss: 0.2114 - wine_quality_loss: 0.2084 - wine_type_loss: 0.0031 - wine_quality_root_mean_squared_error: 0.4564 - wine_type_root_mean_squared_error: 0.0554 - val_loss: 0.3579 - val_wine_quality_loss: 0.3541 - val_wine_type_loss: 0.0035 - val_wine_quality_root_mean_squared_error: 0.5953 - val_wine_type_root_mean_squared_error: 0.0595\n",
      "Epoch 346/400\n",
      "3155/3155 [==============================] - 0s 94us/sample - loss: 0.2109 - wine_quality_loss: 0.2079 - wine_type_loss: 0.0031 - wine_quality_root_mean_squared_error: 0.4558 - wine_type_root_mean_squared_error: 0.0554 - val_loss: 0.3796 - val_wine_quality_loss: 0.3758 - val_wine_type_loss: 0.0035 - val_wine_quality_root_mean_squared_error: 0.6132 - val_wine_type_root_mean_squared_error: 0.0595\n",
      "Epoch 347/400\n",
      "3155/3155 [==============================] - 0s 97us/sample - loss: 0.2111 - wine_quality_loss: 0.2075 - wine_type_loss: 0.0033 - wine_quality_root_mean_squared_error: 0.4561 - wine_type_root_mean_squared_error: 0.0555 - val_loss: 0.3594 - val_wine_quality_loss: 0.3555 - val_wine_type_loss: 0.0035 - val_wine_quality_root_mean_squared_error: 0.5965 - val_wine_type_root_mean_squared_error: 0.0596\n",
      "Epoch 348/400\n",
      "3155/3155 [==============================] - 0s 94us/sample - loss: 0.2103 - wine_quality_loss: 0.2069 - wine_type_loss: 0.0031 - wine_quality_root_mean_squared_error: 0.4552 - wine_type_root_mean_squared_error: 0.0553 - val_loss: 0.3604 - val_wine_quality_loss: 0.3566 - val_wine_type_loss: 0.0035 - val_wine_quality_root_mean_squared_error: 0.5974 - val_wine_type_root_mean_squared_error: 0.0595\n",
      "Epoch 349/400\n",
      "3155/3155 [==============================] - 0s 94us/sample - loss: 0.2108 - wine_quality_loss: 0.2082 - wine_type_loss: 0.0031 - wine_quality_root_mean_squared_error: 0.4558 - wine_type_root_mean_squared_error: 0.0554 - val_loss: 0.3595 - val_wine_quality_loss: 0.3556 - val_wine_type_loss: 0.0035 - val_wine_quality_root_mean_squared_error: 0.5966 - val_wine_type_root_mean_squared_error: 0.0595\n",
      "Epoch 350/400\n",
      "3155/3155 [==============================] - 0s 94us/sample - loss: 0.2101 - wine_quality_loss: 0.2068 - wine_type_loss: 0.0031 - wine_quality_root_mean_squared_error: 0.4550 - wine_type_root_mean_squared_error: 0.0553 - val_loss: 0.3614 - val_wine_quality_loss: 0.3575 - val_wine_type_loss: 0.0035 - val_wine_quality_root_mean_squared_error: 0.5982 - val_wine_type_root_mean_squared_error: 0.0596\n",
      "Epoch 351/400\n",
      "3155/3155 [==============================] - 0s 94us/sample - loss: 0.2103 - wine_quality_loss: 0.2072 - wine_type_loss: 0.0031 - wine_quality_root_mean_squared_error: 0.4552 - wine_type_root_mean_squared_error: 0.0554 - val_loss: 0.3582 - val_wine_quality_loss: 0.3543 - val_wine_type_loss: 0.0035 - val_wine_quality_root_mean_squared_error: 0.5955 - val_wine_type_root_mean_squared_error: 0.0597\n",
      "Epoch 352/400\n",
      "3155/3155 [==============================] - 0s 94us/sample - loss: 0.2104 - wine_quality_loss: 0.2076 - wine_type_loss: 0.0030 - wine_quality_root_mean_squared_error: 0.4554 - wine_type_root_mean_squared_error: 0.0553 - val_loss: 0.3628 - val_wine_quality_loss: 0.3590 - val_wine_type_loss: 0.0035 - val_wine_quality_root_mean_squared_error: 0.5994 - val_wine_type_root_mean_squared_error: 0.0596\n",
      "Epoch 353/400\n",
      "3155/3155 [==============================] - 0s 93us/sample - loss: 0.2095 - wine_quality_loss: 0.2062 - wine_type_loss: 0.0030 - wine_quality_root_mean_squared_error: 0.4544 - wine_type_root_mean_squared_error: 0.0553 - val_loss: 0.3737 - val_wine_quality_loss: 0.3699 - val_wine_type_loss: 0.0035 - val_wine_quality_root_mean_squared_error: 0.6084 - val_wine_type_root_mean_squared_error: 0.0596\n",
      "Epoch 354/400\n",
      "3155/3155 [==============================] - 0s 96us/sample - loss: 0.2097 - wine_quality_loss: 0.2064 - wine_type_loss: 0.0030 - wine_quality_root_mean_squared_error: 0.4546 - wine_type_root_mean_squared_error: 0.0553 - val_loss: 0.3594 - val_wine_quality_loss: 0.3555 - val_wine_type_loss: 0.0035 - val_wine_quality_root_mean_squared_error: 0.5965 - val_wine_type_root_mean_squared_error: 0.0596\n",
      "Epoch 355/400\n",
      "3155/3155 [==============================] - 0s 79us/sample - loss: 0.2091 - wine_quality_loss: 0.2057 - wine_type_loss: 0.0030 - wine_quality_root_mean_squared_error: 0.4539 - wine_type_root_mean_squared_error: 0.0552 - val_loss: 0.3591 - val_wine_quality_loss: 0.3552 - val_wine_type_loss: 0.0035 - val_wine_quality_root_mean_squared_error: 0.5963 - val_wine_type_root_mean_squared_error: 0.0597\n",
      "Epoch 356/400\n",
      "3155/3155 [==============================] - 0s 96us/sample - loss: 0.2090 - wine_quality_loss: 0.2055 - wine_type_loss: 0.0031 - wine_quality_root_mean_squared_error: 0.4538 - wine_type_root_mean_squared_error: 0.0552 - val_loss: 0.3669 - val_wine_quality_loss: 0.3631 - val_wine_type_loss: 0.0035 - val_wine_quality_root_mean_squared_error: 0.6028 - val_wine_type_root_mean_squared_error: 0.0595\n",
      "Epoch 357/400\n",
      "3155/3155 [==============================] - 0s 98us/sample - loss: 0.2090 - wine_quality_loss: 0.2060 - wine_type_loss: 0.0030 - wine_quality_root_mean_squared_error: 0.4539 - wine_type_root_mean_squared_error: 0.0551 - val_loss: 0.3659 - val_wine_quality_loss: 0.3620 - val_wine_type_loss: 0.0035 - val_wine_quality_root_mean_squared_error: 0.6019 - val_wine_type_root_mean_squared_error: 0.0596\n",
      "Epoch 358/400\n",
      "3155/3155 [==============================] - 0s 92us/sample - loss: 0.2082 - wine_quality_loss: 0.2052 - wine_type_loss: 0.0030 - wine_quality_root_mean_squared_error: 0.4530 - wine_type_root_mean_squared_error: 0.0551 - val_loss: 0.3620 - val_wine_quality_loss: 0.3581 - val_wine_type_loss: 0.0035 - val_wine_quality_root_mean_squared_error: 0.5987 - val_wine_type_root_mean_squared_error: 0.0596\n",
      "Epoch 359/400\n",
      "3155/3155 [==============================] - 0s 93us/sample - loss: 0.2091 - wine_quality_loss: 0.2062 - wine_type_loss: 0.0030 - wine_quality_root_mean_squared_error: 0.4540 - wine_type_root_mean_squared_error: 0.0551 - val_loss: 0.3677 - val_wine_quality_loss: 0.3639 - val_wine_type_loss: 0.0035 - val_wine_quality_root_mean_squared_error: 0.6034 - val_wine_type_root_mean_squared_error: 0.0594\n",
      "Epoch 360/400\n",
      "3155/3155 [==============================] - 0s 79us/sample - loss: 0.2081 - wine_quality_loss: 0.2048 - wine_type_loss: 0.0030 - wine_quality_root_mean_squared_error: 0.4528 - wine_type_root_mean_squared_error: 0.0550 - val_loss: 0.3687 - val_wine_quality_loss: 0.3649 - val_wine_type_loss: 0.0035 - val_wine_quality_root_mean_squared_error: 0.6042 - val_wine_type_root_mean_squared_error: 0.0595\n",
      "Epoch 361/400\n",
      "3155/3155 [==============================] - 0s 96us/sample - loss: 0.2080 - wine_quality_loss: 0.2053 - wine_type_loss: 0.0030 - wine_quality_root_mean_squared_error: 0.4528 - wine_type_root_mean_squared_error: 0.0551 - val_loss: 0.3639 - val_wine_quality_loss: 0.3600 - val_wine_type_loss: 0.0035 - val_wine_quality_root_mean_squared_error: 0.6003 - val_wine_type_root_mean_squared_error: 0.0595\n",
      "Epoch 362/400\n",
      "3155/3155 [==============================] - 0s 94us/sample - loss: 0.2086 - wine_quality_loss: 0.2054 - wine_type_loss: 0.0030 - wine_quality_root_mean_squared_error: 0.4534 - wine_type_root_mean_squared_error: 0.0550 - val_loss: 0.3606 - val_wine_quality_loss: 0.3568 - val_wine_type_loss: 0.0035 - val_wine_quality_root_mean_squared_error: 0.5975 - val_wine_type_root_mean_squared_error: 0.0594\n",
      "Epoch 363/400\n",
      "3155/3155 [==============================] - 0s 96us/sample - loss: 0.2080 - wine_quality_loss: 0.2048 - wine_type_loss: 0.0030 - wine_quality_root_mean_squared_error: 0.4527 - wine_type_root_mean_squared_error: 0.0550 - val_loss: 0.3579 - val_wine_quality_loss: 0.3540 - val_wine_type_loss: 0.0035 - val_wine_quality_root_mean_squared_error: 0.5953 - val_wine_type_root_mean_squared_error: 0.0594\n",
      "Epoch 364/400\n",
      "3155/3155 [==============================] - 0s 82us/sample - loss: 0.2073 - wine_quality_loss: 0.2041 - wine_type_loss: 0.0030 - wine_quality_root_mean_squared_error: 0.4519 - wine_type_root_mean_squared_error: 0.0550 - val_loss: 0.3595 - val_wine_quality_loss: 0.3556 - val_wine_type_loss: 0.0035 - val_wine_quality_root_mean_squared_error: 0.5966 - val_wine_type_root_mean_squared_error: 0.0595\n",
      "Epoch 365/400\n",
      "3155/3155 [==============================] - 0s 111us/sample - loss: 0.2076 - wine_quality_loss: 0.2046 - wine_type_loss: 0.0030 - wine_quality_root_mean_squared_error: 0.4523 - wine_type_root_mean_squared_error: 0.0550 - val_loss: 0.3668 - val_wine_quality_loss: 0.3630 - val_wine_type_loss: 0.0035 - val_wine_quality_root_mean_squared_error: 0.6028 - val_wine_type_root_mean_squared_error: 0.0595\n",
      "Epoch 366/400\n",
      "3155/3155 [==============================] - 0s 96us/sample - loss: 0.2065 - wine_quality_loss: 0.2034 - wine_type_loss: 0.0030 - wine_quality_root_mean_squared_error: 0.4511 - wine_type_root_mean_squared_error: 0.0549 - val_loss: 0.3653 - val_wine_quality_loss: 0.3616 - val_wine_type_loss: 0.0035 - val_wine_quality_root_mean_squared_error: 0.6015 - val_wine_type_root_mean_squared_error: 0.0594\n",
      "Epoch 367/400\n",
      "3155/3155 [==============================] - 0s 92us/sample - loss: 0.2067 - wine_quality_loss: 0.2034 - wine_type_loss: 0.0030 - wine_quality_root_mean_squared_error: 0.4513 - wine_type_root_mean_squared_error: 0.0549 - val_loss: 0.3673 - val_wine_quality_loss: 0.3635 - val_wine_type_loss: 0.0035 - val_wine_quality_root_mean_squared_error: 0.6031 - val_wine_type_root_mean_squared_error: 0.0593\n",
      "Epoch 368/400\n",
      "3155/3155 [==============================] - 0s 79us/sample - loss: 0.2068 - wine_quality_loss: 0.2036 - wine_type_loss: 0.0030 - wine_quality_root_mean_squared_error: 0.4514 - wine_type_root_mean_squared_error: 0.0549 - val_loss: 0.3705 - val_wine_quality_loss: 0.3666 - val_wine_type_loss: 0.0035 - val_wine_quality_root_mean_squared_error: 0.6058 - val_wine_type_root_mean_squared_error: 0.0595\n",
      "Epoch 369/400\n",
      "3155/3155 [==============================] - 0s 96us/sample - loss: 0.2070 - wine_quality_loss: 0.2044 - wine_type_loss: 0.0030 - wine_quality_root_mean_squared_error: 0.4516 - wine_type_root_mean_squared_error: 0.0549 - val_loss: 0.3654 - val_wine_quality_loss: 0.3616 - val_wine_type_loss: 0.0035 - val_wine_quality_root_mean_squared_error: 0.6016 - val_wine_type_root_mean_squared_error: 0.0595\n",
      "Epoch 370/400\n",
      "3155/3155 [==============================] - 0s 109us/sample - loss: 0.2072 - wine_quality_loss: 0.2039 - wine_type_loss: 0.0030 - wine_quality_root_mean_squared_error: 0.4519 - wine_type_root_mean_squared_error: 0.0548 - val_loss: 0.3721 - val_wine_quality_loss: 0.3683 - val_wine_type_loss: 0.0035 - val_wine_quality_root_mean_squared_error: 0.6071 - val_wine_type_root_mean_squared_error: 0.0594\n",
      "Epoch 371/400\n",
      "3155/3155 [==============================] - 0s 80us/sample - loss: 0.2064 - wine_quality_loss: 0.2031 - wine_type_loss: 0.0030 - wine_quality_root_mean_squared_error: 0.4510 - wine_type_root_mean_squared_error: 0.0548 - val_loss: 0.3688 - val_wine_quality_loss: 0.3650 - val_wine_type_loss: 0.0035 - val_wine_quality_root_mean_squared_error: 0.6044 - val_wine_type_root_mean_squared_error: 0.0594\n",
      "Epoch 372/400\n",
      "3155/3155 [==============================] - 0s 97us/sample - loss: 0.2061 - wine_quality_loss: 0.2029 - wine_type_loss: 0.0030 - wine_quality_root_mean_squared_error: 0.4507 - wine_type_root_mean_squared_error: 0.0548 - val_loss: 0.3681 - val_wine_quality_loss: 0.3643 - val_wine_type_loss: 0.0035 - val_wine_quality_root_mean_squared_error: 0.6038 - val_wine_type_root_mean_squared_error: 0.0594\n",
      "Epoch 373/400\n",
      "3155/3155 [==============================] - 0s 94us/sample - loss: 0.2063 - wine_quality_loss: 0.2034 - wine_type_loss: 0.0030 - wine_quality_root_mean_squared_error: 0.4509 - wine_type_root_mean_squared_error: 0.0548 - val_loss: 0.3652 - val_wine_quality_loss: 0.3615 - val_wine_type_loss: 0.0035 - val_wine_quality_root_mean_squared_error: 0.6014 - val_wine_type_root_mean_squared_error: 0.0592\n",
      "Epoch 374/400\n",
      "3155/3155 [==============================] - 0s 95us/sample - loss: 0.2060 - wine_quality_loss: 0.2031 - wine_type_loss: 0.0030 - wine_quality_root_mean_squared_error: 0.4506 - wine_type_root_mean_squared_error: 0.0548 - val_loss: 0.3691 - val_wine_quality_loss: 0.3652 - val_wine_type_loss: 0.0035 - val_wine_quality_root_mean_squared_error: 0.6046 - val_wine_type_root_mean_squared_error: 0.0594\n",
      "Epoch 375/400\n",
      "3155/3155 [==============================] - 0s 95us/sample - loss: 0.2053 - wine_quality_loss: 0.2021 - wine_type_loss: 0.0030 - wine_quality_root_mean_squared_error: 0.4498 - wine_type_root_mean_squared_error: 0.0547 - val_loss: 0.3689 - val_wine_quality_loss: 0.3652 - val_wine_type_loss: 0.0035 - val_wine_quality_root_mean_squared_error: 0.6045 - val_wine_type_root_mean_squared_error: 0.0593\n",
      "Epoch 376/400\n",
      "3155/3155 [==============================] - 0s 95us/sample - loss: 0.2051 - wine_quality_loss: 0.2025 - wine_type_loss: 0.0030 - wine_quality_root_mean_squared_error: 0.4496 - wine_type_root_mean_squared_error: 0.0547 - val_loss: 0.3665 - val_wine_quality_loss: 0.3627 - val_wine_type_loss: 0.0035 - val_wine_quality_root_mean_squared_error: 0.6025 - val_wine_type_root_mean_squared_error: 0.0593\n",
      "Epoch 377/400\n",
      "3155/3155 [==============================] - 0s 94us/sample - loss: 0.2049 - wine_quality_loss: 0.2020 - wine_type_loss: 0.0030 - wine_quality_root_mean_squared_error: 0.4493 - wine_type_root_mean_squared_error: 0.0547 - val_loss: 0.3665 - val_wine_quality_loss: 0.3628 - val_wine_type_loss: 0.0035 - val_wine_quality_root_mean_squared_error: 0.6025 - val_wine_type_root_mean_squared_error: 0.0593\n",
      "Epoch 378/400\n",
      "3155/3155 [==============================] - 0s 95us/sample - loss: 0.2059 - wine_quality_loss: 0.2029 - wine_type_loss: 0.0030 - wine_quality_root_mean_squared_error: 0.4504 - wine_type_root_mean_squared_error: 0.0546 - val_loss: 0.3659 - val_wine_quality_loss: 0.3622 - val_wine_type_loss: 0.0035 - val_wine_quality_root_mean_squared_error: 0.6020 - val_wine_type_root_mean_squared_error: 0.0592\n",
      "Epoch 379/400\n",
      "3155/3155 [==============================] - 0s 93us/sample - loss: 0.2045 - wine_quality_loss: 0.2015 - wine_type_loss: 0.0030 - wine_quality_root_mean_squared_error: 0.4490 - wine_type_root_mean_squared_error: 0.0546 - val_loss: 0.3631 - val_wine_quality_loss: 0.3592 - val_wine_type_loss: 0.0035 - val_wine_quality_root_mean_squared_error: 0.5996 - val_wine_type_root_mean_squared_error: 0.0594\n",
      "Epoch 380/400\n",
      "3155/3155 [==============================] - 0s 95us/sample - loss: 0.2048 - wine_quality_loss: 0.2015 - wine_type_loss: 0.0030 - wine_quality_root_mean_squared_error: 0.4492 - wine_type_root_mean_squared_error: 0.0545 - val_loss: 0.3644 - val_wine_quality_loss: 0.3607 - val_wine_type_loss: 0.0035 - val_wine_quality_root_mean_squared_error: 0.6008 - val_wine_type_root_mean_squared_error: 0.0591\n",
      "Epoch 381/400\n",
      "3155/3155 [==============================] - 0s 95us/sample - loss: 0.2038 - wine_quality_loss: 0.2006 - wine_type_loss: 0.0030 - wine_quality_root_mean_squared_error: 0.4481 - wine_type_root_mean_squared_error: 0.0546 - val_loss: 0.3703 - val_wine_quality_loss: 0.3664 - val_wine_type_loss: 0.0035 - val_wine_quality_root_mean_squared_error: 0.6056 - val_wine_type_root_mean_squared_error: 0.0594\n",
      "Epoch 382/400\n",
      "3155/3155 [==============================] - 0s 97us/sample - loss: 0.2049 - wine_quality_loss: 0.2021 - wine_type_loss: 0.0030 - wine_quality_root_mean_squared_error: 0.4494 - wine_type_root_mean_squared_error: 0.0545 - val_loss: 0.3688 - val_wine_quality_loss: 0.3651 - val_wine_type_loss: 0.0035 - val_wine_quality_root_mean_squared_error: 0.6044 - val_wine_type_root_mean_squared_error: 0.0592\n",
      "Epoch 383/400\n",
      "3155/3155 [==============================] - 0s 92us/sample - loss: 0.2035 - wine_quality_loss: 0.2005 - wine_type_loss: 0.0030 - wine_quality_root_mean_squared_error: 0.4478 - wine_type_root_mean_squared_error: 0.0546 - val_loss: 0.3601 - val_wine_quality_loss: 0.3562 - val_wine_type_loss: 0.0035 - val_wine_quality_root_mean_squared_error: 0.5972 - val_wine_type_root_mean_squared_error: 0.0592\n",
      "Epoch 384/400\n",
      "3155/3155 [==============================] - 0s 95us/sample - loss: 0.2037 - wine_quality_loss: 0.2003 - wine_type_loss: 0.0030 - wine_quality_root_mean_squared_error: 0.4480 - wine_type_root_mean_squared_error: 0.0546 - val_loss: 0.3636 - val_wine_quality_loss: 0.3598 - val_wine_type_loss: 0.0035 - val_wine_quality_root_mean_squared_error: 0.6001 - val_wine_type_root_mean_squared_error: 0.0591\n",
      "Epoch 385/400\n",
      "3155/3155 [==============================] - 0s 95us/sample - loss: 0.2041 - wine_quality_loss: 0.2009 - wine_type_loss: 0.0030 - wine_quality_root_mean_squared_error: 0.4485 - wine_type_root_mean_squared_error: 0.0546 - val_loss: 0.3708 - val_wine_quality_loss: 0.3670 - val_wine_type_loss: 0.0035 - val_wine_quality_root_mean_squared_error: 0.6061 - val_wine_type_root_mean_squared_error: 0.0592\n",
      "Epoch 386/400\n",
      "3155/3155 [==============================] - 0s 96us/sample - loss: 0.2042 - wine_quality_loss: 0.2013 - wine_type_loss: 0.0030 - wine_quality_root_mean_squared_error: 0.4486 - wine_type_root_mean_squared_error: 0.0544 - val_loss: 0.3643 - val_wine_quality_loss: 0.3606 - val_wine_type_loss: 0.0035 - val_wine_quality_root_mean_squared_error: 0.6007 - val_wine_type_root_mean_squared_error: 0.0591\n",
      "Epoch 387/400\n",
      "3155/3155 [==============================] - 0s 99us/sample - loss: 0.2038 - wine_quality_loss: 0.2004 - wine_type_loss: 0.0030 - wine_quality_root_mean_squared_error: 0.4481 - wine_type_root_mean_squared_error: 0.0545 - val_loss: 0.3638 - val_wine_quality_loss: 0.3600 - val_wine_type_loss: 0.0035 - val_wine_quality_root_mean_squared_error: 0.6003 - val_wine_type_root_mean_squared_error: 0.0593\n",
      "Epoch 388/400\n",
      "3155/3155 [==============================] - 0s 95us/sample - loss: 0.2026 - wine_quality_loss: 0.1993 - wine_type_loss: 0.0030 - wine_quality_root_mean_squared_error: 0.4468 - wine_type_root_mean_squared_error: 0.0544 - val_loss: 0.3635 - val_wine_quality_loss: 0.3596 - val_wine_type_loss: 0.0035 - val_wine_quality_root_mean_squared_error: 0.6000 - val_wine_type_root_mean_squared_error: 0.0593\n",
      "Epoch 389/400\n",
      "3155/3155 [==============================] - 0s 95us/sample - loss: 0.2019 - wine_quality_loss: 0.1986 - wine_type_loss: 0.0029 - wine_quality_root_mean_squared_error: 0.4460 - wine_type_root_mean_squared_error: 0.0544 - val_loss: 0.3655 - val_wine_quality_loss: 0.3617 - val_wine_type_loss: 0.0035 - val_wine_quality_root_mean_squared_error: 0.6017 - val_wine_type_root_mean_squared_error: 0.0592\n",
      "Epoch 390/400\n",
      "3155/3155 [==============================] - 0s 95us/sample - loss: 0.2023 - wine_quality_loss: 0.1993 - wine_type_loss: 0.0030 - wine_quality_root_mean_squared_error: 0.4465 - wine_type_root_mean_squared_error: 0.0544 - val_loss: 0.3670 - val_wine_quality_loss: 0.3632 - val_wine_type_loss: 0.0035 - val_wine_quality_root_mean_squared_error: 0.6029 - val_wine_type_root_mean_squared_error: 0.0593\n",
      "Epoch 391/400\n",
      "3155/3155 [==============================] - 0s 95us/sample - loss: 0.2021 - wine_quality_loss: 0.1991 - wine_type_loss: 0.0029 - wine_quality_root_mean_squared_error: 0.4462 - wine_type_root_mean_squared_error: 0.0543 - val_loss: 0.3724 - val_wine_quality_loss: 0.3687 - val_wine_type_loss: 0.0035 - val_wine_quality_root_mean_squared_error: 0.6074 - val_wine_type_root_mean_squared_error: 0.0592\n",
      "Epoch 392/400\n",
      "3155/3155 [==============================] - 0s 97us/sample - loss: 0.2018 - wine_quality_loss: 0.1988 - wine_type_loss: 0.0029 - wine_quality_root_mean_squared_error: 0.4459 - wine_type_root_mean_squared_error: 0.0543 - val_loss: 0.3866 - val_wine_quality_loss: 0.3828 - val_wine_type_loss: 0.0035 - val_wine_quality_root_mean_squared_error: 0.6189 - val_wine_type_root_mean_squared_error: 0.0591\n",
      "Epoch 393/400\n",
      "3155/3155 [==============================] - 0s 96us/sample - loss: 0.2021 - wine_quality_loss: 0.1993 - wine_type_loss: 0.0030 - wine_quality_root_mean_squared_error: 0.4463 - wine_type_root_mean_squared_error: 0.0544 - val_loss: 0.3665 - val_wine_quality_loss: 0.3626 - val_wine_type_loss: 0.0035 - val_wine_quality_root_mean_squared_error: 0.6025 - val_wine_type_root_mean_squared_error: 0.0593\n",
      "Epoch 394/400\n",
      "3155/3155 [==============================] - 0s 97us/sample - loss: 0.2015 - wine_quality_loss: 0.1997 - wine_type_loss: 0.0029 - wine_quality_root_mean_squared_error: 0.4456 - wine_type_root_mean_squared_error: 0.0543 - val_loss: 0.3743 - val_wine_quality_loss: 0.3704 - val_wine_type_loss: 0.0035 - val_wine_quality_root_mean_squared_error: 0.6089 - val_wine_type_root_mean_squared_error: 0.0591\n",
      "Epoch 395/400\n",
      "3155/3155 [==============================] - 0s 96us/sample - loss: 0.2018 - wine_quality_loss: 0.1987 - wine_type_loss: 0.0029 - wine_quality_root_mean_squared_error: 0.4460 - wine_type_root_mean_squared_error: 0.0543 - val_loss: 0.3656 - val_wine_quality_loss: 0.3619 - val_wine_type_loss: 0.0035 - val_wine_quality_root_mean_squared_error: 0.6018 - val_wine_type_root_mean_squared_error: 0.0592\n",
      "Epoch 396/400\n",
      "3155/3155 [==============================] - 0s 94us/sample - loss: 0.2010 - wine_quality_loss: 0.1979 - wine_type_loss: 0.0029 - wine_quality_root_mean_squared_error: 0.4450 - wine_type_root_mean_squared_error: 0.0543 - val_loss: 0.3675 - val_wine_quality_loss: 0.3638 - val_wine_type_loss: 0.0035 - val_wine_quality_root_mean_squared_error: 0.6034 - val_wine_type_root_mean_squared_error: 0.0591\n",
      "Epoch 397/400\n",
      "3155/3155 [==============================] - 0s 95us/sample - loss: 0.2005 - wine_quality_loss: 0.1976 - wine_type_loss: 0.0029 - wine_quality_root_mean_squared_error: 0.4445 - wine_type_root_mean_squared_error: 0.0543 - val_loss: 0.3710 - val_wine_quality_loss: 0.3673 - val_wine_type_loss: 0.0035 - val_wine_quality_root_mean_squared_error: 0.6062 - val_wine_type_root_mean_squared_error: 0.0592\n",
      "Epoch 398/400\n",
      "3155/3155 [==============================] - 0s 96us/sample - loss: 0.2010 - wine_quality_loss: 0.1982 - wine_type_loss: 0.0029 - wine_quality_root_mean_squared_error: 0.4451 - wine_type_root_mean_squared_error: 0.0542 - val_loss: 0.3633 - val_wine_quality_loss: 0.3594 - val_wine_type_loss: 0.0035 - val_wine_quality_root_mean_squared_error: 0.5998 - val_wine_type_root_mean_squared_error: 0.0592\n",
      "Epoch 399/400\n",
      "3155/3155 [==============================] - 0s 95us/sample - loss: 0.2015 - wine_quality_loss: 0.1985 - wine_type_loss: 0.0029 - wine_quality_root_mean_squared_error: 0.4456 - wine_type_root_mean_squared_error: 0.0542 - val_loss: 0.3729 - val_wine_quality_loss: 0.3691 - val_wine_type_loss: 0.0035 - val_wine_quality_root_mean_squared_error: 0.6078 - val_wine_type_root_mean_squared_error: 0.0593\n",
      "Epoch 400/400\n",
      "3155/3155 [==============================] - 0s 94us/sample - loss: 0.2007 - wine_quality_loss: 0.1977 - wine_type_loss: 0.0029 - wine_quality_root_mean_squared_error: 0.4447 - wine_type_root_mean_squared_error: 0.0542 - val_loss: 0.3675 - val_wine_quality_loss: 0.3637 - val_wine_type_loss: 0.0035 - val_wine_quality_root_mean_squared_error: 0.6033 - val_wine_type_root_mean_squared_error: 0.0592\n"
     ]
    }
   ],
   "source": [
    "# Please uncomment all lines in this cell and replace those marked with `# YOUR CODE HERE`.\n",
    "# You can select all lines in this code cell with Ctrl+A (Windows/Linux) or Cmd+A (Mac), then press Ctrl+/ (Windows/Linux) or Cmd+/ (Mac) to uncomment.\n",
    "\n",
    "\n",
    "\n",
    "history = model.fit(norm_train_X, train_Y,\n",
    "                    epochs = 400, validation_data=(norm_test_X, test_Y))"
   ]
  },
  {
   "cell_type": "code",
   "execution_count": 77,
   "metadata": {
    "deletable": false,
    "editable": false,
    "nbgrader": {
     "cell_type": "code",
     "checksum": "fadad8896eda9c8c2115970724b15508",
     "grade": true,
     "grade_id": "cell-eb4d5b41bef8f0ab",
     "locked": true,
     "points": 1,
     "schema_version": 3,
     "solution": false,
     "task": false
    }
   },
   "outputs": [
    {
     "name": "stdout",
     "output_type": "stream",
     "text": [
      "\u001b[92m All public tests passed\n"
     ]
    }
   ],
   "source": [
    "utils.test_history(history)"
   ]
  },
  {
   "cell_type": "code",
   "execution_count": 48,
   "metadata": {
    "colab": {},
    "colab_type": "code",
    "id": "CubF2J2gSf6q"
   },
   "outputs": [
    {
     "name": "stdout",
     "output_type": "stream",
     "text": [
      "789/789 [==============================] - 0s 21us/sample - loss: 0.3166 - wine_quality_loss: 0.3100 - wine_type_loss: 0.0055 - wine_quality_root_mean_squared_error: 0.5577 - wine_type_root_mean_squared_error: 0.0748\n",
      "\n",
      "loss: 0.31662983948740214\n",
      "wine_quality_loss: 0.31002581119537354\n",
      "wine_type_loss: 0.005521343555301428\n",
      "wine_quality_rmse: 0.5577049255371094\n",
      "wine_type_accuracy: 0.07480000704526901\n"
     ]
    }
   ],
   "source": [
    "# Gather the training metrics\n",
    "loss, wine_quality_loss, wine_type_loss, wine_quality_rmse, wine_type_accuracy = model.evaluate(x=norm_val_X, y=val_Y)\n",
    "\n",
    "print()\n",
    "print(f'loss: {loss}')\n",
    "print(f'wine_quality_loss: {wine_quality_loss}')\n",
    "print(f'wine_type_loss: {wine_type_loss}')\n",
    "print(f'wine_quality_rmse: {wine_quality_rmse}')\n",
    "print(f'wine_type_accuracy: {wine_type_accuracy}')\n",
    "\n",
    "# EXPECTED VALUES\n",
    "# ~ 0.30 - 0.38\n",
    "# ~ 0.30 - 0.38\n",
    "# ~ 0.018 - 0.036\n",
    "# ~ 0.50 - 0.62\n",
    "# ~ 0.97 - 1.0\n",
    "\n",
    "# Example:\n",
    "#0.3657050132751465\n",
    "#0.3463745415210724\n",
    "#0.019330406561493874\n",
    "#0.5885359048843384\n",
    "#0.9974651336669922"
   ]
  },
  {
   "cell_type": "markdown",
   "metadata": {
    "colab_type": "text",
    "id": "gPtTGAP4usnm"
   },
   "source": [
    "## Analyze the Model Performance\n",
    "\n",
    "Note that the model has two outputs. The output at index 0 is quality and index 1 is wine type\n",
    "\n",
    "So, round the quality predictions to the nearest integer."
   ]
  },
  {
   "cell_type": "code",
   "execution_count": 49,
   "metadata": {
    "colab": {},
    "colab_type": "code",
    "id": "tBq9PEeAaW-Y"
   },
   "outputs": [],
   "source": [
    "predictions = model.predict(norm_test_X)\n",
    "quality_pred = predictions[0]\n",
    "type_pred = predictions[1]"
   ]
  },
  {
   "cell_type": "code",
   "execution_count": 50,
   "metadata": {
    "colab": {},
    "colab_type": "code",
    "id": "YLhgTR4xTIxj"
   },
   "outputs": [
    {
     "name": "stdout",
     "output_type": "stream",
     "text": [
      "[5.6633005]\n"
     ]
    }
   ],
   "source": [
    "print(quality_pred[0])\n",
    "\n",
    "# EXPECTED OUTPUT\n",
    "# 5.4 - 6.0"
   ]
  },
  {
   "cell_type": "code",
   "execution_count": 51,
   "metadata": {
    "colab": {},
    "colab_type": "code",
    "id": "MPi-eYfGTUXi"
   },
   "outputs": [
    {
     "name": "stdout",
     "output_type": "stream",
     "text": [
      "[0.00540991]\n",
      "[0.99877816]\n"
     ]
    }
   ],
   "source": [
    "print(type_pred[0])\n",
    "print(type_pred[944])\n",
    "\n",
    "# EXPECTED OUTPUT\n",
    "# A number close to zero\n",
    "# A number close to or equal to 1"
   ]
  },
  {
   "cell_type": "markdown",
   "metadata": {
    "colab_type": "text",
    "id": "Kohk-9C6vt_s"
   },
   "source": [
    "### Plot Utilities\n",
    "\n",
    "We define a few utilities to visualize the model performance."
   ]
  },
  {
   "cell_type": "code",
   "execution_count": 52,
   "metadata": {
    "colab": {},
    "colab_type": "code",
    "id": "62gEOFUhn6aQ"
   },
   "outputs": [],
   "source": [
    "def plot_metrics(metric_name, title, ylim=5):\n",
    "    plt.title(title)\n",
    "    plt.ylim(0,ylim)\n",
    "    plt.plot(history.history[metric_name],color='blue',label=metric_name)\n",
    "    plt.plot(history.history['val_' + metric_name],color='green',label='val_' + metric_name)\n"
   ]
  },
  {
   "cell_type": "code",
   "execution_count": 53,
   "metadata": {
    "colab": {},
    "colab_type": "code",
    "id": "6rfgSx7uz5dj"
   },
   "outputs": [],
   "source": [
    "def plot_confusion_matrix(y_true, y_pred, title='', labels=[0,1]):\n",
    "    cm = confusion_matrix(y_true, y_pred)\n",
    "    fig = plt.figure()\n",
    "    ax = fig.add_subplot(111)\n",
    "    cax = ax.matshow(cm)\n",
    "    plt.title('Confusion matrix of the classifier')\n",
    "    fig.colorbar(cax)\n",
    "    ax.set_xticklabels([''] + labels)\n",
    "    ax.set_yticklabels([''] + labels)\n",
    "    plt.xlabel('Predicted')\n",
    "    plt.ylabel('True')\n",
    "    fmt = 'd'\n",
    "    thresh = cm.max() / 2.\n",
    "    for i, j in itertools.product(range(cm.shape[0]), range(cm.shape[1])):\n",
    "          plt.text(j, i, format(cm[i, j], fmt),\n",
    "                  horizontalalignment=\"center\",\n",
    "                  color=\"black\" if cm[i, j] > thresh else \"white\")\n",
    "    plt.show()"
   ]
  },
  {
   "cell_type": "code",
   "execution_count": 54,
   "metadata": {
    "colab": {},
    "colab_type": "code",
    "id": "dfVLIqi017Vf"
   },
   "outputs": [],
   "source": [
    "def plot_diff(y_true, y_pred, title = '' ):\n",
    "    plt.scatter(y_true, y_pred)\n",
    "    plt.title(title)\n",
    "    plt.xlabel('True Values')\n",
    "    plt.ylabel('Predictions')\n",
    "    plt.axis('equal')\n",
    "    plt.axis('square')\n",
    "    plt.plot([-100, 100], [-100, 100])\n",
    "    return plt"
   ]
  },
  {
   "cell_type": "markdown",
   "metadata": {
    "colab_type": "text",
    "id": "8sd1jdFbwE0I"
   },
   "source": [
    "### Plots for Metrics"
   ]
  },
  {
   "cell_type": "code",
   "execution_count": 55,
   "metadata": {
    "colab": {},
    "colab_type": "code",
    "id": "f3MwZ5J1pOfj"
   },
   "outputs": [
    {
     "data": {
      "image/png": "[encoded data removed]",
      "text/plain": [
       "<Figure size 432x288 with 1 Axes>"
      ]
     },
     "metadata": {
      "needs_background": "light"
     },
     "output_type": "display_data"
    }
   ],
   "source": [
    "plot_metrics('wine_quality_root_mean_squared_error', 'RMSE', ylim=2)"
   ]
  },
  {
   "cell_type": "code",
   "execution_count": 56,
   "metadata": {
    "colab": {},
    "colab_type": "code",
    "id": "QIAxEezCppnd"
   },
   "outputs": [
    {
     "data": {
      "image/png": "[encoded data removed]",
      "text/plain": [
       "<Figure size 432x288 with 1 Axes>"
      ]
     },
     "metadata": {
      "needs_background": "light"
     },
     "output_type": "display_data"
    }
   ],
   "source": [
    "plot_metrics('wine_type_loss', 'Wine Type Loss', ylim=0.2)"
   ]
  },
  {
   "cell_type": "markdown",
   "metadata": {
    "colab_type": "text",
    "id": "uYV9AOAMwI9p"
   },
   "source": [
    "### Plots for Confusion Matrix\n",
    "\n",
    "Plot the confusion matrices for wine type. You can see that the model performs well for prediction of wine type from the confusion matrix and the loss metrics."
   ]
  },
  {
   "cell_type": "code",
   "execution_count": 57,
   "metadata": {
    "colab": {},
    "colab_type": "code",
    "id": "C3hvTYxIaf3n"
   },
   "outputs": [
    {
     "data": {
      "image/png": "[encoded data removed]",
      "text/plain": [
       "<Figure size 432x288 with 2 Axes>"
      ]
     },
     "metadata": {
      "needs_background": "light"
     },
     "output_type": "display_data"
    }
   ],
   "source": [
    "plot_confusion_matrix(test_Y[1], np.round(type_pred), title='Wine Type', labels = [0, 1])"
   ]
  },
  {
   "cell_type": "code",
   "execution_count": 58,
   "metadata": {
    "colab": {},
    "colab_type": "code",
    "id": "GW91ym8P2I5y"
   },
   "outputs": [
    {
     "data": {
      "image/png": "[encoded data removed]",
      "text/plain": [
       "<Figure size 432x288 with 1 Axes>"
      ]
     },
     "metadata": {
      "needs_background": "light"
     },
     "output_type": "display_data"
    }
   ],
   "source": [
    "scatter_plot = plot_diff(test_Y[0], quality_pred, title='Type')"
   ]
  },
  {
   "cell_type": "code",
   "execution_count": null,
   "metadata": {},
   "outputs": [],
   "source": []
  }
 ],
 "metadata": {
  "colab": {
   "include_colab_link": true,
   "name": "exercise-answer.ipynb",
   "provenance": []
  },
  "kernelspec": {
   "display_name": "Python 3",
   "language": "python",
   "name": "python3"
  },
  "language_info": {
   "codemirror_mode": {
    "name": "ipython",
    "version": 3
   },
   "file_extension": ".py",
   "mimetype": "text/x-python",
   "name": "python",
   "nbconvert_exporter": "python",
   "pygments_lexer": "ipython3",
   "version": "3.7.6"
  }
 },
 "nbformat": 4,
 "nbformat_minor": 4
}
